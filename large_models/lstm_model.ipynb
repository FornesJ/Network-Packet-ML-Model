{
 "cells": [
  {
   "cell_type": "code",
   "execution_count": 1,
   "id": "4ec8db28",
   "metadata": {},
   "outputs": [],
   "source": [
    "import os\n",
    "import sys\n",
    "sys.path.append(os.path.join(os.getcwd().replace(\"large_models\", \"\")))\n",
    "\n",
    "import torch\n",
    "import torch.nn as nn\n",
    "import torch.nn.functional as F\n",
    "from torch.utils.data import DataLoader\n",
    "import matplotlib.pyplot as plt\n",
    "from parse_dataset import NetworkDataset, parse_dataset, split_datasets\n",
    "from model import Model"
   ]
  },
  {
   "cell_type": "code",
   "execution_count": 1,
   "id": "79f84748",
   "metadata": {},
   "outputs": [],
   "source": [
    "conf = {\n",
    "    \"batch_size\": 512,\n",
    "    \"epochs\": 10,\n",
    "    \"learning_rate\": 0.0001,\n",
    "    \"load_model\": True\n",
    "}"
   ]
  },
  {
   "cell_type": "code",
   "execution_count": 3,
   "id": "e329129d",
   "metadata": {},
   "outputs": [
    {
     "name": "stdout",
     "output_type": "stream",
     "text": [
      "cuda\n"
     ]
    }
   ],
   "source": [
    "device = torch.device(\"cuda\" if torch.cuda.is_available() else \"cpu\")\n",
    "print(device)"
   ]
  },
  {
   "cell_type": "code",
   "execution_count": 5,
   "id": "ce9878c3",
   "metadata": {},
   "outputs": [
    {
     "name": "stdout",
     "output_type": "stream",
     "text": [
      "packet_dat,attack_cat\n",
      "\n",
      "torch.Size([356334, 513, 1])\n",
      "torch.Size([356334])\n"
     ]
    }
   ],
   "source": [
    "# extract dataset from csv file\n",
    "network_data_file = os.path.join(os.getcwd().replace(\"large_models\", \"\"), \"datasets\", \"network_packet_data_test.csv\")\n",
    "\n",
    "data, labels, label_dict = parse_dataset(network_data_file)\n",
    "\n",
    "X_train, y_train, X_val, y_val, X_test, y_test = split_datasets(data, labels)\n",
    "X_train, X_val, X_test = X_train.unsqueeze(-1), X_val.unsqueeze(-1), X_test.unsqueeze(-1)\n",
    "print(X_train.shape)\n",
    "print(y_train.shape)\n",
    "\n",
    "# create train, val and test datasets\n",
    "train_dataset = NetworkDataset(X_train, y_train)\n",
    "train_loader = DataLoader(train_dataset, batch_size=conf[\"batch_size\"], shuffle=True)\n",
    "\n",
    "val_dataset = NetworkDataset(X_val, y_val)\n",
    "val_loader = DataLoader(val_dataset, batch_size=conf[\"batch_size\"], shuffle=True)\n",
    "\n",
    "test_dataset = NetworkDataset(X_test, y_test)\n",
    "test_loader = DataLoader(test_dataset, batch_size=conf[\"batch_size\"])"
   ]
  },
  {
   "cell_type": "code",
   "execution_count": 6,
   "id": "ee020973",
   "metadata": {},
   "outputs": [
    {
     "name": "stdout",
     "output_type": "stream",
     "text": [
      "torch.Size([512, 513, 1]) torch.Size([512])\n"
     ]
    }
   ],
   "source": [
    "data, labels = next(iter(train_loader))\n",
    "print(data.shape, labels.shape)"
   ]
  },
  {
   "cell_type": "code",
   "execution_count": 7,
   "id": "23137462",
   "metadata": {},
   "outputs": [],
   "source": [
    "# create LSTM model:\n",
    "class INML(nn.Module):\n",
    "    def __init__(self, i_size, h_size):\n",
    "        super(INML, self).__init__()\n",
    "        self.i_size = i_size\n",
    "        self.h_size = h_size\n",
    "        self.lstm1 = nn.LSTM(input_size=i_size, hidden_size=h_size, num_layers=4, batch_first=True, dropout=0.15, bidirectional=True, device=device)\n",
    "        self.bn1 = nn.BatchNorm1d(2 * h_size)\n",
    "\n",
    "        self.fc = nn.Sequential(\n",
    "            nn.Linear(2*h_size, 128),\n",
    "            nn.BatchNorm1d(128),\n",
    "            nn.ReLU(),\n",
    "            nn.Dropout(p=0.15),\n",
    "            nn.Linear(128, 24)\n",
    "        )\n",
    "        \n",
    "    def forward(self, x, h0=None, c0=None):\n",
    "        if h0 is None or c0 is None:\n",
    "            h0 = torch.zeros(8, x.shape[0], self.h_size).to(device)\n",
    "            c0 = torch.zeros(8, x.shape[0], self.h_size).to(device)\n",
    "\n",
    "        output, (h0, c0) = self.lstm1(x, (h0, c0))  # output: [B, T, 2*h_size]\n",
    "\n",
    "        # take last layer's hidden state (both directions)\n",
    "        # h0 shape: [num_layers*2, B, size]\n",
    "        h_last = h0.view(4, 2, x.shape[0], self.h_size)[-1]  # [2, B, h_size]\n",
    "        h_last = torch.cat((h_last[0], h_last[1]), dim=1)  # [B, 2*h_size]\n",
    "\n",
    "        # apply BN + FC\n",
    "        h_last = self.bn1(h_last)         # [B, 2*h_size] → batch norm\n",
    "\n",
    "\n",
    "        out = self.fc(h_last)            # [B, 24]\n",
    "        return out"
   ]
  },
  {
   "cell_type": "code",
   "execution_count": 8,
   "id": "8ca97a32",
   "metadata": {},
   "outputs": [],
   "source": [
    "class FocalLoss(nn.Module):\n",
    "    def __init__(self, gamma=2.1, alpha=0.9, reduction='mean'):\n",
    "        super(FocalLoss, self).__init__()\n",
    "        self.gamma = gamma\n",
    "        self.alpha = alpha\n",
    "        self.reduction = reduction\n",
    "\n",
    "    def forward(self, inputs, targets):\n",
    "        ce_loss = F.cross_entropy(inputs, targets, reduction='none')\n",
    "        pt = torch.exp(-ce_loss)\n",
    "        focal_loss = self.alpha * (1 - pt) ** self.gamma * ce_loss\n",
    "\n",
    "        if self.reduction == 'mean':\n",
    "            return focal_loss.mean()\n",
    "        elif self.reduction == 'sum':\n",
    "            return focal_loss.sum()\n",
    "        else:\n",
    "            return focal_loss"
   ]
  },
  {
   "cell_type": "code",
   "execution_count": 10,
   "id": "e68512d7",
   "metadata": {},
   "outputs": [],
   "source": [
    "model = INML(X_train.shape[2], 64).to(device)\n",
    "criterion = FocalLoss()\n",
    "optimizer = torch.optim.AdamW(model.parameters(), lr=conf[\"learning_rate\"], weight_decay=0.01)\n",
    "scheduler = torch.optim.lr_scheduler.ExponentialLR(optimizer, 0.9)\n",
    "\n",
    "teacher = Model(model, criterion, optimizer, scheduler, device)\n",
    "\n",
    "if conf[\"load_model\"]:\n",
    "    # load model\n",
    "    checkpoint_path = os.path.join(os.getcwd().replace(\"large_models\", \"\"), \"checkpoint\", \"lstm_model.pth\")\n",
    "    teacher.load(checkpoint_path)"
   ]
  },
  {
   "cell_type": "code",
   "execution_count": 11,
   "id": "48ee9ad1",
   "metadata": {},
   "outputs": [],
   "source": [
    "def plot_data(data, type, title, n_epochs=conf[\"epochs\"]):\n",
    "    epochs = [epoch for epoch in range(1, n_epochs + 1)]\n",
    "    data = [d.to('cpu') for d in data]\n",
    "    plt.plot(epochs, data, marker=\"+\", linestyle=\"dotted\")\n",
    "    plt.title(title)\n",
    "    plt.xlabel(\"Epochs\")\n",
    "    plt.ylabel(type)\n",
    "    plt.show()"
   ]
  },
  {
   "cell_type": "code",
   "execution_count": 12,
   "id": "ac1e66c9",
   "metadata": {},
   "outputs": [
    {
     "name": "stdout",
     "output_type": "stream",
     "text": [
      "Epoch: 1/10, Accuracy: 90.76%, Train loss: 0.6450, Val loss: 0.1853\n",
      "Epoch: 2/10, Accuracy: 94.23%, Train loss: 0.1497, Val loss: 0.0862\n",
      "Epoch: 3/10, Accuracy: 95.34%, Train loss: 0.0893, Val loss: 0.0634\n",
      "Epoch: 4/10, Accuracy: 96.21%, Train loss: 0.0694, Val loss: 0.0531\n",
      "Epoch: 5/10, Accuracy: 96.49%, Train loss: 0.0602, Val loss: 0.0490\n",
      "Epoch: 6/10, Accuracy: 96.57%, Train loss: 0.0572, Val loss: 0.0466\n",
      "Epoch: 7/10, Accuracy: 96.62%, Train loss: 0.0525, Val loss: 0.0454\n",
      "Epoch: 8/10, Accuracy: 97.01%, Train loss: 0.0497, Val loss: 0.0407\n",
      "Epoch: 9/10, Accuracy: 97.07%, Train loss: 0.0468, Val loss: 0.0394\n",
      "Epoch: 10/10, Accuracy: 97.08%, Train loss: 0.0447, Val loss: 0.0377\n"
     ]
    },
    {
     "data": {
      "image/png": "[encoded data removed]",
      "text/plain": [
       "<Figure size 640x480 with 1 Axes>"
      ]
     },
     "metadata": {},
     "output_type": "display_data"
    }
   ],
   "source": [
    "accuracy = []\n",
    "train_loss = []\n",
    "val_loss = []\n",
    "\n",
    "if not conf[\"load_model\"]:\n",
    "    accuracy, train_loss, val_loss = teacher.train(train_loader=train_loader, val_loader=val_loader, epochs=conf[\"epochs\"])\n",
    "    plot_data(accuracy, type=\"Accuracy\", title=\"Model Accuracy\")"
   ]
  },
  {
   "cell_type": "code",
   "execution_count": 13,
   "id": "2a2c0e93",
   "metadata": {},
   "outputs": [
    {
     "name": "stdout",
     "output_type": "stream",
     "text": [
      "Accuracy: 97.06%, Test loss: 0.0381\n"
     ]
    }
   ],
   "source": [
    "test_loss, test_acc = teacher.evaluate(test_loader)\n",
    "print(f\"Accuracy: {100*test_acc:.2f}%, Test loss: {test_loss:.4f}\")"
   ]
  },
  {
   "cell_type": "code",
   "execution_count": 14,
   "id": "264ee872",
   "metadata": {},
   "outputs": [
    {
     "name": "stdout",
     "output_type": "stream",
     "text": [
      "Checkpoint loaded from /home/jorgetf/testmodel/Network-Packet-ML-Model/checkpoint/lstm_model.pth!\n"
     ]
    }
   ],
   "source": [
    "if not conf[\"load_model\"]:\n",
    "    # load model\n",
    "    checkpoint_path = os.path.join(os.getcwd().replace(\"large_models\", \"\"), \"checkpoint\", \"lstm_model.pth\")\n",
    "    teacher.load(checkpoint_path=checkpoint_path)"
   ]
  }
 ],
 "metadata": {
  "kernelspec": {
   "display_name": ".venv",
   "language": "python",
   "name": "python3"
  },
  "language_info": {
   "codemirror_mode": {
    "name": "ipython",
    "version": 3
   },
   "file_extension": ".py",
   "mimetype": "text/x-python",
   "name": "python",
   "nbconvert_exporter": "python",
   "pygments_lexer": "ipython3",
   "version": "3.10.12"
  }
 },
 "nbformat": 4,
 "nbformat_minor": 5
}
