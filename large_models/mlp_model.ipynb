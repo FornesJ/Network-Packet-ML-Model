{
 "cells": [
  {
   "cell_type": "code",
   "execution_count": 1,
   "id": "d054cc2b",
   "metadata": {},
   "outputs": [],
   "source": [
    "import os\n",
    "import sys\n",
    "sys.path.append(os.path.join(os.getcwd().replace(\"large_models\", \"\")))\n",
    "\n",
    "import torch\n",
    "import torch.nn as nn\n",
    "import torch.nn.functional as F\n",
    "from torch.utils.data import DataLoader\n",
    "import matplotlib.pyplot as plt\n",
    "from parse_dataset import NetworkDataset, parse_dataset, split_datasets\n",
    "from model import Model"
   ]
  },
  {
   "cell_type": "code",
   "execution_count": 16,
   "id": "2d6f340e",
   "metadata": {},
   "outputs": [],
   "source": [
    "conf = {\n",
    "    \"batch_size\": 516,\n",
    "    \"epochs\": 15,\n",
    "    \"learning_rate\": 0.0001,\n",
    "    \"load_model\": True\n",
    "}"
   ]
  },
  {
   "cell_type": "code",
   "execution_count": 4,
   "id": "74c1e868",
   "metadata": {},
   "outputs": [],
   "source": [
    "device = torch.device(\"cuda\" if torch.cuda.is_available() else \"cpu\")"
   ]
  },
  {
   "cell_type": "code",
   "execution_count": 5,
   "id": "ef4d118b",
   "metadata": {},
   "outputs": [
    {
     "name": "stdout",
     "output_type": "stream",
     "text": [
      "packet_dat,attack_cat\n",
      "\n",
      "torch.Size([356334, 513])\n",
      "torch.Size([356334])\n"
     ]
    }
   ],
   "source": [
    "# extract dataset from csv file\n",
    "network_data_file = os.path.join(os.getcwd().replace(\"large_models\", \"\"), \"datasets\", \"network_packet_data_test.csv\")\n",
    "data, labels, label_dict = parse_dataset(network_data_file)\n",
    "\n",
    "# split dataset into train, val and test datasets\n",
    "X_train, y_train, X_val, y_val, X_test, y_test = split_datasets(data, labels)\n",
    "print(X_train.shape)\n",
    "print(y_train.shape)\n",
    "\n",
    "# create train, val and test dataloaders\n",
    "train_dataset = NetworkDataset(X_train, y_train)\n",
    "train_loader = DataLoader(train_dataset, batch_size=conf[\"batch_size\"], shuffle=True)\n",
    "\n",
    "val_dataset = NetworkDataset(X_val, y_val)\n",
    "val_loader = DataLoader(val_dataset, batch_size=conf[\"batch_size\"], shuffle=True)\n",
    "\n",
    "test_dataset = NetworkDataset(X_test, y_test)\n",
    "test_loader = DataLoader(test_dataset, batch_size=conf[\"batch_size\"])"
   ]
  },
  {
   "cell_type": "code",
   "execution_count": 6,
   "id": "c37098e8",
   "metadata": {},
   "outputs": [
    {
     "name": "stdout",
     "output_type": "stream",
     "text": [
      "torch.Size([516, 513]) torch.Size([516])\n"
     ]
    }
   ],
   "source": [
    "data, labels = next(iter(train_loader))\n",
    "print(data.shape, labels.shape)"
   ]
  },
  {
   "cell_type": "code",
   "execution_count": 7,
   "id": "7c82c3eb",
   "metadata": {},
   "outputs": [],
   "source": [
    "# create LSTM model:\n",
    "class MLP(nn.Module):\n",
    "    def __init__(self, size):\n",
    "        super(MLP, self).__init__()\n",
    "        self.mlp = nn.Sequential(\n",
    "            nn.Linear(size, 320),\n",
    "            nn.BatchNorm1d(320),\n",
    "            nn.ReLU(),\n",
    "            nn.Dropout(p=0.10),\n",
    "\n",
    "            nn.Linear(320, 24)\n",
    "        )\n",
    "    \n",
    "    def forward(self, x):\n",
    "        out = self.mlp(x)\n",
    "        return out"
   ]
  },
  {
   "cell_type": "code",
   "execution_count": 8,
   "id": "c63de131",
   "metadata": {},
   "outputs": [],
   "source": [
    "class FocalLoss(nn.Module):\n",
    "    def __init__(self, gamma=2.1, alpha=0.9, reduction='mean'):\n",
    "        super(FocalLoss, self).__init__()\n",
    "        self.gamma = gamma\n",
    "        self.alpha = alpha\n",
    "        self.reduction = reduction\n",
    "\n",
    "    def forward(self, inputs, targets):\n",
    "        ce_loss = F.cross_entropy(inputs, targets, reduction='none')\n",
    "        pt = torch.exp(-ce_loss)\n",
    "        focal_loss = self.alpha * (1 - pt) ** self.gamma * ce_loss\n",
    "\n",
    "        if self.reduction == 'mean':\n",
    "            return focal_loss.mean()\n",
    "        elif self.reduction == 'sum':\n",
    "            return focal_loss.sum()\n",
    "        else:\n",
    "            return focal_loss"
   ]
  },
  {
   "cell_type": "code",
   "execution_count": null,
   "id": "99f38a72",
   "metadata": {},
   "outputs": [],
   "source": [
    "model = MLP(X_train.shape[1]).to(device)\n",
    "criterion = FocalLoss()\n",
    "optimizer = torch.optim.AdamW(model.parameters(), lr=conf[\"learning_rate\"], weight_decay=0.01)\n",
    "scheduler = torch.optim.lr_scheduler.ExponentialLR(optimizer, 0.9)\n",
    "\n",
    "teacher = Model(model, criterion, optimizer, scheduler, device)\n",
    "\n",
    "if conf[\"load_model\"]:\n",
    "    # load model\n",
    "    checkpoint_path = os.path.join(os.getcwd().replace(\"large_models\", \"\"), \"checkpoint\", \"mlp_model.pth\")\n",
    "    teacher.load(checkpoint_path)"
   ]
  },
  {
   "cell_type": "code",
   "execution_count": 12,
   "id": "a8c6fbb7",
   "metadata": {},
   "outputs": [],
   "source": [
    "def plot_data(data, type, title, n_epochs=conf[\"epochs\"]):\n",
    "    epochs = [epoch for epoch in range(1, n_epochs + 1)]\n",
    "    data = [d.to('cpu') for d in data]\n",
    "    plt.plot(epochs, data, marker=\"+\", linestyle=\"dotted\")\n",
    "    plt.title(title)\n",
    "    plt.xlabel(\"Epochs\")\n",
    "    plt.ylabel(type)\n",
    "    plt.show()"
   ]
  },
  {
   "cell_type": "code",
   "execution_count": 13,
   "id": "fd0a7f76",
   "metadata": {},
   "outputs": [
    {
     "name": "stdout",
     "output_type": "stream",
     "text": [
      "Epoch: 1/15, Accuracy: 47.48%, Train loss: 1.4265, Val loss: 1.4935\n",
      "Epoch: 2/15, Accuracy: 64.13%, Train loss: 0.8091, Val loss: 0.9776\n",
      "Epoch: 3/15, Accuracy: 69.39%, Train loss: 0.6418, Val loss: 0.7708\n",
      "Epoch: 4/15, Accuracy: 71.99%, Train loss: 0.5352, Val loss: 0.7511\n",
      "Epoch: 5/15, Accuracy: 74.12%, Train loss: 0.4706, Val loss: 0.6106\n",
      "Epoch: 6/15, Accuracy: 74.68%, Train loss: 0.4306, Val loss: 0.5853\n",
      "Epoch: 7/15, Accuracy: 71.51%, Train loss: 0.3949, Val loss: 0.6782\n",
      "Epoch: 8/15, Accuracy: 78.88%, Train loss: 0.3639, Val loss: 0.4330\n",
      "Epoch: 9/15, Accuracy: 76.57%, Train loss: 0.3268, Val loss: 0.5044\n",
      "Epoch: 10/15, Accuracy: 78.68%, Train loss: 0.3087, Val loss: 0.4493\n",
      "Epoch: 11/15, Accuracy: 76.26%, Train loss: 0.2925, Val loss: 0.5173\n",
      "Epoch: 12/15, Accuracy: 80.28%, Train loss: 0.2715, Val loss: 0.3948\n",
      "Epoch: 13/15, Accuracy: 82.52%, Train loss: 0.2629, Val loss: 0.3195\n",
      "Epoch: 14/15, Accuracy: 83.11%, Train loss: 0.2466, Val loss: 0.3022\n",
      "Epoch: 15/15, Accuracy: 82.41%, Train loss: 0.2359, Val loss: 0.3115\n"
     ]
    },
    {
     "data": {
      "image/png": "[encoded data removed]",
      "text/plain": [
       "<Figure size 640x480 with 1 Axes>"
      ]
     },
     "metadata": {},
     "output_type": "display_data"
    }
   ],
   "source": [
    "accuracy = []\n",
    "train_loss = []\n",
    "val_loss = []\n",
    "\n",
    "if not conf[\"load_model\"]:\n",
    "    accuracy, train_loss, val_loss = teacher.train(train_loader=train_loader, val_loader=val_loader, epochs=conf[\"epochs\"])\n",
    "    plot_data(accuracy, type=\"Accuracy\", title=\"Model Accuracy\")"
   ]
  },
  {
   "cell_type": "code",
   "execution_count": 14,
   "id": "d5d3942b",
   "metadata": {},
   "outputs": [
    {
     "name": "stdout",
     "output_type": "stream",
     "text": [
      "Accuracy: 82.22%, Test loss: 0.3169\n"
     ]
    }
   ],
   "source": [
    "test_loss, test_acc = teacher.evaluate(test_loader)\n",
    "print(f\"Accuracy: {100*test_acc:.2f}%, Test loss: {test_loss:.4f}\")"
   ]
  },
  {
   "cell_type": "code",
   "execution_count": 15,
   "id": "7c68ebd6",
   "metadata": {},
   "outputs": [
    {
     "name": "stdout",
     "output_type": "stream",
     "text": [
      "Checkpoint loaded from /home/jorgetf/testmodel/Network-Packet-ML-Model/checkpoint/mlp_model.pth!\n"
     ]
    }
   ],
   "source": [
    "if not conf[\"load_model\"]:\n",
    "    # load model\n",
    "    checkpoint_path = os.path.join(os.getcwd().replace(\"large_models\", \"\"), \"checkpoint\", \"mlp_model.pth\")\n",
    "    teacher.load(checkpoint_path=checkpoint_path)"
   ]
  }
 ],
 "metadata": {
  "kernelspec": {
   "display_name": ".venv",
   "language": "python",
   "name": "python3"
  },
  "language_info": {
   "codemirror_mode": {
    "name": "ipython",
    "version": 3
   },
   "file_extension": ".py",
   "mimetype": "text/x-python",
   "name": "python",
   "nbconvert_exporter": "python",
   "pygments_lexer": "ipython3",
   "version": "3.10.12"
  }
 },
 "nbformat": 4,
 "nbformat_minor": 5
}
