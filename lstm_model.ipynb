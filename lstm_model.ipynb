{
 "cells": [
  {
   "cell_type": "code",
   "execution_count": 1,
   "id": "4ec8db28",
   "metadata": {},
   "outputs": [],
   "source": [
    "import os\n",
    "import torch\n",
    "import torch.nn as nn\n",
    "from torch.utils.data import DataLoader, Dataset\n",
    "import random\n",
    "from sklearn.model_selection import StratifiedShuffleSplit\n",
    "import matplotlib.pyplot as plt\n",
    "from parse_dataset import NetworkDataset, parse_dataset, split_datasets"
   ]
  },
  {
   "cell_type": "code",
   "execution_count": 2,
   "id": "79f84748",
   "metadata": {},
   "outputs": [],
   "source": [
    "conf = {\n",
    "    \"batch_size\": 512,\n",
    "    \"epochs\": 10,\n",
    "    \"learning_rate\": 0.0001,\n",
    "    \"load_model\": True\n",
    "}"
   ]
  },
  {
   "cell_type": "code",
   "execution_count": 3,
   "id": "e329129d",
   "metadata": {},
   "outputs": [
    {
     "name": "stdout",
     "output_type": "stream",
     "text": [
      "cuda\n"
     ]
    }
   ],
   "source": [
    "device = torch.device(\"cuda\" if torch.cuda.is_available() else \"cpu\")\n",
    "print(device)"
   ]
  },
  {
   "cell_type": "code",
   "execution_count": 4,
   "id": "ce9878c3",
   "metadata": {},
   "outputs": [
    {
     "name": "stdout",
     "output_type": "stream",
     "text": [
      "packet_dat,attack_cat\n",
      "\n",
      "torch.Size([356334, 513, 1])\n",
      "torch.Size([356334])\n"
     ]
    }
   ],
   "source": [
    "# extract dataset from csv file\n",
    "network_data_file = os.path.join(os.getcwd(), \"datasets\", \"network_packet_data_test.csv\")\n",
    "\n",
    "data, labels, label_dict = parse_dataset(network_data_file)\n",
    "\n",
    "X_train, y_train, X_val, y_val, X_test, y_test = split_datasets(data, labels)\n",
    "X_train, X_val, X_test = X_train.unsqueeze(-1), X_val.unsqueeze(-1), X_test.unsqueeze(-1)\n",
    "print(X_train.shape)\n",
    "print(y_train.shape)\n",
    "\n",
    "# create train, val and test datasets\n",
    "train_dataset = NetworkDataset(X_train, y_train)\n",
    "train_loader = DataLoader(train_dataset, batch_size=conf[\"batch_size\"], shuffle=True)\n",
    "\n",
    "val_dataset = NetworkDataset(X_val, y_val)\n",
    "val_loader = DataLoader(val_dataset, batch_size=conf[\"batch_size\"], shuffle=True)\n",
    "\n",
    "test_dataset = NetworkDataset(X_test, y_test)\n",
    "test_loader = DataLoader(test_dataset, batch_size=conf[\"batch_size\"])"
   ]
  },
  {
   "cell_type": "code",
   "execution_count": 5,
   "id": "ee020973",
   "metadata": {},
   "outputs": [
    {
     "name": "stdout",
     "output_type": "stream",
     "text": [
      "torch.Size([512, 513, 1]) torch.Size([512])\n"
     ]
    }
   ],
   "source": [
    "data, labels = next(iter(train_loader))\n",
    "print(data.shape, labels.shape)"
   ]
  },
  {
   "cell_type": "code",
   "execution_count": 6,
   "id": "23137462",
   "metadata": {},
   "outputs": [],
   "source": [
    "# create LSTM model:\n",
    "class INML(nn.Module):\n",
    "    def __init__(self, i_size, h_size):\n",
    "        super(INML, self).__init__()\n",
    "        self.i_size = i_size\n",
    "        self.h_size = h_size\n",
    "        self.lstm1 = nn.LSTM(input_size=i_size, hidden_size=h_size, num_layers=4, batch_first=True, dropout=0.15, bidirectional=True, device=device)\n",
    "        self.bn1 = nn.BatchNorm1d(2 * h_size)\n",
    "\n",
    "        self.fc = nn.Sequential(\n",
    "            nn.Linear(2*h_size, 128),\n",
    "            nn.BatchNorm1d(128),\n",
    "            nn.ReLU(),\n",
    "            nn.Dropout(p=0.15),\n",
    "            nn.Linear(128, 24)\n",
    "        )\n",
    "        \n",
    "    def forward(self, x, h0=None, c0=None):\n",
    "        if h0 is None or c0 is None:\n",
    "            h0 = torch.zeros(8, x.shape[0], self.h_size).to(device)\n",
    "            c0 = torch.zeros(8, x.shape[0], self.h_size).to(device)\n",
    "\n",
    "        output, (h0, c0) = self.lstm1(x, (h0, c0))  # output: [B, T, 2*h_size]\n",
    "\n",
    "        # take last layer's hidden state (both directions)\n",
    "        # h0 shape: [num_layers*2, B, size]\n",
    "        h_last = h0.view(4, 2, x.shape[0], self.h_size)[-1]  # [2, B, h_size]\n",
    "        h_last = torch.cat((h_last[0], h_last[1]), dim=1)  # [B, 2*h_size]\n",
    "\n",
    "        # apply BN + FC\n",
    "        h_last = self.bn1(h_last)         # [B, 2*h_size] → batch norm\n",
    "\n",
    "\n",
    "        out = self.fc(h_last)            # [B, 24]\n",
    "        return out"
   ]
  },
  {
   "cell_type": "code",
   "execution_count": null,
   "id": "e68512d7",
   "metadata": {},
   "outputs": [
    {
     "name": "stdout",
     "output_type": "stream",
     "text": [
      "Checkpoint loaded from /home/jorgetf/testmodel/Network-Packet-ML-Model/checkpoint/lstm_model.pth, starting from epoch 10\n"
     ]
    }
   ],
   "source": [
    "model = INML(X_train.shape[2], 64).to(device)\n",
    "criterion = nn.CrossEntropyLoss()\n",
    "optimizer = torch.optim.AdamW(model.parameters(), lr=conf[\"learning_rate\"], weight_decay=0.01)\n",
    "scheduler = torch.optim.lr_scheduler.ExponentialLR(optimizer, 0.9)\n",
    "\n",
    "if conf[\"load_model\"]:\n",
    "    # load model\n",
    "    checkpoint_path = os.path.join(os.getcwd(), \"checkpoint\", \"lstm_model.pth\")\n",
    "\n",
    "    checkpoint = torch.load(checkpoint_path, map_location=torch.device(device=device))\n",
    "\n",
    "    model.load_state_dict(checkpoint[\"model_state_dict\"])\n",
    "    optimizer.load_state_dict(checkpoint[\"optimizer_state_dict\"])\n",
    "    scheduler.load_state_dict(checkpoint[\"scheduler_state_dict\"])\n",
    "    epoch = checkpoint[\"epoch\"]\n",
    "\n",
    "    print(f\"Checkpoint loaded from {checkpoint_path}, starting from epoch {epoch}\")"
   ]
  },
  {
   "cell_type": "code",
   "execution_count": 8,
   "id": "3fc1d04a",
   "metadata": {},
   "outputs": [],
   "source": [
    "def evaluate(model, val_loader):\n",
    "    y_true, y_pred = [], []\n",
    "\n",
    "    model.eval()\n",
    "    for (data, labels) in val_loader:\n",
    "        if not data.is_cuda or not labels.is_cuda:\n",
    "            data, labels = data.to(device), labels.to(device)\n",
    "        \n",
    "        with torch.no_grad():\n",
    "            pred = model(data)\n",
    "        \n",
    "        y_true.append(labels)\n",
    "        y_pred.append(pred)\n",
    "\n",
    "    y_true, y_pred = torch.cat(y_true, dim=0), torch.cat(y_pred, dim=0)\n",
    "\n",
    "    loss = criterion(y_pred, y_true)\n",
    "\n",
    "    # evaluate accuracy\n",
    "\n",
    "    acc = (y_pred.argmax(dim=1) == y_true).float().mean()\n",
    "\n",
    "    return loss, acc"
   ]
  },
  {
   "cell_type": "code",
   "execution_count": 9,
   "id": "6de785e0",
   "metadata": {},
   "outputs": [],
   "source": [
    "def train(model, train_loader, val_loader, epochs=conf[\"epochs\"]):\n",
    "    acc_list = []\n",
    "    train_loss_list = []\n",
    "    val_loss_list = []\n",
    "\n",
    "    for epoch in range(1, epochs + 1):\n",
    "        model.train()\n",
    "        running_loss = 0.0\n",
    "\n",
    "        # train model\n",
    "        for (data, labels) in train_loader:\n",
    "            if not data.is_cuda or not labels.is_cuda:\n",
    "                data, labels = data.to(device), labels.to(device)\n",
    "\n",
    "            pred = model(data)\n",
    "            loss = criterion(pred, labels)\n",
    "            running_loss += loss.item() * data.size(0)\n",
    "\n",
    "            optimizer.zero_grad()\n",
    "            loss.backward()\n",
    "            optimizer.step()\n",
    "        \n",
    "        # evaluate model\n",
    "        val_loss, acc = evaluate(model, val_loader)\n",
    "        train_loss = running_loss / X_train.shape[0]\n",
    "        scheduler.step()\n",
    "\n",
    "        acc_list.append(acc)\n",
    "        train_loss_list.append(train_loss)\n",
    "        val_loss_list.append(val_loss)\n",
    "    \n",
    "        print(f\"Epoch: {epoch}/{epochs}, Accuracy: {acc:.4f}, Train loss: {train_loss:.4f}, Val loss: {val_loss:.4f}\")\n",
    "\n",
    "    return acc_list, train_loss_list, val_loss_list"
   ]
  },
  {
   "cell_type": "code",
   "execution_count": null,
   "id": "48ee9ad1",
   "metadata": {},
   "outputs": [],
   "source": [
    "def plot_data(data, type, title, n_epochs=conf[\"epochs\"]):\n",
    "    epochs = [epoch for epoch in range(1, n_epochs + 1)]\n",
    "    data = [d.to('cpu') for d in data]\n",
    "    plt.plot(epochs, data, marker=\"+\", linestyle=\"dotted\")\n",
    "    plt.title(title)\n",
    "    plt.xlabel(\"Epochs\")\n",
    "    plt.ylabel(type)\n",
    "    plt.show()"
   ]
  },
  {
   "cell_type": "code",
   "execution_count": null,
   "id": "ac1e66c9",
   "metadata": {},
   "outputs": [
    {
     "name": "stdout",
     "output_type": "stream",
     "text": [
      "Epoch: 1/10, Accuracy: 0.8952, Train loss: 1.0626, Val loss: 0.3707\n",
      "Epoch: 2/10, Accuracy: 0.9376, Train loss: 0.2987, Val loss: 0.1971\n",
      "Epoch: 3/10, Accuracy: 0.9517, Train loss: 0.1972, Val loss: 0.1501\n",
      "Epoch: 4/10, Accuracy: 0.9622, Train loss: 0.1577, Val loss: 0.1248\n",
      "Epoch: 5/10, Accuracy: 0.9636, Train loss: 0.1383, Val loss: 0.1132\n",
      "Epoch: 6/10, Accuracy: 0.9625, Train loss: 0.1251, Val loss: 0.1096\n",
      "Epoch: 7/10, Accuracy: 0.9684, Train loss: 0.1172, Val loss: 0.1000\n",
      "Epoch: 8/10, Accuracy: 0.9687, Train loss: 0.1146, Val loss: 0.0990\n",
      "Epoch: 9/10, Accuracy: 0.9700, Train loss: 0.1090, Val loss: 0.0934\n",
      "Epoch: 10/10, Accuracy: 0.9713, Train loss: 0.1040, Val loss: 0.0905\n"
     ]
    }
   ],
   "source": [
    "accuracy = []\n",
    "train_loss = []\n",
    "val_loss = []\n",
    "\n",
    "if not conf[\"load_model\"]:\n",
    "    accuracy, train_loss, val_loss = train(model=model, train_loader=train_loader, val_loader=val_loader)\n",
    "    plot_data(accuracy, type=\"Accuracy\", title=\"Model Accuracy\")"
   ]
  },
  {
   "cell_type": "code",
   "execution_count": 17,
   "id": "d58c3ac3",
   "metadata": {},
   "outputs": [
    {
     "data": {
      "image/png": "[encoded data removed]",
      "text/plain": [
       "<Figure size 640x480 with 1 Axes>"
      ]
     },
     "metadata": {},
     "output_type": "display_data"
    }
   ],
   "source": [
    "plot_data(accuracy, type=\"Accuracy\", title=\"Model Accuracy\")"
   ]
  },
  {
   "cell_type": "code",
   "execution_count": 10,
   "id": "2a2c0e93",
   "metadata": {},
   "outputs": [
    {
     "name": "stdout",
     "output_type": "stream",
     "text": [
      "Accuracy: 97.14%, Test loss: 0.0918\n"
     ]
    }
   ],
   "source": [
    "test_loss, test_acc = evaluate(model, test_loader)\n",
    "print(f\"Accuracy: {100*test_acc:.2f}%, Test loss: {test_loss:.4f}\")"
   ]
  },
  {
   "cell_type": "code",
   "execution_count": 11,
   "id": "e2ad9822",
   "metadata": {},
   "outputs": [],
   "source": [
    "def save_model(checkpoint_path, model, optimizer, scheduler):\n",
    "    checkpoint = {\n",
    "        \"epoch\": conf[\"epochs\"],\n",
    "        \"model_state_dict\": model.state_dict(),\n",
    "        \"optimizer_state_dict\": optimizer.state_dict(),\n",
    "        \"scheduler_state_dict\": scheduler.state_dict()\n",
    "    }\n",
    "\n",
    "    torch.save(checkpoint, checkpoint_path)\n",
    "    print(f\"Checkpoint saved at {checkpoint_path}\")"
   ]
  }
 ],
 "metadata": {
  "kernelspec": {
   "display_name": ".venv",
   "language": "python",
   "name": "python3"
  },
  "language_info": {
   "codemirror_mode": {
    "name": "ipython",
    "version": 3
   },
   "file_extension": ".py",
   "mimetype": "text/x-python",
   "name": "python",
   "nbconvert_exporter": "python",
   "pygments_lexer": "ipython3",
   "version": "3.10.12"
  }
 },
 "nbformat": 4,
 "nbformat_minor": 5
}
