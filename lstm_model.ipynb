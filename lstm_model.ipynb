{
 "cells": [
  {
   "cell_type": "code",
   "execution_count": 1,
   "id": "4ec8db28",
   "metadata": {},
   "outputs": [],
   "source": [
    "import os\n",
    "import torch\n",
    "import torch.nn as nn\n",
    "from torch.utils.data import DataLoader, Dataset\n",
    "import random\n",
    "from sklearn.model_selection import StratifiedShuffleSplit\n",
    "import matplotlib.pyplot as plt"
   ]
  },
  {
   "cell_type": "code",
   "execution_count": 2,
   "id": "79f84748",
   "metadata": {},
   "outputs": [],
   "source": [
    "conf = {\n",
    "    \"batch_size\": 128,\n",
    "    \"epochs\": 10,\n",
    "    \"learning_rate\": 0.0001\n",
    "}"
   ]
  },
  {
   "cell_type": "code",
   "execution_count": 3,
   "id": "e329129d",
   "metadata": {},
   "outputs": [],
   "source": [
    "device = torch.device(\"cuda\" if torch.cuda.is_available() else \"cpu\")"
   ]
  },
  {
   "cell_type": "code",
   "execution_count": 4,
   "id": "7401187c",
   "metadata": {},
   "outputs": [],
   "source": [
    "# function for parsing csv files\n",
    "def parse_dataset(file):\n",
    "    data_file = open(file, 'r')\n",
    "    packet_data = []\n",
    "    labels = []\n",
    "    label_dict = {}\n",
    "    try:\n",
    "        firstline = data_file.readline()\n",
    "        firstline.replace(\"\\n\", \"\")\n",
    "        print(firstline)\n",
    "        n_feature = 0\n",
    "        for line in data_file.readlines():\n",
    "            line = line.replace(\"\\n\", \"\")\n",
    "            line = line.split(',')\n",
    "\n",
    "            if line[1] not in label_dict:\n",
    "                label_dict[line[1]] = n_feature\n",
    "                n_feature += 1\n",
    "            \n",
    "            data = line[0].split(' ')\n",
    "            data = [float(d) for d in data]\n",
    "            packet_data.append(data)\n",
    "            labels.append(label_dict[line[1]])\n",
    "\n",
    "        packet_data = torch.tensor(packet_data, dtype=torch.float)\n",
    "        labels = torch.tensor(labels, dtype=torch.long)\n",
    "        return packet_data, labels, label_dict\n",
    "    finally:\n",
    "        data_file.close()"
   ]
  },
  {
   "cell_type": "code",
   "execution_count": 5,
   "id": "ce9878c3",
   "metadata": {},
   "outputs": [
    {
     "name": "stdout",
     "output_type": "stream",
     "text": [
      "packet_dat,attack_cat\n",
      "\n"
     ]
    }
   ],
   "source": [
    "# extract dataset from csv file\n",
    "network_data_file = os.path.join(os.getcwd(), \"datasets\", \"network_packet_data_test.csv\")\n",
    "\n",
    "data, labels, label_dict = parse_dataset(network_data_file)"
   ]
  },
  {
   "cell_type": "code",
   "execution_count": 6,
   "id": "8ace3a4c",
   "metadata": {},
   "outputs": [
    {
     "name": "stdout",
     "output_type": "stream",
     "text": [
      "torch.Size([509050, 513])\n",
      "torch.Size([509050])\n"
     ]
    }
   ],
   "source": [
    "print(data.shape)\n",
    "print(labels.shape)"
   ]
  },
  {
   "cell_type": "code",
   "execution_count": 7,
   "id": "dc1c887c",
   "metadata": {},
   "outputs": [],
   "source": [
    "def split_datasets(X, y, val_size=0.1, test_size=0.2):\n",
    "\n",
    "    # first split: train and (val + test)\n",
    "    sss1 = StratifiedShuffleSplit(n_splits=1, test_size=(val_size + test_size), random_state=42)\n",
    "    train_ids, remaining_ids = next(sss1.split(X, y))\n",
    "\n",
    "    X_train, y_train = X[train_ids], y[train_ids]\n",
    "    X_remaining, y_remaining = X[remaining_ids], y[remaining_ids]\n",
    "\n",
    "    # second split: val and test\n",
    "    sss2 = StratifiedShuffleSplit(n_splits=1, test_size=test_size / (val_size + test_size), random_state=42)\n",
    "    val_ids, test_ids = next(sss2.split(X_remaining, y_remaining))\n",
    "\n",
    "    X_val, y_val = X_remaining[val_ids], y_remaining[val_ids]\n",
    "    X_test, y_test = X_remaining[test_ids], y_remaining[test_ids]\n",
    "\n",
    "    return X_train, y_train, X_val, y_val, X_test, y_test"
   ]
  },
  {
   "cell_type": "code",
   "execution_count": 8,
   "id": "0d8db9d7",
   "metadata": {},
   "outputs": [
    {
     "name": "stdout",
     "output_type": "stream",
     "text": [
      "torch.Size([356334, 513, 1])\n",
      "torch.Size([356334])\n"
     ]
    }
   ],
   "source": [
    "X_train, y_train, X_val, y_val, X_test, y_test = split_datasets(data, labels)\n",
    "X_train, X_val, X_test = X_train.unsqueeze(-1), X_val.unsqueeze(-1), X_test.unsqueeze(-1)\n",
    "print(X_train.shape)\n",
    "print(y_train.shape)"
   ]
  },
  {
   "cell_type": "code",
   "execution_count": 9,
   "id": "4b624a10",
   "metadata": {},
   "outputs": [],
   "source": [
    "class NetworkDataset(Dataset):\n",
    "    def __init__(self, data, labels):\n",
    "        self.data = data\n",
    "        self.labels = labels\n",
    "    \n",
    "    def __len__(self):\n",
    "        return self.data.shape[0]\n",
    "\n",
    "    def __getitem__(self, index):\n",
    "        return self.data[index, :, :], self.labels[index]"
   ]
  },
  {
   "cell_type": "code",
   "execution_count": 10,
   "id": "0c1fdffc",
   "metadata": {},
   "outputs": [],
   "source": [
    "# create train, val and test datasets\n",
    "train_dataset = NetworkDataset(X_train, y_train)\n",
    "train_loader = DataLoader(train_dataset, batch_size=conf[\"batch_size\"], shuffle=True)\n",
    "\n",
    "val_dataset = NetworkDataset(X_val, y_val)\n",
    "val_loader = DataLoader(val_dataset, batch_size=conf[\"batch_size\"], shuffle=True)\n",
    "\n",
    "test_dataset = NetworkDataset(X_test, y_test)\n",
    "test_loader = DataLoader(test_dataset, batch_size=conf[\"batch_size\"])"
   ]
  },
  {
   "cell_type": "code",
   "execution_count": 11,
   "id": "ee020973",
   "metadata": {},
   "outputs": [
    {
     "name": "stdout",
     "output_type": "stream",
     "text": [
      "torch.Size([128, 513, 1]) torch.Size([128])\n"
     ]
    }
   ],
   "source": [
    "data, labels = next(iter(train_loader))\n",
    "print(data.shape, labels.shape)"
   ]
  },
  {
   "cell_type": "code",
   "execution_count": 12,
   "id": "23137462",
   "metadata": {},
   "outputs": [],
   "source": [
    "# create LSTM model:\n",
    "class INML(nn.Module):\n",
    "    def __init__(self, size):\n",
    "        super(INML, self).__init__()\n",
    "        self.batch = conf[\"batch_size\"]\n",
    "        self.size = size\n",
    "        self.lstm = nn.LSTM(input_size=size, hidden_size=size, num_layers=2, batch_first=True, bidirectional=True, device=device)\n",
    "        self.bn = nn.BatchNorm1d(2 * size)\n",
    "        self.fc = nn.Linear(2*size, 24)\n",
    "        \n",
    "    def forward(self, x, h0=None, c0=None):\n",
    "        if h0 is None or c0 is None:\n",
    "            h0 = torch.zeros(4, x.shape[0], self.size).to(device)\n",
    "            c0 = torch.zeros(4, x.shape[0], self.size).to(device)\n",
    "\n",
    "        output, (h0, c0) = self.lstm(x, (h0, c0))  # output: [B, T, 2*size]\n",
    "\n",
    "        # take last layer's hidden state (both directions)\n",
    "        # h0 shape: [num_layers*2, B, size]\n",
    "        h_last = h0.view(2, 2, x.shape[0], self.size)[-1]  # [2, B, size]\n",
    "        h_last = torch.cat((h_last[0], h_last[1]), dim=1)  # [B, 2*size]\n",
    "\n",
    "        # apply BN + FC\n",
    "        h_last = self.bn(h_last)         # [B, 2*size] → batch norm\n",
    "        out = self.fc(h_last)            # [B, 24]\n",
    "        return out"
   ]
  },
  {
   "cell_type": "code",
   "execution_count": 13,
   "id": "e68512d7",
   "metadata": {},
   "outputs": [],
   "source": [
    "model = INML(X_train.shape[2]).to(device)\n",
    "criterion = nn.CrossEntropyLoss()\n",
    "optimizer = torch.optim.AdamW(model.parameters(), lr=conf[\"learning_rate\"], weight_decay=0.01)\n",
    "scheduler = torch.optim.lr_scheduler.ExponentialLR(optimizer, 0.9)"
   ]
  },
  {
   "cell_type": "code",
   "execution_count": 14,
   "id": "3fc1d04a",
   "metadata": {},
   "outputs": [],
   "source": [
    "def evaluate(model, val_loader):\n",
    "    y_true, y_pred = [], []\n",
    "\n",
    "    model.eval()\n",
    "    for (data, labels) in val_loader:\n",
    "        if not data.is_cuda or not labels.is_cuda:\n",
    "            data, labels = data.to(device), labels.to(device)\n",
    "        \n",
    "        with torch.no_grad():\n",
    "            pred = model(data)\n",
    "        \n",
    "        y_true.append(labels)\n",
    "        y_pred.append(pred)\n",
    "\n",
    "    y_true, y_pred = torch.cat(y_true, dim=0), torch.cat(y_pred, dim=0)\n",
    "\n",
    "    loss = criterion(y_pred, y_true)\n",
    "\n",
    "    # evaluate accuracy\n",
    "\n",
    "    acc = (y_pred.argmax(dim=1) == y_true).float().mean()\n",
    "\n",
    "    return loss, acc"
   ]
  },
  {
   "cell_type": "code",
   "execution_count": 15,
   "id": "6de785e0",
   "metadata": {},
   "outputs": [],
   "source": [
    "def train(model, train_loader, val_loader, epochs=conf[\"epochs\"]):\n",
    "    acc_list = []\n",
    "    train_loss_list = []\n",
    "    val_loss_list = []\n",
    "\n",
    "    for epoch in range(1, epochs + 1):\n",
    "        model.train()\n",
    "        running_loss = 0.0\n",
    "\n",
    "        # train model\n",
    "        for (data, labels) in train_loader:\n",
    "            if not data.is_cuda or not labels.is_cuda:\n",
    "                data, labels = data.to(device), labels.to(device)\n",
    "\n",
    "            pred = model(data)\n",
    "            loss = criterion(pred, labels)\n",
    "            running_loss += loss.item() * data.size(0)\n",
    "\n",
    "            optimizer.zero_grad()\n",
    "            loss.backward()\n",
    "            optimizer.step()\n",
    "        \n",
    "        # evaluate model\n",
    "        val_loss, acc = evaluate(model, val_loader)\n",
    "        train_loss = running_loss / X_train.shape[0]\n",
    "        scheduler.step()\n",
    "\n",
    "        acc_list.append(acc)\n",
    "        train_loss_list.append(train_loss)\n",
    "        val_loss_list.append(val_loss)\n",
    "    \n",
    "        print(f\"Epoch: {epoch}/{epochs}, Accuracy: {acc:.4f}, Train loss: {train_loss:.4f}, Val loss: {val_loss:.4f}\")\n",
    "\n",
    "    return acc_list, train_loss_list, val_loss_list"
   ]
  },
  {
   "cell_type": "code",
   "execution_count": 16,
   "id": "ac1e66c9",
   "metadata": {},
   "outputs": [
    {
     "name": "stdout",
     "output_type": "stream",
     "text": [
      "Epoch: 1/10, Accuracy: 0.2244, Train loss: 3.0399, Val loss: 2.7714\n",
      "Epoch: 2/10, Accuracy: 0.3204, Train loss: 2.5411, Val loss: 2.3311\n",
      "Epoch: 3/10, Accuracy: 0.4129, Train loss: 2.2060, Val loss: 2.0915\n",
      "Epoch: 4/10, Accuracy: 0.4421, Train loss: 2.0145, Val loss: 1.9353\n",
      "Epoch: 5/10, Accuracy: 0.4341, Train loss: 1.8862, Val loss: 1.8351\n",
      "Epoch: 6/10, Accuracy: 0.4322, Train loss: 1.8139, Val loss: 1.7800\n",
      "Epoch: 7/10, Accuracy: 0.4532, Train loss: 1.7465, Val loss: 1.7021\n",
      "Epoch: 8/10, Accuracy: 0.4568, Train loss: 1.6885, Val loss: 1.6614\n",
      "Epoch: 9/10, Accuracy: 0.4783, Train loss: 1.6556, Val loss: 1.6372\n",
      "Epoch: 10/10, Accuracy: 0.4828, Train loss: 1.6308, Val loss: 1.6119\n"
     ]
    }
   ],
   "source": [
    "accuracy, train_loss, val_loss = train(model=model, train_loader=train_loader, val_loader=val_loader)"
   ]
  },
  {
   "cell_type": "code",
   "execution_count": 17,
   "id": "8828ff9b",
   "metadata": {},
   "outputs": [],
   "source": [
    "def plot_data(data, type, title, n_epochs=conf[\"epochs\"]):\n",
    "    epochs = [epoch for epoch in range(1, n_epochs + 1)]\n",
    "    data = [d.to('cpu') for d in data]\n",
    "    plt.plot(epochs, data, marker=\"+\", linestyle=\"dotted\")\n",
    "    plt.title(title)\n",
    "    plt.xlabel(\"Epochs\")\n",
    "    plt.ylabel(type)\n",
    "    plt.show()"
   ]
  },
  {
   "cell_type": "code",
   "execution_count": 18,
   "id": "d58c3ac3",
   "metadata": {},
   "outputs": [
    {
     "data": {
      "image/png": "[encoded data removed]",
      "text/plain": [
       "<Figure size 640x480 with 1 Axes>"
      ]
     },
     "metadata": {},
     "output_type": "display_data"
    }
   ],
   "source": [
    "plot_data(accuracy, type=\"Accuracy\", title=\"Model Accuracy\")"
   ]
  },
  {
   "cell_type": "code",
   "execution_count": 19,
   "id": "2a2c0e93",
   "metadata": {},
   "outputs": [
    {
     "name": "stdout",
     "output_type": "stream",
     "text": [
      "Accuracy: 0.4820, Test loss: 1.6139\n"
     ]
    }
   ],
   "source": [
    "test_loss, test_acc = evaluate(model, test_loader)\n",
    "print(f\"Accuracy: {test_acc:.4f}, Test loss: {test_loss:.4f}\")"
   ]
  },
  {
   "cell_type": "code",
   "execution_count": 20,
   "id": "4b954271",
   "metadata": {},
   "outputs": [
    {
     "name": "stdout",
     "output_type": "stream",
     "text": [
      "tensor([ 0,  5,  5,  0,  5, 10,  4,  0,  5,  5,  5, 10,  4,  5,  5,  5,  5,  0,\n",
      "        10,  5,  4,  5,  0, 10,  5,  0, 10,  0,  5,  0], device='cuda:0')\n",
      "tensor([ 0,  0, 14,  0, 12, 10,  5, 15, 10,  5,  5, 19, 14, 10,  4,  8,  5,  1,\n",
      "         1, 19, 12,  4,  0,  3,  5,  0,  3, 11,  5,  0])\n"
     ]
    }
   ],
   "source": [
    "data, labels = next(iter(test_loader))\n",
    "data = data.to(device)\n",
    "pred = model(data)\n",
    "\n",
    "print(pred[:30].argmax(dim=1))\n",
    "print(labels[:30])"
   ]
  }
 ],
 "metadata": {
  "kernelspec": {
   "display_name": ".venv",
   "language": "python",
   "name": "python3"
  },
  "language_info": {
   "codemirror_mode": {
    "name": "ipython",
    "version": 3
   },
   "file_extension": ".py",
   "mimetype": "text/x-python",
   "name": "python",
   "nbconvert_exporter": "python",
   "pygments_lexer": "ipython3",
   "version": "3.12.3"
  }
 },
 "nbformat": 4,
 "nbformat_minor": 5
}
