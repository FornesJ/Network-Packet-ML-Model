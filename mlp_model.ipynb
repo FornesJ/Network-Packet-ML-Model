{
 "cells": [
  {
   "cell_type": "code",
   "execution_count": 1,
   "id": "d054cc2b",
   "metadata": {},
   "outputs": [],
   "source": [
    "import os\n",
    "import torch\n",
    "import torch.nn as nn\n",
    "from torch.utils.data import DataLoader, Dataset\n",
    "import random\n",
    "from sklearn.model_selection import StratifiedShuffleSplit\n",
    "import matplotlib.pyplot as plt\n",
    "from parse_dataset import NetworkDataset, parse_dataset, split_datasets"
   ]
  },
  {
   "cell_type": "code",
   "execution_count": 12,
   "id": "2d6f340e",
   "metadata": {},
   "outputs": [],
   "source": [
    "conf = {\n",
    "    \"batch_size\": 516,\n",
    "    \"epochs\": 15,\n",
    "    \"learning_rate\": 0.0001,\n",
    "    \"load_model\": True\n",
    "}\n",
    "\n",
    "device = torch.device(\"cuda\" if torch.cuda.is_available() else \"cpu\")"
   ]
  },
  {
   "cell_type": "code",
   "execution_count": 3,
   "id": "ef4d118b",
   "metadata": {},
   "outputs": [
    {
     "name": "stdout",
     "output_type": "stream",
     "text": [
      "packet_dat,attack_cat\n",
      "\n",
      "torch.Size([356334, 513])\n",
      "torch.Size([356334])\n"
     ]
    }
   ],
   "source": [
    "# extract dataset from csv file\n",
    "network_data_file = os.path.join(os.getcwd(), \"datasets\", \"network_packet_data_test.csv\")\n",
    "data, labels, label_dict = parse_dataset(network_data_file)\n",
    "\n",
    "# split dataset into train, val and test datasets\n",
    "X_train, y_train, X_val, y_val, X_test, y_test = split_datasets(data, labels)\n",
    "print(X_train.shape)\n",
    "print(y_train.shape)\n",
    "\n",
    "# create train, val and test dataloaders\n",
    "train_dataset = NetworkDataset(X_train, y_train)\n",
    "train_loader = DataLoader(train_dataset, batch_size=conf[\"batch_size\"], shuffle=True)\n",
    "\n",
    "val_dataset = NetworkDataset(X_val, y_val)\n",
    "val_loader = DataLoader(val_dataset, batch_size=conf[\"batch_size\"], shuffle=True)\n",
    "\n",
    "test_dataset = NetworkDataset(X_test, y_test)\n",
    "test_loader = DataLoader(test_dataset, batch_size=conf[\"batch_size\"])"
   ]
  },
  {
   "cell_type": "code",
   "execution_count": 4,
   "id": "c37098e8",
   "metadata": {},
   "outputs": [
    {
     "name": "stdout",
     "output_type": "stream",
     "text": [
      "torch.Size([516, 513]) torch.Size([516])\n"
     ]
    }
   ],
   "source": [
    "data, labels = next(iter(train_loader))\n",
    "print(data.shape, labels.shape)"
   ]
  },
  {
   "cell_type": "code",
   "execution_count": 5,
   "id": "7c82c3eb",
   "metadata": {},
   "outputs": [],
   "source": [
    "# create LSTM model:\n",
    "class MLP(nn.Module):\n",
    "    def __init__(self, size):\n",
    "        super(MLP, self).__init__()\n",
    "        self.mlp = nn.Sequential(\n",
    "            nn.Linear(size, 320),\n",
    "            nn.BatchNorm1d(320),\n",
    "            nn.ReLU(),\n",
    "            nn.Dropout(p=0.10),\n",
    "\n",
    "            nn.Linear(320, 24)\n",
    "        )\n",
    "    \n",
    "    def forward(self, x):\n",
    "        out = self.mlp(x)\n",
    "        return out"
   ]
  },
  {
   "cell_type": "code",
   "execution_count": 6,
   "id": "99f38a72",
   "metadata": {},
   "outputs": [],
   "source": [
    "model = MLP(X_train.shape[1]).to(device)\n",
    "criterion = nn.CrossEntropyLoss()\n",
    "optimizer = torch.optim.AdamW(model.parameters(), lr=conf[\"learning_rate\"], weight_decay=0.01)\n",
    "scheduler = torch.optim.lr_scheduler.ExponentialLR(optimizer, 0.9)\n",
    "\n",
    "if conf[\"load_model\"]:\n",
    "    # load model\n",
    "    checkpoint_path = os.path.join(os.getcwd(), \"checkpoint\", \"mlp_model.pth\")\n",
    "\n",
    "    checkpoint = torch.load(checkpoint_path, map_location=torch.device(device=device))\n",
    "\n",
    "    model.load_state_dict(checkpoint[\"model_state_dict\"])\n",
    "    optimizer.load_state_dict(checkpoint[\"optimizer_state_dict\"])\n",
    "    scheduler.load_state_dict(checkpoint[\"scheduler_state_dict\"])\n",
    "    epoch = checkpoint[\"epoch\"]\n",
    "\n",
    "    print(f\"Checkpoint loaded from {checkpoint_path}, starting from epoch {epoch}\")"
   ]
  },
  {
   "cell_type": "code",
   "execution_count": 7,
   "id": "d3557073",
   "metadata": {},
   "outputs": [],
   "source": [
    "# eval function\n",
    "def evaluate(model, val_loader):\n",
    "    y_true, y_pred = [], []\n",
    "\n",
    "    model.eval()\n",
    "    for (data, labels) in val_loader:\n",
    "        if not data.is_cuda or not labels.is_cuda:\n",
    "            data, labels = data.to(device), labels.to(device)\n",
    "        \n",
    "        with torch.no_grad():\n",
    "            pred = model(data)\n",
    "        \n",
    "        y_true.append(labels)\n",
    "        y_pred.append(pred)\n",
    "\n",
    "    y_true, y_pred = torch.cat(y_true, dim=0), torch.cat(y_pred, dim=0)\n",
    "\n",
    "    loss = criterion(y_pred, y_true)\n",
    "\n",
    "    # evaluate accuracy\n",
    "\n",
    "    acc = (y_pred.argmax(dim=1) == y_true).float().mean()\n",
    "\n",
    "    return loss, acc\n",
    "\n",
    "# training function\n",
    "def train(model, train_loader, val_loader, epochs=conf[\"epochs\"]):\n",
    "    acc_list = []\n",
    "    train_loss_list = []\n",
    "    val_loss_list = []\n",
    "\n",
    "    for epoch in range(1, epochs + 1):\n",
    "        model.train()\n",
    "        running_loss = 0.0\n",
    "\n",
    "        # train model\n",
    "        for (data, labels) in train_loader:\n",
    "            if not data.is_cuda or not labels.is_cuda:\n",
    "                data, labels = data.to(device), labels.to(device)\n",
    "\n",
    "            pred = model(data)\n",
    "            loss = criterion(pred, labels)\n",
    "            running_loss += loss.item() * data.size(0)\n",
    "\n",
    "            optimizer.zero_grad()\n",
    "            loss.backward()\n",
    "            optimizer.step()\n",
    "        \n",
    "        # evaluate model\n",
    "        val_loss, acc = evaluate(model, val_loader)\n",
    "        train_loss = running_loss / X_train.shape[0]\n",
    "        scheduler.step()\n",
    "\n",
    "        acc_list.append(acc)\n",
    "        train_loss_list.append(train_loss)\n",
    "        val_loss_list.append(val_loss)\n",
    "    \n",
    "        print(f\"Epoch: {epoch}/{epochs}, Accuracy: {100*acc:.2f}%, Train loss: {train_loss:.4f}, Val loss: {val_loss:.4f}\")\n",
    "\n",
    "    return acc_list, train_loss_list, val_loss_list\n",
    "\n",
    "# plot accuracy\n",
    "def plot_data(data, type, title, n_epochs=conf[\"epochs\"]):\n",
    "    epochs = [epoch for epoch in range(1, n_epochs + 1)]\n",
    "    data = [d.to('cpu') for d in data]\n",
    "    plt.plot(epochs, data, marker=\"+\", linestyle=\"dotted\")\n",
    "    plt.title(title)\n",
    "    plt.xlabel(\"Epochs\")\n",
    "    plt.ylabel(type)\n",
    "    plt.show()"
   ]
  },
  {
   "cell_type": "code",
   "execution_count": 8,
   "id": "fd0a7f76",
   "metadata": {},
   "outputs": [
    {
     "name": "stdout",
     "output_type": "stream",
     "text": [
      "Epoch: 1/15, Accuracy: 58.37%, Train loss: 1.9742, Val loss: 2.0231\n",
      "Epoch: 2/15, Accuracy: 68.47%, Train loss: 1.2651, Val loss: 1.5800\n",
      "Epoch: 3/15, Accuracy: 64.96%, Train loss: 1.0285, Val loss: 1.5135\n",
      "Epoch: 4/15, Accuracy: 72.87%, Train loss: 0.9137, Val loss: 1.1713\n",
      "Epoch: 5/15, Accuracy: 70.60%, Train loss: 0.8114, Val loss: 1.1646\n",
      "Epoch: 6/15, Accuracy: 74.98%, Train loss: 0.7464, Val loss: 0.9732\n",
      "Epoch: 7/15, Accuracy: 78.40%, Train loss: 0.7012, Val loss: 0.8280\n",
      "Epoch: 8/15, Accuracy: 79.72%, Train loss: 0.6464, Val loss: 0.7801\n",
      "Epoch: 9/15, Accuracy: 79.16%, Train loss: 0.6165, Val loss: 0.7718\n",
      "Epoch: 10/15, Accuracy: 78.08%, Train loss: 0.5845, Val loss: 0.8035\n",
      "Epoch: 11/15, Accuracy: 83.39%, Train loss: 0.5637, Val loss: 0.5951\n",
      "Epoch: 12/15, Accuracy: 82.92%, Train loss: 0.5288, Val loss: 0.6857\n",
      "Epoch: 13/15, Accuracy: 83.70%, Train loss: 0.5103, Val loss: 0.5645\n",
      "Epoch: 14/15, Accuracy: 85.93%, Train loss: 0.4812, Val loss: 0.4956\n",
      "Epoch: 15/15, Accuracy: 86.21%, Train loss: 0.4665, Val loss: 0.4847\n"
     ]
    },
    {
     "data": {
      "image/png": "[encoded data removed]",
      "text/plain": [
       "<Figure size 640x480 with 1 Axes>"
      ]
     },
     "metadata": {},
     "output_type": "display_data"
    }
   ],
   "source": [
    "accuracy = []\n",
    "train_loss = []\n",
    "val_loss = []\n",
    "\n",
    "if not conf[\"load_model\"]:\n",
    "    accuracy, train_loss, val_loss = train(model=model, train_loader=train_loader, val_loader=val_loader)\n",
    "    plot_data(accuracy, type=\"Accuracy\", title=\"Model Accuracy\")"
   ]
  },
  {
   "cell_type": "code",
   "execution_count": 9,
   "id": "d5d3942b",
   "metadata": {},
   "outputs": [
    {
     "name": "stdout",
     "output_type": "stream",
     "text": [
      "Accuracy: 85.95%, Test loss: 0.4916\n"
     ]
    }
   ],
   "source": [
    "test_loss, test_acc = evaluate(model, test_loader)\n",
    "print(f\"Accuracy: {100*test_acc:.2f}%, Test loss: {test_loss:.4f}\")"
   ]
  },
  {
   "cell_type": "code",
   "execution_count": 10,
   "id": "aff4cca3",
   "metadata": {},
   "outputs": [],
   "source": [
    "def save_model(checkpoint_path, model, optimizer, scheduler):\n",
    "    checkpoint = {\n",
    "        \"epoch\": conf[\"epochs\"],\n",
    "        \"model_state_dict\": model.state_dict(),\n",
    "        \"optimizer_state_dict\": optimizer.state_dict(),\n",
    "        \"scheduler_state_dict\": scheduler.state_dict()\n",
    "    }\n",
    "\n",
    "    torch.save(checkpoint, checkpoint_path)\n",
    "    print(f\"Checkpoint saved at {checkpoint_path}\")"
   ]
  },
  {
   "cell_type": "code",
   "execution_count": 11,
   "id": "e2c7e2e5",
   "metadata": {},
   "outputs": [
    {
     "name": "stdout",
     "output_type": "stream",
     "text": [
      "Checkpoint saved at /home/jorgetf/testmodel/Network-Packet-ML-Model/checkpoint/mlp_model.pth\n"
     ]
    }
   ],
   "source": [
    "checkpoint_path = os.path.join(os.getcwd(), \"checkpoint\", \"mlp_model.pth\")\n",
    "save_model(checkpoint_path, model, optimizer, scheduler)"
   ]
  }
 ],
 "metadata": {
  "kernelspec": {
   "display_name": ".venv",
   "language": "python",
   "name": "python3"
  },
  "language_info": {
   "codemirror_mode": {
    "name": "ipython",
    "version": 3
   },
   "file_extension": ".py",
   "mimetype": "text/x-python",
   "name": "python",
   "nbconvert_exporter": "python",
   "pygments_lexer": "ipython3",
   "version": "3.10.12"
  }
 },
 "nbformat": 4,
 "nbformat_minor": 5
}
