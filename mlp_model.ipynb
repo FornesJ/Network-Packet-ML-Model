{
 "cells": [
  {
   "cell_type": "code",
   "execution_count": 1,
   "id": "d054cc2b",
   "metadata": {},
   "outputs": [],
   "source": [
    "import os\n",
    "import torch\n",
    "import torch.nn as nn\n",
    "from torch.utils.data import DataLoader, Dataset\n",
    "import random\n",
    "from sklearn.model_selection import StratifiedShuffleSplit\n",
    "import matplotlib.pyplot as plt"
   ]
  },
  {
   "cell_type": "code",
   "execution_count": 2,
   "id": "2d6f340e",
   "metadata": {},
   "outputs": [],
   "source": [
    "conf = {\n",
    "    \"batch_size\": 128,\n",
    "    \"epochs\": 20,\n",
    "    \"learning_rate\": 0.00001\n",
    "}\n",
    "\n",
    "device = torch.device(\"cuda\" if torch.cuda.is_available() else \"cpu\")"
   ]
  },
  {
   "cell_type": "code",
   "execution_count": 3,
   "id": "e01c6539",
   "metadata": {},
   "outputs": [],
   "source": [
    "# functions for parsing csv files and splitting dataset\n",
    "def parse_dataset(file):\n",
    "    data_file = open(file, 'r')\n",
    "    packet_data = []\n",
    "    labels = []\n",
    "    label_dict = {}\n",
    "    try:\n",
    "        firstline = data_file.readline()\n",
    "        firstline.replace(\"\\n\", \"\")\n",
    "        print(firstline)\n",
    "        n_feature = 0\n",
    "        for line in data_file.readlines():\n",
    "            line = line.replace(\"\\n\", \"\")\n",
    "            line = line.split(',')\n",
    "\n",
    "            if line[1] not in label_dict:\n",
    "                label_dict[line[1]] = n_feature\n",
    "                n_feature += 1\n",
    "            \n",
    "            data = line[0].split(' ')\n",
    "            data = [float(d) for d in data]\n",
    "            packet_data.append(data)\n",
    "            labels.append(label_dict[line[1]])\n",
    "\n",
    "        packet_data = torch.tensor(packet_data, dtype=torch.float)\n",
    "        labels = torch.tensor(labels, dtype=torch.long)\n",
    "        return packet_data, labels, label_dict\n",
    "    finally:\n",
    "        data_file.close()\n",
    "\n",
    "\n",
    "def split_datasets(X, y, val_size=0.1, test_size=0.2):\n",
    "\n",
    "    # first split: train and (val + test)\n",
    "    sss1 = StratifiedShuffleSplit(n_splits=1, test_size=(val_size + test_size), random_state=42)\n",
    "    train_ids, remaining_ids = next(sss1.split(X, y))\n",
    "\n",
    "    X_train, y_train = X[train_ids], y[train_ids]\n",
    "    X_remaining, y_remaining = X[remaining_ids], y[remaining_ids]\n",
    "\n",
    "    # second split: val and test\n",
    "    sss2 = StratifiedShuffleSplit(n_splits=1, test_size=test_size / (val_size + test_size), random_state=42)\n",
    "    val_ids, test_ids = next(sss2.split(X_remaining, y_remaining))\n",
    "\n",
    "    X_val, y_val = X_remaining[val_ids], y_remaining[val_ids]\n",
    "    X_test, y_test = X_remaining[test_ids], y_remaining[test_ids]\n",
    "\n",
    "    return X_train, y_train, X_val, y_val, X_test, y_test\n",
    "\n",
    "\n",
    "class NetworkDataset(Dataset):\n",
    "    def __init__(self, data, labels):\n",
    "        self.data = data\n",
    "        self.labels = labels\n",
    "    \n",
    "    def __len__(self):\n",
    "        return self.data.shape[0]\n",
    "\n",
    "    def __getitem__(self, index):\n",
    "        return self.data[index, :], self.labels[index]"
   ]
  },
  {
   "cell_type": "code",
   "execution_count": 4,
   "id": "ef4d118b",
   "metadata": {},
   "outputs": [
    {
     "name": "stdout",
     "output_type": "stream",
     "text": [
      "packet_dat,attack_cat\n",
      "\n",
      "torch.Size([356334, 513])\n",
      "torch.Size([356334])\n"
     ]
    }
   ],
   "source": [
    "# extract dataset from csv file\n",
    "network_data_file = os.path.join(os.getcwd(), \"datasets\", \"network_packet_data_test.csv\")\n",
    "data, labels, label_dict = parse_dataset(network_data_file)\n",
    "\n",
    "# split dataset into train, val and test datasets\n",
    "X_train, y_train, X_val, y_val, X_test, y_test = split_datasets(data, labels)\n",
    "print(X_train.shape)\n",
    "print(y_train.shape)\n",
    "\n",
    "# create train, val and test dataloaders\n",
    "train_dataset = NetworkDataset(X_train, y_train)\n",
    "train_loader = DataLoader(train_dataset, batch_size=conf[\"batch_size\"], shuffle=True)\n",
    "\n",
    "val_dataset = NetworkDataset(X_val, y_val)\n",
    "val_loader = DataLoader(val_dataset, batch_size=conf[\"batch_size\"], shuffle=True)\n",
    "\n",
    "test_dataset = NetworkDataset(X_test, y_test)\n",
    "test_loader = DataLoader(test_dataset, batch_size=conf[\"batch_size\"])"
   ]
  },
  {
   "cell_type": "code",
   "execution_count": 5,
   "id": "c37098e8",
   "metadata": {},
   "outputs": [
    {
     "name": "stdout",
     "output_type": "stream",
     "text": [
      "torch.Size([128, 513]) torch.Size([128])\n"
     ]
    }
   ],
   "source": [
    "data, labels = next(iter(train_loader))\n",
    "print(data.shape, labels.shape)"
   ]
  },
  {
   "cell_type": "code",
   "execution_count": 6,
   "id": "7c82c3eb",
   "metadata": {},
   "outputs": [],
   "source": [
    "# create LSTM model:\n",
    "class MLP(nn.Module):\n",
    "    def __init__(self, size):\n",
    "        super(MLP, self).__init__()\n",
    "        self.mlp = nn.Sequential(\n",
    "            nn.Dropout(p=0.25),\n",
    "\n",
    "            nn.Linear(size, 256),\n",
    "            nn.BatchNorm1d(256),\n",
    "            nn.ReLU(),\n",
    "            nn.Dropout(p=0.25),\n",
    "\n",
    "            nn.Linear(256, 128),\n",
    "            nn.BatchNorm1d(128),\n",
    "            nn.ReLU(),\n",
    "            nn.Dropout(p=0.25),\n",
    "\n",
    "            nn.Linear(128, 64),\n",
    "            nn.BatchNorm1d(64),\n",
    "            nn.ReLU(),\n",
    "            nn.Dropout(p=0.25),\n",
    "\n",
    "            nn.Linear(64, 32),\n",
    "            nn.BatchNorm1d(32),\n",
    "            nn.ReLU(),\n",
    "            nn.Dropout(p=0.25),\n",
    "\n",
    "            nn.Linear(32, 24)\n",
    "        )\n",
    "    \n",
    "    def forward(self, x):\n",
    "        out = self.mlp(x)\n",
    "        return out"
   ]
  },
  {
   "cell_type": "code",
   "execution_count": 7,
   "id": "99f38a72",
   "metadata": {},
   "outputs": [],
   "source": [
    "model = MLP(X_train.shape[1]).to(device)\n",
    "criterion = nn.CrossEntropyLoss()\n",
    "optimizer = torch.optim.AdamW(model.parameters(), lr=conf[\"learning_rate\"], weight_decay=0.01)\n",
    "scheduler = torch.optim.lr_scheduler.ExponentialLR(optimizer, 0.9)"
   ]
  },
  {
   "cell_type": "code",
   "execution_count": 8,
   "id": "d3557073",
   "metadata": {},
   "outputs": [],
   "source": [
    "# eval function\n",
    "def evaluate(model, val_loader):\n",
    "    y_true, y_pred = [], []\n",
    "\n",
    "    model.eval()\n",
    "    for (data, labels) in val_loader:\n",
    "        if not data.is_cuda or not labels.is_cuda:\n",
    "            data, labels = data.to(device), labels.to(device)\n",
    "        \n",
    "        with torch.no_grad():\n",
    "            pred = model(data)\n",
    "        \n",
    "        y_true.append(labels)\n",
    "        y_pred.append(pred)\n",
    "\n",
    "    y_true, y_pred = torch.cat(y_true, dim=0), torch.cat(y_pred, dim=0)\n",
    "\n",
    "    loss = criterion(y_pred, y_true)\n",
    "\n",
    "    # evaluate accuracy\n",
    "\n",
    "    acc = (y_pred.argmax(dim=1) == y_true).float().mean()\n",
    "\n",
    "    return loss, acc\n",
    "\n",
    "# training function\n",
    "def train(model, train_loader, val_loader, epochs=conf[\"epochs\"]):\n",
    "    acc_list = []\n",
    "    train_loss_list = []\n",
    "    val_loss_list = []\n",
    "\n",
    "    for epoch in range(1, epochs + 1):\n",
    "        model.train()\n",
    "        running_loss = 0.0\n",
    "\n",
    "        # train model\n",
    "        for (data, labels) in train_loader:\n",
    "            if not data.is_cuda or not labels.is_cuda:\n",
    "                data, labels = data.to(device), labels.to(device)\n",
    "\n",
    "            pred = model(data)\n",
    "            loss = criterion(pred, labels)\n",
    "            running_loss += loss.item() * data.size(0)\n",
    "\n",
    "            optimizer.zero_grad()\n",
    "            loss.backward()\n",
    "            optimizer.step()\n",
    "        \n",
    "        # evaluate model\n",
    "        val_loss, acc = evaluate(model, val_loader)\n",
    "        train_loss = running_loss / X_train.shape[0]\n",
    "        scheduler.step()\n",
    "\n",
    "        acc_list.append(acc)\n",
    "        train_loss_list.append(train_loss)\n",
    "        val_loss_list.append(val_loss)\n",
    "    \n",
    "        print(f\"Epoch: {epoch}/{epochs}, Accuracy: {acc:.4f}, Train loss: {train_loss:.4f}, Val loss: {val_loss:.4f}\")\n",
    "\n",
    "    return acc_list, train_loss_list, val_loss_list\n",
    "\n",
    "# plot accuracy\n",
    "def plot_data(data, type, title, n_epochs=conf[\"epochs\"]):\n",
    "    epochs = [epoch for epoch in range(1, n_epochs + 1)]\n",
    "    data = [d.to('cpu') for d in data]\n",
    "    plt.plot(epochs, data, marker=\"+\", linestyle=\"dotted\")\n",
    "    plt.title(title)\n",
    "    plt.xlabel(\"Epochs\")\n",
    "    plt.ylabel(type)\n",
    "    plt.show()"
   ]
  },
  {
   "cell_type": "code",
   "execution_count": 9,
   "id": "fd0a7f76",
   "metadata": {},
   "outputs": [
    {
     "name": "stdout",
     "output_type": "stream",
     "text": [
      "Epoch: 1/20, Accuracy: 0.1255, Train loss: 2.9933, Val loss: 3.0841\n",
      "Epoch: 2/20, Accuracy: 0.1709, Train loss: 2.4928, Val loss: 2.7951\n",
      "Epoch: 3/20, Accuracy: 0.5562, Train loss: 2.1125, Val loss: 1.9074\n",
      "Epoch: 4/20, Accuracy: 0.5781, Train loss: 1.8493, Val loss: 1.6773\n",
      "Epoch: 5/20, Accuracy: 0.1973, Train loss: 1.6765, Val loss: 2.5828\n",
      "Epoch: 6/20, Accuracy: 0.2860, Train loss: 1.5693, Val loss: 2.2393\n",
      "Epoch: 7/20, Accuracy: 0.6471, Train loss: 1.5013, Val loss: 1.2871\n",
      "Epoch: 8/20, Accuracy: 0.3502, Train loss: 1.4498, Val loss: 2.0847\n",
      "Epoch: 9/20, Accuracy: 0.4296, Train loss: 1.4080, Val loss: 1.8962\n",
      "Epoch: 10/20, Accuracy: 0.2556, Train loss: 1.3767, Val loss: 2.3090\n",
      "Epoch: 11/20, Accuracy: 0.1736, Train loss: 1.3496, Val loss: 2.6980\n",
      "Epoch: 12/20, Accuracy: 0.3830, Train loss: 1.3269, Val loss: 1.9944\n",
      "Epoch: 13/20, Accuracy: 0.6130, Train loss: 1.3073, Val loss: 1.2365\n",
      "Epoch: 14/20, Accuracy: 0.5332, Train loss: 1.2916, Val loss: 1.5388\n",
      "Epoch: 15/20, Accuracy: 0.6818, Train loss: 1.2773, Val loss: 1.0755\n",
      "Epoch: 16/20, Accuracy: 0.3275, Train loss: 1.2650, Val loss: 2.1116\n",
      "Epoch: 17/20, Accuracy: 0.2309, Train loss: 1.2533, Val loss: 2.4033\n",
      "Epoch: 18/20, Accuracy: 0.6103, Train loss: 1.2435, Val loss: 1.2398\n",
      "Epoch: 19/20, Accuracy: 0.5644, Train loss: 1.2368, Val loss: 1.4520\n",
      "Epoch: 20/20, Accuracy: 0.4885, Train loss: 1.2287, Val loss: 1.7268\n"
     ]
    }
   ],
   "source": [
    "accuracy, train_loss, val_loss = train(model=model, train_loader=train_loader, val_loader=val_loader)"
   ]
  },
  {
   "cell_type": "code",
   "execution_count": 10,
   "id": "33efbc41",
   "metadata": {},
   "outputs": [
    {
     "data": {
      "image/png": "[encoded data removed]",
      "text/plain": [
       "<Figure size 640x480 with 1 Axes>"
      ]
     },
     "metadata": {},
     "output_type": "display_data"
    }
   ],
   "source": [
    "plot_data(accuracy, type=\"Accuracy\", title=\"Model Accuracy\")"
   ]
  }
 ],
 "metadata": {
  "kernelspec": {
   "display_name": ".venv",
   "language": "python",
   "name": "python3"
  },
  "language_info": {
   "codemirror_mode": {
    "name": "ipython",
    "version": 3
   },
   "file_extension": ".py",
   "mimetype": "text/x-python",
   "name": "python",
   "nbconvert_exporter": "python",
   "pygments_lexer": "ipython3",
   "version": "3.12.3"
  }
 },
 "nbformat": 4,
 "nbformat_minor": 5
}
