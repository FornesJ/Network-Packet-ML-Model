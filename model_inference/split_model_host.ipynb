{
 "cells": [
  {
   "cell_type": "code",
   "execution_count": 1,
   "id": "b8333402",
   "metadata": {},
   "outputs": [],
   "source": [
    "import os\n",
    "import sys\n",
    "sys.path.append(os.path.join(os.getcwd().replace(\"model_inference\", \"\")))\n",
    "\n",
    "import torch\n",
    "import torch.nn as nn\n",
    "import torch.nn.functional as F\n",
    "from torch.utils.data import DataLoader\n",
    "from torch.profiler import profiler\n",
    "import matplotlib.pyplot as plt\n",
    "import time\n",
    "from parse_dataset import NetworkDataset, parse_dataset, split_datasets, binary_dataset\n",
    "from split_model import SplitModelDPU, SplitModelHost\n",
    "from load_models import models\n",
    "from transfer_tensors import HostSocket"
   ]
  },
  {
   "cell_type": "code",
   "execution_count": 2,
   "id": "4194a45b",
   "metadata": {},
   "outputs": [],
   "source": [
    "conf = {\n",
    "    \"batch_size\": 512,\n",
    "    \"epochs\": 10,\n",
    "    \"learning_rate\": 0.0001,\n",
    "    \"dpu\": False\n",
    "}"
   ]
  },
  {
   "cell_type": "code",
   "execution_count": 3,
   "id": "f2ac51f0",
   "metadata": {},
   "outputs": [
    {
     "name": "stdout",
     "output_type": "stream",
     "text": [
      "cpu\n"
     ]
    }
   ],
   "source": [
    "device = torch.device(\"cuda\" if torch.cuda.is_available() else \"cpu\")\n",
    "print(device)"
   ]
  },
  {
   "cell_type": "code",
   "execution_count": 4,
   "id": "46d930bf",
   "metadata": {},
   "outputs": [],
   "source": [
    "class BenchmarkHost:\n",
    "    def __init__(self, host_model, host_model_path):\n",
    "        self.host_model = host_model\n",
    "        self.host_model.load(host_model_path)\n",
    "    \n",
    "    def run(self, logits, labels):\n",
    "        \"\"\"Run benchmark measuring model accuracy, cpu time, memory usage and total runtime\"\"\"\n",
    "        self.host_model.model.eval()\n",
    "\n",
    "        with torch.profiler.profile(\n",
    "            activities=[profiler.ProfilerActivity.CPU],\n",
    "            record_shapes=True,\n",
    "            profile_memory=True,\n",
    "            with_stack=True\n",
    "        ) as prof:\n",
    "            start = time.perf_counter()\n",
    "            # warm-up before profiling:\n",
    "            with torch.no_grad():\n",
    "                pred, logits = self.host_model.model(logits)\n",
    "            end = time.perf_counter()\n",
    "\n",
    "        accuracy = (pred.argmax(dim=1) == labels).float().mean()\n",
    "\n",
    "        # Wall-clock time\n",
    "        wall_clock_time = end - start\n",
    "\n",
    "        # CPU compute time (µs → s)\n",
    "        cpu_time_total_s = sum([e.self_cpu_time_total for e in prof.key_averages()]) / 1e6  # microseconds\n",
    "        cpu_utilization = cpu_time_total_s / wall_clock_time\n",
    "\n",
    "        # peak memory during profiling\n",
    "        peak_mem = max([e.cpu_memory_usage for e in prof.key_averages()])\n",
    "        peak_mem = peak_mem / 1024**2 #MB\n",
    "\n",
    "        return 100*accuracy, cpu_utilization, peak_mem, wall_clock_time, logits, labels"
   ]
  },
  {
   "cell_type": "code",
   "execution_count": 5,
   "id": "3c98b7b6",
   "metadata": {},
   "outputs": [],
   "source": [
    "host_path = os.path.join(os.getcwd().replace(\"model_inference\", \"\"), \"checkpoint\", \"host_split_model.pth\")\n",
    "host_model = models[\"host\"]"
   ]
  },
  {
   "cell_type": "code",
   "execution_count": 6,
   "id": "cbadb551",
   "metadata": {},
   "outputs": [
    {
     "name": "stdout",
     "output_type": "stream",
     "text": [
      "Checkpoint loaded from /home/jorgetf/testmodel/Network-Packet-ML-Model/checkpoint/host_split_model.pth!\n"
     ]
    }
   ],
   "source": [
    "benchmark = BenchmarkHost(host_model, host_path)"
   ]
  },
  {
   "cell_type": "code",
   "execution_count": 7,
   "id": "42eb2fa1",
   "metadata": {},
   "outputs": [],
   "source": [
    "so_file = os.path.join(os.getcwd().replace(\"model_inference\", \"\"), \"socket_transfer\", \"socket_transfer.so\")\n",
    "socket = HostSocket(so_file)"
   ]
  },
  {
   "cell_type": "code",
   "execution_count": 8,
   "id": "3f8238a9",
   "metadata": {},
   "outputs": [],
   "source": [
    "logits = socket.receive()"
   ]
  },
  {
   "cell_type": "code",
   "execution_count": 9,
   "id": "e3912fb6",
   "metadata": {},
   "outputs": [],
   "source": [
    "targets = socket.receive()\n",
    "targets = targets.to(dtype=torch.long)"
   ]
  },
  {
   "cell_type": "code",
   "execution_count": 10,
   "id": "e9e3fbaa",
   "metadata": {},
   "outputs": [
    {
     "name": "stderr",
     "output_type": "stream",
     "text": [
      "ERROR:2025-10-26 12:02:08 3127010:3127010 DeviceProperties.cpp:47] gpuGetDeviceCount failed with code 35\n"
     ]
    }
   ],
   "source": [
    "acc, cpu, mem, runtime, _, labels = benchmark.run(logits=logits, labels=targets)"
   ]
  },
  {
   "cell_type": "code",
   "execution_count": 11,
   "id": "e4d4f206",
   "metadata": {},
   "outputs": [
    {
     "name": "stdout",
     "output_type": "stream",
     "text": [
      "Benchmark (Host): Accuracy: 93.95%, CPU Usage: 0.92 cores, Memory Usage: 3.30MB, Runtime: 0.01s\n"
     ]
    }
   ],
   "source": [
    "print(f\"Benchmark (Host): Accuracy: {acc:.2f}%, CPU Usage: {cpu:.2f} cores, Memory Usage: {mem:.2f}MB, Runtime: {runtime:.2f}s\")"
   ]
  },
  {
   "cell_type": "code",
   "execution_count": 12,
   "id": "2a24da81",
   "metadata": {},
   "outputs": [
    {
     "name": "stdout",
     "output_type": "stream",
     "text": [
      "tensor([[ 0.7313, -0.6907, -0.2624,  0.0244, -1.0083,  0.7555, -0.5137, -0.8355,\n",
      "          0.8498, -0.7010, -0.8411, -0.9054, -0.7942,  0.0053, -1.1667, -1.1217,\n",
      "         -1.3613, -1.1800,  0.7099,  0.7456, -0.7751, -0.4873, -1.7606,  0.8915,\n",
      "          0.7598,  0.7118, -0.9263, -1.0522,  0.8669, -0.8070,  0.7431,  1.9215,\n",
      "         -0.7002,  0.7611,  0.6988, -0.1856,  1.2212,  0.7642, -0.7228,  0.8630,\n",
      "         -0.6999, -0.7822, -0.8375,  0.8328,  0.8041,  0.2072, -0.8121,  0.9513,\n",
      "          1.2035,  0.7163,  0.0371,  0.7709,  0.7297, -0.6607, -0.4662,  0.2501,\n",
      "          0.6822, -0.6901,  0.7201, -0.7794, -0.7908, -0.9197,  0.7846,  0.7815,\n",
      "          0.5245, -0.0925, -0.8306, -0.8944, -0.9474, -0.6359, -0.8204, -1.1732,\n",
      "          0.0523, -0.7144, -0.9882, -1.0135, -0.9948,  0.5071, -1.1235, -0.5889,\n",
      "          0.7702, -0.6648, -1.1151, -0.1653, -1.0198,  0.7425, -1.0049, -0.8738,\n",
      "          1.0249, -0.9712, -0.6420,  1.0417, -0.8071,  1.2857,  0.6720,  0.8138,\n",
      "          1.0195,  0.8417, -1.0219, -0.3149, -0.7851, -0.7989, -0.7768,  0.7696,\n",
      "          0.9491, -0.8908, -1.0599, -0.8149,  1.3023,  0.8891,  0.4520, -0.7054,\n",
      "          0.9168, -1.1435,  0.2603, -1.0692,  0.8684,  0.7670,  0.8476, -0.2744,\n",
      "          0.5936,  1.2546,  1.0869,  1.3014, -0.5662,  1.0193, -0.8523,  1.0678]])\n",
      "tensor([ 0,  0, 14,  0, 12, 10,  5, 15, 10,  5])\n",
      "torch.Size([512, 1, 128]) torch.Size([512])\n"
     ]
    }
   ],
   "source": [
    "print(logits[15])\n",
    "print(targets[:10])\n",
    "print(logits.shape, targets.shape)"
   ]
  }
 ],
 "metadata": {
  "kernelspec": {
   "display_name": ".venv",
   "language": "python",
   "name": "python3"
  },
  "language_info": {
   "codemirror_mode": {
    "name": "ipython",
    "version": 3
   },
   "file_extension": ".py",
   "mimetype": "text/x-python",
   "name": "python",
   "nbconvert_exporter": "python",
   "pygments_lexer": "ipython3",
   "version": "3.10.12"
  }
 },
 "nbformat": 4,
 "nbformat_minor": 5
}
