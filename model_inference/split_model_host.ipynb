{
 "cells": [
  {
   "cell_type": "code",
   "execution_count": 1,
   "id": "b8333402",
   "metadata": {},
   "outputs": [],
   "source": [
    "import os\n",
    "import sys\n",
    "sys.path.append(os.path.join(os.getcwd().replace(\"model_inference\", \"\")))\n",
    "\n",
    "import torch\n",
    "import torch.nn as nn\n",
    "import torch.nn.functional as F\n",
    "from torch.utils.data import DataLoader\n",
    "from torch.profiler import profiler\n",
    "import matplotlib.pyplot as plt\n",
    "import time\n",
    "from parse_dataset import NetworkDataset, parse_dataset, split_datasets, binary_dataset\n",
    "from split_model import SplitModelDPU, SplitModelHost\n",
    "from load_models import models\n",
    "from transfer_tensors import HostSocket"
   ]
  },
  {
   "cell_type": "code",
   "execution_count": 2,
   "id": "4194a45b",
   "metadata": {},
   "outputs": [],
   "source": [
    "conf = {\n",
    "    \"batch_size\": 16,\n",
    "    \"epochs\": 10,\n",
    "    \"learning_rate\": 0.0001,\n",
    "    \"dpu\": False\n",
    "}"
   ]
  },
  {
   "cell_type": "code",
   "execution_count": 3,
   "id": "f2ac51f0",
   "metadata": {},
   "outputs": [
    {
     "name": "stdout",
     "output_type": "stream",
     "text": [
      "cpu\n"
     ]
    }
   ],
   "source": [
    "device = torch.device(\"cuda\" if torch.cuda.is_available() else \"cpu\")\n",
    "print(device)"
   ]
  },
  {
   "cell_type": "code",
   "execution_count": 4,
   "id": "46d930bf",
   "metadata": {},
   "outputs": [],
   "source": [
    "class BenchmarkHost:\n",
    "    def __init__(self, host_model, host_model_path):\n",
    "        self.host_model = host_model\n",
    "        self.host_model.load(host_model_path)\n",
    "    \n",
    "    def run(self, logits, labels):\n",
    "        \"\"\"Run benchmark measuring model accuracy, cpu time, memory usage and total runtime\"\"\"\n",
    "        self.host_model.model.eval()\n",
    "\n",
    "        with torch.profiler.profile(\n",
    "            activities=[profiler.ProfilerActivity.CPU],\n",
    "            record_shapes=True,\n",
    "            profile_memory=True,\n",
    "            with_stack=True\n",
    "        ) as prof:\n",
    "            start = time.perf_counter()\n",
    "            # warm-up before profiling:\n",
    "            with torch.no_grad():\n",
    "                pred, logits = self.host_model.model(logits)\n",
    "            end = time.perf_counter()\n",
    "\n",
    "        accuracy = (pred.argmax(dim=1) == labels).float().mean()\n",
    "\n",
    "        # Wall-clock time\n",
    "        wall_clock_time = end - start\n",
    "\n",
    "        # CPU compute time (µs → s)\n",
    "        cpu_time_total_s = sum([e.self_cpu_time_total for e in prof.key_averages()]) / 1e6  # microseconds\n",
    "        cpu_utilization = cpu_time_total_s / wall_clock_time\n",
    "\n",
    "        # peak memory during profiling\n",
    "        peak_mem = max([e.cpu_memory_usage for e in prof.key_averages()])\n",
    "        peak_mem = peak_mem / 1024**2 #MB\n",
    "\n",
    "        return 100*accuracy, cpu_utilization, peak_mem, wall_clock_time, logits, labels"
   ]
  },
  {
   "cell_type": "code",
   "execution_count": 5,
   "id": "3c98b7b6",
   "metadata": {},
   "outputs": [],
   "source": [
    "host_path = os.path.join(os.getcwd().replace(\"model_inference\", \"\"), \"checkpoint\", \"host_split_model.pth\")\n",
    "host_model = models[\"host\"]\n",
    "#host_model.load(host_path)"
   ]
  },
  {
   "cell_type": "code",
   "execution_count": 6,
   "id": "cbadb551",
   "metadata": {},
   "outputs": [
    {
     "name": "stdout",
     "output_type": "stream",
     "text": [
      "Checkpoint loaded from /home/jorgetf/testmodel/Network-Packet-ML-Model/checkpoint/host_split_model.pth!\n"
     ]
    }
   ],
   "source": [
    "benchmark = BenchmarkHost(host_model, host_path)"
   ]
  },
  {
   "cell_type": "code",
   "execution_count": 7,
   "id": "42eb2fa1",
   "metadata": {},
   "outputs": [],
   "source": [
    "so_file = os.path.join(os.getcwd().replace(\"model_inference\", \"\"), \"socket_transfer\", \"socket_transfer.so\")\n",
    "socket = HostSocket(so_file)"
   ]
  },
  {
   "cell_type": "code",
   "execution_count": 8,
   "id": "3f8238a9",
   "metadata": {},
   "outputs": [],
   "source": [
    "logits = socket.receive()"
   ]
  },
  {
   "cell_type": "code",
   "execution_count": 9,
   "id": "e3912fb6",
   "metadata": {},
   "outputs": [],
   "source": [
    "targets = socket.receive()\n",
    "targets = targets.to(dtype=torch.long)"
   ]
  },
  {
   "cell_type": "code",
   "execution_count": 12,
   "id": "e9e3fbaa",
   "metadata": {},
   "outputs": [],
   "source": [
    "acc, cpu, mem, runtime, _, labels = benchmark.run(logits=logits, labels=targets)"
   ]
  },
  {
   "cell_type": "code",
   "execution_count": 13,
   "id": "e4d4f206",
   "metadata": {},
   "outputs": [
    {
     "name": "stdout",
     "output_type": "stream",
     "text": [
      "Benchmark (Host): Accuracy: 100.00%, CPU Usage: 0.63 cores, Memory Usage: 0.10MB, Runtime: 0.00s\n"
     ]
    }
   ],
   "source": [
    "print(f\"Benchmark (Host): Accuracy: {acc:.2f}%, CPU Usage: {cpu:.2f} cores, Memory Usage: {mem:.2f}MB, Runtime: {runtime:.2f}s\")"
   ]
  },
  {
   "cell_type": "code",
   "execution_count": 14,
   "id": "2a24da81",
   "metadata": {},
   "outputs": [
    {
     "name": "stdout",
     "output_type": "stream",
     "text": [
      "tensor([[ 0.7089, -0.7476, -0.0036,  1.4039, -0.9515,  0.7841,  1.7679, -0.7348,\n",
      "          0.9583, -0.7040, -1.2197, -0.9904, -0.7988,  0.2641, -0.5364, -0.3622,\n",
      "          0.7251, -0.8590,  0.7065,  0.7263, -0.7797, -0.3498, -0.6212,  0.8428,\n",
      "          0.8782,  0.7267, -0.9448, -0.7076,  0.8949, -0.8892,  0.7929,  0.2626,\n",
      "         -0.6879,  0.7814,  0.7038,  0.4580,  1.3909,  0.7223, -0.7195,  0.6840,\n",
      "         -0.7028, -0.7435, -0.8354,  0.8158,  0.7670, -1.2488, -0.8105,  0.8674,\n",
      "         -0.5246,  0.7223, -1.3902,  1.2885,  0.6975, -0.4087, -0.6764, -1.6874,\n",
      "          0.8298, -0.6905,  0.7101, -0.7583, -0.8911, -0.6338,  0.9207,  0.8254,\n",
      "         -0.0968,  0.8207,  0.7985,  0.7873, -0.3857, -0.3739, -0.3412,  1.2092,\n",
      "         -0.5098, -0.3415,  1.1584, -0.3423,  1.3440,  0.5424,  1.2486,  0.7654,\n",
      "          0.4450, -0.4075,  0.0813,  0.8742,  1.1671,  0.4403, -0.2603,  0.5596,\n",
      "         -1.2576,  0.6712,  0.3430,  0.5415, -0.0528, -1.0890,  0.3648, -1.1970,\n",
      "         -1.2779,  0.3953,  1.1460,  0.6892, -0.6658,  1.2848, -0.2096,  0.5368,\n",
      "          0.3667,  0.0543, -0.0400,  1.2073,  0.3113,  0.2137, -0.0278, -0.4452,\n",
      "          0.3122,  0.4239,  0.9002,  0.2236,  0.5508,  0.3031,  0.2130, -0.3163,\n",
      "         -0.9040, -0.7868, -1.0959, -1.2327,  0.9331, -1.1988, -0.0031,  0.0625]])\n",
      "tensor([ 0,  0, 14,  0, 12, 10,  5, 15, 10,  5])\n",
      "torch.Size([16, 1, 128]) torch.Size([16])\n"
     ]
    }
   ],
   "source": [
    "print(logits[0])\n",
    "print(targets[:10])\n",
    "print(logits.shape, targets.shape)"
   ]
  }
 ],
 "metadata": {
  "kernelspec": {
   "display_name": ".venv",
   "language": "python",
   "name": "python3"
  },
  "language_info": {
   "codemirror_mode": {
    "name": "ipython",
    "version": 3
   },
   "file_extension": ".py",
   "mimetype": "text/x-python",
   "name": "python",
   "nbconvert_exporter": "python",
   "pygments_lexer": "ipython3",
   "version": "3.10.12"
  }
 },
 "nbformat": 4,
 "nbformat_minor": 5
}
