{
 "cells": [
  {
   "cell_type": "code",
   "execution_count": 1,
   "id": "b8333402",
   "metadata": {},
   "outputs": [],
   "source": [
    "import os\n",
    "import sys\n",
    "sys.path.append(os.path.join(os.getcwd().replace(\"model_inference\", \"\")))\n",
    "\n",
    "import torch\n",
    "import torch.nn as nn\n",
    "import torch.nn.functional as F\n",
    "from torch.utils.data import DataLoader\n",
    "from torch.profiler import profiler\n",
    "import matplotlib.pyplot as plt\n",
    "import time\n",
    "from parse_dataset import NetworkDataset, parse_dataset, split_datasets, binary_dataset\n",
    "from split_model import SplitModelDPU, SplitModelHost\n",
    "from load_models import models\n",
    "from transfer_tensors import HostSocket"
   ]
  },
  {
   "cell_type": "code",
   "execution_count": 2,
   "id": "4194a45b",
   "metadata": {},
   "outputs": [],
   "source": [
    "conf = {\n",
    "    \"batch_size\": 128,\n",
    "    \"epochs\": 10,\n",
    "    \"learning_rate\": 0.0001,\n",
    "    \"dpu\": False\n",
    "}"
   ]
  },
  {
   "cell_type": "code",
   "execution_count": 3,
   "id": "f2ac51f0",
   "metadata": {},
   "outputs": [
    {
     "name": "stdout",
     "output_type": "stream",
     "text": [
      "cpu\n"
     ]
    }
   ],
   "source": [
    "device = torch.device(\"cuda\" if torch.cuda.is_available() else \"cpu\")\n",
    "print(device)"
   ]
  },
  {
   "cell_type": "code",
   "execution_count": 4,
   "id": "46d930bf",
   "metadata": {},
   "outputs": [],
   "source": [
    "class BenchmarkHost:\n",
    "    def __init__(self, host_model, host_model_path):\n",
    "        self.host_model = host_model\n",
    "        self.host_model.load(host_model_path)\n",
    "    \n",
    "    def run(self, logits, labels):\n",
    "        \"\"\"Run benchmark measuring model accuracy, cpu time, memory usage and total runtime\"\"\"\n",
    "        self.host_model.model.eval()\n",
    "\n",
    "        with torch.profiler.profile(\n",
    "            activities=[profiler.ProfilerActivity.CPU],\n",
    "            record_shapes=True,\n",
    "            profile_memory=True,\n",
    "            with_stack=True\n",
    "        ) as prof:\n",
    "            start = time.perf_counter()\n",
    "            # warm-up before profiling:\n",
    "            with torch.no_grad():\n",
    "                pred, logits = self.host_model.model(logits)\n",
    "            end = time.perf_counter()\n",
    "\n",
    "        accuracy = (pred.argmax(dim=1) == labels).float().mean()\n",
    "\n",
    "        # Wall-clock time\n",
    "        wall_clock_time = end - start\n",
    "\n",
    "        # CPU compute time (µs → s)\n",
    "        cpu_time_total_s = sum([e.self_cpu_time_total for e in prof.key_averages()]) / 1e6  # microseconds\n",
    "        cpu_utilization = cpu_time_total_s / wall_clock_time\n",
    "\n",
    "        # peak memory during profiling\n",
    "        peak_mem = max([e.cpu_memory_usage for e in prof.key_averages()])\n",
    "        peak_mem = peak_mem / 1024**2 #MB\n",
    "\n",
    "        return 100*accuracy, cpu_utilization, peak_mem, wall_clock_time, logits, labels"
   ]
  },
  {
   "cell_type": "code",
   "execution_count": 5,
   "id": "3c98b7b6",
   "metadata": {},
   "outputs": [],
   "source": [
    "host_path = os.path.join(os.getcwd().replace(\"model_inference\", \"\"), \"checkpoint\", \"host_split_model.pth\")\n",
    "host_model = models[\"host\"]\n",
    "#host_model.load(host_path)"
   ]
  },
  {
   "cell_type": "code",
   "execution_count": 6,
   "id": "cbadb551",
   "metadata": {},
   "outputs": [
    {
     "name": "stdout",
     "output_type": "stream",
     "text": [
      "Checkpoint loaded from /home/jorgetf/testmodel/Network-Packet-ML-Model/checkpoint/host_split_model.pth!\n"
     ]
    }
   ],
   "source": [
    "benchmark = BenchmarkHost(host_model, host_path)"
   ]
  },
  {
   "cell_type": "code",
   "execution_count": 7,
   "id": "42eb2fa1",
   "metadata": {},
   "outputs": [],
   "source": [
    "so_file = os.path.join(os.getcwd().replace(\"model_inference\", \"\"), \"socket_transfer\", \"socket_transfer.so\")\n",
    "socket = HostSocket(so_file)"
   ]
  },
  {
   "cell_type": "code",
   "execution_count": 8,
   "id": "3f8238a9",
   "metadata": {},
   "outputs": [],
   "source": [
    "logits = socket.receive()"
   ]
  },
  {
   "cell_type": "code",
   "execution_count": 9,
   "id": "e3912fb6",
   "metadata": {},
   "outputs": [],
   "source": [
    "targets = socket.receive()\n",
    "targets = targets.to(dtype=torch.long)"
   ]
  },
  {
   "cell_type": "code",
   "execution_count": 10,
   "id": "e9e3fbaa",
   "metadata": {},
   "outputs": [
    {
     "name": "stderr",
     "output_type": "stream",
     "text": [
      "ERROR:2025-10-24 12:08:50 2866632:2866632 DeviceProperties.cpp:47] gpuGetDeviceCount failed with code 35\n"
     ]
    }
   ],
   "source": [
    "acc, cpu, mem, runtime, _, labels = benchmark.run(logits=logits, labels=targets)"
   ]
  },
  {
   "cell_type": "code",
   "execution_count": 11,
   "id": "e4d4f206",
   "metadata": {},
   "outputs": [
    {
     "name": "stdout",
     "output_type": "stream",
     "text": [
      "Benchmark (Host): Accuracy: 4.69%, CPU Usage: 0.93 cores, Memory Usage: 0.82MB, Runtime: 0.01s\n"
     ]
    }
   ],
   "source": [
    "print(f\"Benchmark (Host): Accuracy: {acc:.2f}%, CPU Usage: {cpu:.2f} cores, Memory Usage: {mem:.2f}MB, Runtime: {runtime:.2f}s\")"
   ]
  },
  {
   "cell_type": "code",
   "execution_count": 12,
   "id": "2a24da81",
   "metadata": {},
   "outputs": [
    {
     "name": "stdout",
     "output_type": "stream",
     "text": [
      "tensor([[ 0.7519, -0.7116,  0.7584, -0.7286, -0.8710, -0.7440, -0.7528, -0.6558,\n",
      "         -0.7405,  0.7365,  0.0868,  0.6960,  0.5404,  0.4739, -1.0177, -0.7227,\n",
      "          0.2148, -0.8008,  0.4949,  0.7224,  0.3411, -0.8695,  0.9343,  0.7056,\n",
      "          0.5952, -0.6922, -0.4433,  0.2624,  0.7037,  0.1183,  0.7128, -0.7314,\n",
      "          0.8568,  0.8124, -0.8194,  0.8370,  0.8752,  0.0959,  0.8442, -0.8577,\n",
      "         -0.2609,  0.8041,  0.8916,  0.4259,  0.4938, -0.2489,  0.7129,  0.8262,\n",
      "         -0.7765,  0.5222, -0.5039, -0.6198, -0.7860,  0.8677,  0.0428,  0.7230,\n",
      "         -0.7287,  0.1237,  0.6157, -0.4312,  0.8740,  0.7747,  0.2759, -0.9036,\n",
      "          0.8885, -0.7883, -0.9757,  0.7501,  0.3384, -0.9236, -1.0406, -0.8356,\n",
      "         -0.8641, -1.2406,  0.8834, -0.8488,  0.9031,  1.1479,  0.8998, -0.9417,\n",
      "         -0.0137, -1.3901, -0.9367,  1.2979,  1.2158, -1.1115,  0.7707,  0.5537,\n",
      "          0.9766,  1.9593,  0.8900, -0.9053,  0.1653, -0.8392,  1.2220,  0.8334,\n",
      "          1.0840,  0.0981,  0.8343,  0.1077, -0.8891, -0.5320,  0.5329, -1.4291,\n",
      "          0.3373, -2.0206,  0.1379,  0.8278, -0.8201,  0.8703, -1.2541,  0.8358,\n",
      "         -0.8121, -1.0652,  1.2332,  1.2611, -1.0786,  1.5120, -0.7951, -0.8868,\n",
      "          1.7852,  0.1558,  1.4190, -0.8674,  0.9662,  1.1153,  0.4626, -0.8515]])\n",
      "tensor([ 0,  0, 14,  0, 12, 10,  5, 15, 10,  5])\n",
      "torch.Size([128, 1, 128]) torch.Size([128])\n"
     ]
    }
   ],
   "source": [
    "print(logits[15])\n",
    "print(targets[:10])\n",
    "print(logits.shape, targets.shape)"
   ]
  }
 ],
 "metadata": {
  "kernelspec": {
   "display_name": ".venv",
   "language": "python",
   "name": "python3"
  },
  "language_info": {
   "codemirror_mode": {
    "name": "ipython",
    "version": 3
   },
   "file_extension": ".py",
   "mimetype": "text/x-python",
   "name": "python",
   "nbconvert_exporter": "python",
   "pygments_lexer": "ipython3",
   "version": "3.10.12"
  }
 },
 "nbformat": 4,
 "nbformat_minor": 5
}
