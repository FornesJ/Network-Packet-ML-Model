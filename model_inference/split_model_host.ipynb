{
 "cells": [
  {
   "cell_type": "code",
   "execution_count": 2,
   "id": "b8333402",
   "metadata": {},
   "outputs": [],
   "source": [
    "import os\n",
    "import sys\n",
    "sys.path.append(os.path.join(os.getcwd().replace(\"model_inference\", \"\")))\n",
    "\n",
    "import torch\n",
    "import torch.nn as nn\n",
    "import torch.nn.functional as F\n",
    "from torch.utils.data import DataLoader\n",
    "from torch.profiler import profiler\n",
    "import matplotlib.pyplot as plt\n",
    "import time\n",
    "from parse_dataset import NetworkDataset, parse_dataset, split_datasets, binary_dataset\n",
    "from split_model import SplitModelDPU, SplitModelHost\n",
    "from load_models import models\n",
    "from transfer_tensors import HostSocket"
   ]
  },
  {
   "cell_type": "code",
   "execution_count": 4,
   "id": "4194a45b",
   "metadata": {},
   "outputs": [],
   "source": [
    "conf = {\n",
    "    \"batch_size\": 512,\n",
    "    \"epochs\": 10,\n",
    "    \"learning_rate\": 0.0001,\n",
    "    \"dpu\": True\n",
    "}"
   ]
  },
  {
   "cell_type": "code",
   "execution_count": 3,
   "id": "f2ac51f0",
   "metadata": {},
   "outputs": [
    {
     "name": "stdout",
     "output_type": "stream",
     "text": [
      "cpu\n"
     ]
    }
   ],
   "source": [
    "device = torch.device(\"cuda\" if torch.cuda.is_available() else \"cpu\")\n",
    "print(device)"
   ]
  },
  {
   "cell_type": "code",
   "execution_count": 5,
   "id": "3c98b7b6",
   "metadata": {},
   "outputs": [
    {
     "name": "stdout",
     "output_type": "stream",
     "text": [
      "Checkpoint loaded from /home/jorgetf/testmodel/Network-Packet-ML-Model/checkpoint/host_split_model.pth!\n"
     ]
    }
   ],
   "source": [
    "host_path = os.path.join(os.getcwd().replace(\"model_inference\", \"\"), \"checkpoint\", \"host_split_model.pth\")\n",
    "host_model = models[\"host\"]\n",
    "host_model.load(host_path)"
   ]
  },
  {
   "cell_type": "code",
   "execution_count": 7,
   "id": "42eb2fa1",
   "metadata": {},
   "outputs": [],
   "source": [
    "so_file = os.path.join(os.getcwd().replace(\"model_inference\", \"\"), \"socket_transfer\", \"socket_transfer.so\")\n",
    "socket = HostSocket(so_file)"
   ]
  },
  {
   "cell_type": "code",
   "execution_count": 8,
   "id": "3f8238a9",
   "metadata": {},
   "outputs": [],
   "source": [
    "logits = socket.receive()"
   ]
  },
  {
   "cell_type": "code",
   "execution_count": 10,
   "id": "7f73f128",
   "metadata": {},
   "outputs": [
    {
     "name": "stdout",
     "output_type": "stream",
     "text": [
      "tensor([[[ 0.7089, -0.7476, -0.0036,  ..., -1.1988, -0.0031,  0.0625]],\n",
      "\n",
      "        [[ 0.7035, -0.8195, -0.6801,  ...,  1.1419, -0.9509,  1.0023]],\n",
      "\n",
      "        [[ 0.7385, -0.6565, -0.3436,  ...,  0.9756, -0.9859,  1.0586]],\n",
      "\n",
      "        ...,\n",
      "\n",
      "        [[-1.4335,  1.3560,  1.2605,  ..., -1.1613, -0.4889,  0.3996]],\n",
      "\n",
      "        [[-1.4335,  1.3560,  1.2605,  ...,  1.0344,  0.3211, -0.4307]],\n",
      "\n",
      "        [[ 0.6609, -0.1933, -1.8079,  ...,  0.9212, -0.9846,  0.9950]]])\n",
      "torch.Size([430, 1, 128])\n"
     ]
    }
   ],
   "source": [
    "print(logits[:10])\n",
    "print(logits.shape)"
   ]
  },
  {
   "cell_type": "code",
   "execution_count": 11,
   "id": "e3912fb6",
   "metadata": {},
   "outputs": [],
   "source": [
    "targets = socket.receive()"
   ]
  },
  {
   "cell_type": "code",
   "execution_count": 13,
   "id": "60cd5283",
   "metadata": {},
   "outputs": [
    {
     "name": "stdout",
     "output_type": "stream",
     "text": [
      "tensor([ 0,  0, 14,  0, 12, 10, 15, 10, 19, 14])\n",
      "torch.Size([430])\n"
     ]
    }
   ],
   "source": [
    "targets = targets.to(dtype=torch.long)\n",
    "print(targets[:10])\n",
    "print(targets.shape)"
   ]
  },
  {
   "cell_type": "code",
   "execution_count": 14,
   "id": "e9e3fbaa",
   "metadata": {},
   "outputs": [],
   "source": [
    "host_model.model.eval()\n",
    "pred = host_model.inference(logits)"
   ]
  },
  {
   "cell_type": "code",
   "execution_count": 15,
   "id": "3c8468e4",
   "metadata": {},
   "outputs": [
    {
     "name": "stdout",
     "output_type": "stream",
     "text": [
      "torch.Size([430, 24])\n",
      "tensor([[ 4.6979e+00,  3.1636e+00, -3.6517e+00, -3.6972e+00, -4.2605e+00,\n",
      "         -4.6877e-01, -2.0419e+00, -4.6063e+00, -3.6925e+00, -3.7097e+00,\n",
      "         -3.3261e+00, -1.8383e+00, -2.9790e+00, -3.6210e+00, -3.7775e+00,\n",
      "          4.5890e+00,  2.2242e-02, -3.2947e+00, -1.7936e+00, -3.3861e+00,\n",
      "         -3.5585e+00, -2.5873e+00, -6.3391e-01, -2.8784e+00],\n",
      "        [ 6.0482e+00,  3.8152e+00, -3.1756e+00, -4.1994e+00, -5.5951e+00,\n",
      "         -1.4789e+00, -5.4159e+00, -2.9915e+00, -1.7095e+00, -4.6667e+00,\n",
      "         -6.5855e+00, -1.7636e+00, -2.1558e+00, -4.0477e+00, -4.9167e+00,\n",
      "         -1.8678e+00,  2.1934e-01, -4.0542e+00, -2.5919e+00, -2.5418e+00,\n",
      "         -5.2979e+00, -3.9423e+00, -6.8515e-01, -5.3517e+00],\n",
      "        [-3.7170e+00, -6.4874e+00,  4.3721e+00,  1.5684e+00, -2.2964e+00,\n",
      "         -1.5650e+00, -4.5363e+00, -5.7751e+00,  3.6249e+00, -4.1446e+00,\n",
      "         -3.7369e+00, -2.8719e+00,  2.9706e+00,  2.8010e-01,  4.9406e+00,\n",
      "         -5.6998e+00, -3.0746e+00, -2.7339e+00, -4.1705e+00, -2.0856e+00,\n",
      "          4.5346e-01, -7.7294e-01, -5.0266e+00, -5.1346e+00],\n",
      "        [ 6.2168e+00,  4.0202e+00, -3.3894e+00, -3.5858e+00, -4.0613e+00,\n",
      "         -9.1072e-01, -3.4443e+00, -3.3837e+00, -3.3910e+00, -3.3365e+00,\n",
      "         -4.1215e+00, -2.5954e+00, -3.2157e+00, -3.4980e+00, -4.0897e+00,\n",
      "          1.4635e-01, -1.7553e+00, -3.9467e+00, -2.9995e+00, -3.1436e+00,\n",
      "         -4.0772e+00, -3.2745e+00, -4.0539e-01, -3.9589e+00],\n",
      "        [-1.9735e+00, -4.8775e+00,  1.6533e-01, -1.4504e+00, -9.6180e-01,\n",
      "         -1.8896e+00, -3.8397e+00, -5.3486e+00,  2.5994e+00, -4.5074e+00,\n",
      "         -2.0877e+00, -3.1872e+00,  4.5277e+00,  3.4214e+00, -5.9815e-01,\n",
      "         -5.4918e+00, -2.9981e+00, -5.3149e+00, -4.0962e+00, -4.0286e+00,\n",
      "         -3.8510e+00, -2.9241e+00, -3.6912e+00, -5.8539e+00],\n",
      "        [ 8.6554e-01, -1.6647e+00, -2.5777e+00, -7.2070e+00, -4.4334e+00,\n",
      "          2.3407e+00, -2.1011e+00,  3.9236e+00, -1.2375e+00, -3.9743e-02,\n",
      "          5.0425e+00, -5.1035e+00, -2.6146e+00, -4.3689e+00, -1.7020e+00,\n",
      "         -5.5731e+00, -1.3157e+00, -5.1125e+00, -2.7934e+00, -4.8962e+00,\n",
      "         -4.3186e+00, -4.4114e+00, -1.8313e+00, -3.8527e+00],\n",
      "        [ 3.1369e+00,  8.4426e-01, -4.4558e+00, -3.9038e+00, -6.2883e+00,\n",
      "         -6.0901e-01, -7.1396e-01, -5.8045e+00, -3.4759e+00, -1.0896e+00,\n",
      "         -2.1640e+00, -6.4320e-01, -2.4598e+00, -3.6067e+00, -3.6254e+00,\n",
      "          4.7988e+00,  1.2766e+00, -2.5417e+00, -3.8966e-01, -3.0729e+00,\n",
      "         -4.1637e+00, -2.6341e+00, -2.1731e+00, -4.1178e+00],\n",
      "        [ 1.1076e+00, -2.6236e+00, -2.5630e+00, -7.6857e+00, -5.3506e+00,\n",
      "          1.1111e+00, -2.5203e+00,  2.3353e+00, -4.3134e-01, -2.0133e+00,\n",
      "          6.3870e+00, -5.1309e+00, -1.2483e+00, -3.6141e+00, -5.9733e-02,\n",
      "         -5.1254e+00, -2.7558e-01, -5.5931e+00, -2.3082e+00, -6.6231e+00,\n",
      "         -4.8925e+00, -4.9418e+00, -2.4275e+00, -4.4645e+00],\n",
      "        [ 5.0160e-03, -3.7066e+00, -1.6602e+00, -3.2133e+00, -6.6569e+00,\n",
      "          1.2386e+00, -6.8356e+00, -4.4006e+00, -1.9556e+00, -1.7567e+00,\n",
      "         -2.7438e+00, -2.2719e+00, -2.1107e+00, -4.5936e+00, -2.3759e+00,\n",
      "         -2.8092e+00,  3.7047e-01, -5.2785e+00,  1.9025e+00,  4.4184e+00,\n",
      "         -2.0094e+00, -4.0152e+00, -4.0135e+00, -6.2603e+00],\n",
      "        [-2.3004e+00, -4.0412e+00, -9.8549e-01, -5.2591e-01,  2.8211e+00,\n",
      "         -4.3507e-01, -3.1936e+00, -4.8677e+00,  1.0728e+00, -2.1705e+00,\n",
      "         -3.7805e+00, -6.8915e-01,  8.8035e-01, -1.5288e+00,  3.4747e+00,\n",
      "         -4.4895e+00, -3.2235e+00, -1.6342e+00, -3.3858e+00, -2.5820e+00,\n",
      "         -2.2318e-01, -1.5594e+00, -3.3282e+00, -4.7975e+00]])\n",
      "tensor([ 0,  0, 14,  0, 12, 10, 15, 10, 19, 14])\n"
     ]
    }
   ],
   "source": [
    "print(pred.shape)\n",
    "print(pred[:10])\n",
    "print(targets[:10])"
   ]
  }
 ],
 "metadata": {
  "kernelspec": {
   "display_name": ".venv",
   "language": "python",
   "name": "python3"
  },
  "language_info": {
   "codemirror_mode": {
    "name": "ipython",
    "version": 3
   },
   "file_extension": ".py",
   "mimetype": "text/x-python",
   "name": "python",
   "nbconvert_exporter": "python",
   "pygments_lexer": "ipython3",
   "version": "3.10.12"
  }
 },
 "nbformat": 4,
 "nbformat_minor": 5
}
