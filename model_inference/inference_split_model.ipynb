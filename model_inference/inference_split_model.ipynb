{
 "cells": [
  {
   "cell_type": "code",
   "execution_count": 1,
   "id": "e7dfdf15",
   "metadata": {},
   "outputs": [],
   "source": [
    "import os\n",
    "import sys\n",
    "sys.path.append(os.path.join(os.getcwd().replace(\"model_inference\", \"\")))\n",
    "\n",
    "import torch\n",
    "import torch.nn as nn\n",
    "import torch.nn.functional as F\n",
    "from torch.utils.data import DataLoader\n",
    "from torch.profiler import profiler\n",
    "import matplotlib.pyplot as plt\n",
    "import time\n",
    "from parse_dataset import NetworkDataset, parse_dataset, split_datasets\n",
    "from split_model import SplitModelDPU, SplitModelHost\n",
    "from load_models import models"
   ]
  },
  {
   "cell_type": "code",
   "execution_count": 2,
   "id": "db5cb906",
   "metadata": {},
   "outputs": [],
   "source": [
    "conf = {\n",
    "    \"batch_size\": 512,\n",
    "    \"epochs\": 10,\n",
    "    \"learning_rate\": 0.0001\n",
    "}"
   ]
  },
  {
   "cell_type": "code",
   "execution_count": 3,
   "id": "ea827927",
   "metadata": {},
   "outputs": [
    {
     "name": "stdout",
     "output_type": "stream",
     "text": [
      "cuda\n"
     ]
    }
   ],
   "source": [
    "device = torch.device(\"cuda\" if torch.cuda.is_available() else \"cpu\")\n",
    "print(device)"
   ]
  },
  {
   "cell_type": "code",
   "execution_count": 4,
   "id": "aa5976bf",
   "metadata": {},
   "outputs": [
    {
     "name": "stdout",
     "output_type": "stream",
     "text": [
      "packet_dat,attack_cat\n",
      "\n",
      "torch.Size([356334, 513, 1])\n",
      "torch.Size([356334])\n"
     ]
    }
   ],
   "source": [
    "# extract dataset from csv file\n",
    "network_data_file = os.path.join(os.getcwd().replace(\"model_inference\", \"\"), \"datasets\", \"network_packet_data_test.csv\")\n",
    "\n",
    "data, labels, label_dict = parse_dataset(network_data_file)\n",
    "\n",
    "X_train, y_train, X_val, y_val, X_test, y_test = split_datasets(data, labels)\n",
    "\n",
    "X_train, X_val, X_test = X_train.unsqueeze(-1), X_val.unsqueeze(-1), X_test.unsqueeze(-1)\n",
    "print(X_train.shape)\n",
    "print(y_train.shape)\n",
    "\n",
    "# create train, val and test datasets\n",
    "train_dataset = NetworkDataset(X_train, y_train)\n",
    "train_loader = DataLoader(train_dataset, batch_size=conf[\"batch_size\"], shuffle=True)\n",
    "\n",
    "val_dataset = NetworkDataset(X_val, y_val)\n",
    "val_loader = DataLoader(val_dataset, batch_size=conf[\"batch_size\"], shuffle=True)\n",
    "\n",
    "test_dataset = NetworkDataset(X_test, y_test)\n",
    "test_loader = DataLoader(test_dataset, batch_size=conf[\"batch_size\"])"
   ]
  },
  {
   "cell_type": "code",
   "execution_count": 12,
   "id": "1db28af7",
   "metadata": {},
   "outputs": [],
   "source": [
    "def binary_dataset(labels, label_dict):\n",
    "    binary_labels = []\n",
    "    label_names = list(label_dict.keys())\n",
    "    for label in labels:\n",
    "        if label_names[label] == \"Normal\":\n",
    "            binary_labels.append(0)\n",
    "        else:\n",
    "            binary_labels.append(1)\n",
    "    y_binary = torch.tensor(binary_labels, dtype=torch.float)\n",
    "    return y_binary"
   ]
  },
  {
   "cell_type": "code",
   "execution_count": 13,
   "id": "df52dbba",
   "metadata": {},
   "outputs": [],
   "source": [
    "class Benchmark:\n",
    "    def __init__(self, model, model_path, binary=False):\n",
    "        self.model = model\n",
    "        self.model.load(model_path)\n",
    "        self.binary = binary\n",
    "    \n",
    "    def run(self, loader):\n",
    "        \"\"\"Run benchmark measuring model accuracy, cpu time, memory usage and total runtime\"\"\"\n",
    "        self.model.model.eval()\n",
    "\n",
    "        # warm-up before profiling:\n",
    "        for i in range(5):\n",
    "            with torch.no_grad():\n",
    "                data, labels = next(iter(loader))\n",
    "                pred, _ = self.model.model(data)\n",
    "\n",
    "        with torch.profiler.profile(\n",
    "                    activities=[profiler.ProfilerActivity.CPU],\n",
    "                    record_shapes=True,\n",
    "                    profile_memory=True,\n",
    "                    with_stack=True\n",
    "                ) as prof:\n",
    "                    data, labels = next(iter(loader))\n",
    "                    if self.binary:\n",
    "                        bin_labels = binary_dataset(labels, label_dict)\n",
    "                    start = time.perf_counter()\n",
    "                    # warm-up before profiling:\n",
    "                    with torch.no_grad():\n",
    "                        pred, logits = self.model.model(data)\n",
    "                    end = time.perf_counter()\n",
    "        if self.binary:\n",
    "            accuracy = (pred.round() == bin_labels).float().mean()\n",
    "        else:\n",
    "            accuracy = (pred.argmax(dim=1) == labels).float().mean()\n",
    "\n",
    "        # Wall-clock time\n",
    "        wall_clock_time = end - start\n",
    "\n",
    "        # CPU compute time (µs → s)\n",
    "        cpu_time_total_s = sum([e.self_cpu_time_total for e in prof.key_averages()]) / 1e6  # microseconds\n",
    "        cpu_utilization = cpu_time_total_s / wall_clock_time\n",
    "\n",
    "        # peak memory during profiling\n",
    "        peak_mem = max([e.cpu_memory_usage for e in prof.key_averages()])\n",
    "        peak_mem = peak_mem / 1024**2 #MB\n",
    "\n",
    "        return 100*accuracy, cpu_utilization, peak_mem, wall_clock_time, logits, labels"
   ]
  },
  {
   "cell_type": "code",
   "execution_count": 5,
   "id": "75253016",
   "metadata": {},
   "outputs": [
    {
     "name": "stdout",
     "output_type": "stream",
     "text": [
      "Checkpoint loaded from /home/jorgetf/testmodel/Network-Packet-ML-Model/checkpoint/dpu_split_model.pth!\n"
     ]
    }
   ],
   "source": [
    "dpu_path = os.path.join(os.getcwd().replace(\"model_inference\", \"\"), \"checkpoint\", \"dpu_split_model.pth\")\n",
    "dpu_model = models[\"dpu\"]\n",
    "dpu_model.load(dpu_path)"
   ]
  },
  {
   "cell_type": "code",
   "execution_count": 6,
   "id": "c377497f",
   "metadata": {},
   "outputs": [
    {
     "name": "stdout",
     "output_type": "stream",
     "text": [
      "Checkpoint loaded from /home/jorgetf/testmodel/Network-Packet-ML-Model/checkpoint/host_split_model.pth!\n"
     ]
    }
   ],
   "source": [
    "host_path = os.path.join(os.getcwd().replace(\"model_inference\", \"\"), \"checkpoint\", \"host_split_model.pth\")\n",
    "host_model = models[\"host\"]\n",
    "host_model.load(host_path)"
   ]
  },
  {
   "cell_type": "code",
   "execution_count": 7,
   "id": "62e0d61a",
   "metadata": {},
   "outputs": [],
   "source": [
    "# test inference:\n",
    "data, labels = next(iter(test_loader))\n",
    "if not data.is_cuda or not labels.is_cuda:\n",
    "    data, labels = data.to(device), labels.to(device)"
   ]
  },
  {
   "cell_type": "code",
   "execution_count": 8,
   "id": "405e33c1",
   "metadata": {},
   "outputs": [],
   "source": [
    "dpu_model.model.eval()\n",
    "pred, logits, targets = dpu_model.inference(data, labels)"
   ]
  },
  {
   "cell_type": "code",
   "execution_count": 9,
   "id": "e89403de",
   "metadata": {},
   "outputs": [
    {
     "name": "stdout",
     "output_type": "stream",
     "text": [
      "torch.Size([512]) torch.Size([430, 1, 128]) torch.Size([430])\n",
      "tensor([ 0,  0, 14,  0, 12, 10, 15, 10, 19, 14], device='cuda:0')\n",
      "tensor([1., 1., 1., 1., 1., 1., 0., 1., 1., 0.], device='cuda:0')\n"
     ]
    }
   ],
   "source": [
    "print(pred.shape, logits.shape, targets.shape)\n",
    "print(targets[:10])\n",
    "print(pred[:10])"
   ]
  },
  {
   "cell_type": "code",
   "execution_count": 10,
   "id": "0c088006",
   "metadata": {},
   "outputs": [],
   "source": [
    "host_model.model.eval()\n",
    "pred = host_model.inference(logits)"
   ]
  },
  {
   "cell_type": "code",
   "execution_count": 11,
   "id": "0b5c2e58",
   "metadata": {},
   "outputs": [
    {
     "name": "stdout",
     "output_type": "stream",
     "text": [
      "torch.Size([430, 24])\n",
      "tensor([[ 4.6968e+00,  3.1629e+00, -3.6513e+00, -3.6988e+00, -4.2607e+00,\n",
      "         -4.6674e-01, -2.0412e+00, -4.6080e+00, -3.6925e+00, -3.7131e+00,\n",
      "         -3.3246e+00, -1.8385e+00, -2.9786e+00, -3.6216e+00, -3.7784e+00,\n",
      "          4.5936e+00,  2.4731e-02, -3.2962e+00, -1.7925e+00, -3.3871e+00,\n",
      "         -3.5597e+00, -2.5878e+00, -6.3501e-01, -2.8789e+00],\n",
      "        [ 6.0477e+00,  3.8143e+00, -3.1752e+00, -4.1990e+00, -5.5945e+00,\n",
      "         -1.4785e+00, -5.4158e+00, -2.9913e+00, -1.7090e+00, -4.6664e+00,\n",
      "         -6.5852e+00, -1.7637e+00, -2.1553e+00, -4.0471e+00, -4.9171e+00,\n",
      "         -1.8685e+00,  2.1936e-01, -4.0545e+00, -2.5911e+00, -2.5408e+00,\n",
      "         -5.2973e+00, -3.9422e+00, -6.8539e-01, -5.3514e+00],\n",
      "        [-3.7172e+00, -6.4881e+00,  4.3727e+00,  1.5676e+00, -2.2972e+00,\n",
      "         -1.5643e+00, -4.5361e+00, -5.7751e+00,  3.6252e+00, -4.1444e+00,\n",
      "         -3.7361e+00, -2.8719e+00,  2.9702e+00,  2.7930e-01,  4.9404e+00,\n",
      "         -5.6994e+00, -3.0737e+00, -2.7353e+00, -4.1697e+00, -2.0846e+00,\n",
      "          4.5346e-01, -7.7359e-01, -5.0265e+00, -5.1349e+00],\n",
      "        [ 6.2153e+00,  4.0169e+00, -3.3888e+00, -3.5850e+00, -4.0612e+00,\n",
      "         -9.1033e-01, -3.4411e+00, -3.3840e+00, -3.3913e+00, -3.3363e+00,\n",
      "         -4.1197e+00, -2.5940e+00, -3.2153e+00, -3.4974e+00, -4.0893e+00,\n",
      "          1.5128e-01, -1.7529e+00, -3.9452e+00, -2.9985e+00, -3.1437e+00,\n",
      "         -4.0764e+00, -3.2736e+00, -4.0601e-01, -3.9572e+00],\n",
      "        [-1.9746e+00, -4.8791e+00,  1.6697e-01, -1.4500e+00, -9.6143e-01,\n",
      "         -1.8889e+00, -3.8407e+00, -5.3479e+00,  2.6001e+00, -4.5096e+00,\n",
      "         -2.0873e+00, -3.1871e+00,  4.5290e+00,  3.4223e+00, -5.9836e-01,\n",
      "         -5.4921e+00, -2.9982e+00, -5.3152e+00, -4.0962e+00, -4.0287e+00,\n",
      "         -3.8513e+00, -2.9239e+00, -3.6918e+00, -5.8540e+00],\n",
      "        [ 8.6597e-01, -1.6649e+00, -2.5781e+00, -7.2066e+00, -4.4328e+00,\n",
      "          2.3410e+00, -2.1006e+00,  3.9229e+00, -1.2379e+00, -3.9154e-02,\n",
      "          5.0428e+00, -5.1038e+00, -2.6149e+00, -4.3687e+00, -1.7026e+00,\n",
      "         -5.5712e+00, -1.3156e+00, -5.1129e+00, -2.7926e+00, -4.8957e+00,\n",
      "         -4.3184e+00, -4.4113e+00, -1.8311e+00, -3.8524e+00],\n",
      "        [ 3.1376e+00,  8.4639e-01, -4.4572e+00, -3.9076e+00, -6.2886e+00,\n",
      "         -6.0831e-01, -7.1384e-01, -5.8057e+00, -3.4768e+00, -1.0909e+00,\n",
      "         -2.1640e+00, -6.4413e-01, -2.4604e+00, -3.6083e+00, -3.6266e+00,\n",
      "          4.8014e+00,  1.2777e+00, -2.5445e+00, -3.8908e-01, -3.0743e+00,\n",
      "         -4.1657e+00, -2.6354e+00, -2.1723e+00, -4.1183e+00],\n",
      "        [ 1.1072e+00, -2.6244e+00, -2.5636e+00, -7.6846e+00, -5.3504e+00,\n",
      "          1.1110e+00, -2.5184e+00,  2.3328e+00, -4.3147e-01, -2.0108e+00,\n",
      "          6.3881e+00, -5.1309e+00, -1.2479e+00, -3.6133e+00, -5.9026e-02,\n",
      "         -5.1240e+00, -2.7637e-01, -5.5928e+00, -2.3087e+00, -6.6229e+00,\n",
      "         -4.8911e+00, -4.9414e+00, -2.4276e+00, -4.4638e+00],\n",
      "        [ 4.8924e-03, -3.7070e+00, -1.6606e+00, -3.2139e+00, -6.6566e+00,\n",
      "          1.2390e+00, -6.8342e+00, -4.4010e+00, -1.9564e+00, -1.7563e+00,\n",
      "         -2.7426e+00, -2.2719e+00, -2.1106e+00, -4.5934e+00, -2.3766e+00,\n",
      "         -2.8090e+00,  3.7059e-01, -5.2790e+00,  1.9027e+00,  4.4177e+00,\n",
      "         -2.0094e+00, -4.0152e+00, -4.0131e+00, -6.2598e+00],\n",
      "        [-2.3005e+00, -4.0429e+00, -9.8443e-01, -5.2539e-01,  2.8202e+00,\n",
      "         -4.3516e-01, -3.1940e+00, -4.8681e+00,  1.0730e+00, -2.1715e+00,\n",
      "         -3.7806e+00, -6.8849e-01,  8.8138e-01, -1.5276e+00,  3.4746e+00,\n",
      "         -4.4893e+00, -3.2236e+00, -1.6342e+00, -3.3857e+00, -2.5815e+00,\n",
      "         -2.2255e-01, -1.5590e+00, -3.3282e+00, -4.7973e+00]], device='cuda:0')\n",
      "tensor([ 0,  0, 14,  0, 12, 10, 15, 10, 19, 14], device='cuda:0')\n"
     ]
    }
   ],
   "source": [
    "print(pred.shape)\n",
    "print(pred[:10])\n",
    "print(targets[:10])"
   ]
  }
 ],
 "metadata": {
  "kernelspec": {
   "display_name": ".venv",
   "language": "python",
   "name": "python3"
  },
  "language_info": {
   "codemirror_mode": {
    "name": "ipython",
    "version": 3
   },
   "file_extension": ".py",
   "mimetype": "text/x-python",
   "name": "python",
   "nbconvert_exporter": "python",
   "pygments_lexer": "ipython3",
   "version": "3.10.12"
  }
 },
 "nbformat": 4,
 "nbformat_minor": 5
}
