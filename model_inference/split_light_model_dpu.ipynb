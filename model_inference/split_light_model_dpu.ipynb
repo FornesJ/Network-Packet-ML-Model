{
 "cells": [
  {
   "cell_type": "code",
   "execution_count": 1,
   "id": "80886432",
   "metadata": {},
   "outputs": [],
   "source": [
    "import os\n",
    "import sys\n",
    "import json\n",
    "sys.path.append(os.path.join(os.getcwd().replace(\"model_inference\", \"\")))\n",
    "\n",
    "import torch\n",
    "import torch.nn as nn\n",
    "import torch.nn.functional as F\n",
    "from torch.utils.data import DataLoader\n",
    "from torch.profiler import profiler\n",
    "import matplotlib.pyplot as plt\n",
    "import time\n",
    "from parse_dataset import binary_dataset, NetworkDataset\n",
    "from split_model import SplitModelDPU, SplitModelHost\n",
    "from load_models import models\n",
    "from transfer_tensors import DPUSocket"
   ]
  },
  {
   "cell_type": "code",
   "execution_count": 2,
   "id": "4b48693d",
   "metadata": {},
   "outputs": [],
   "source": [
    "conf = {\n",
    "    \"batch_size\": 16,\n",
    "    \"epochs\": 10,\n",
    "    \"learning_rate\": 0.0001,\n",
    "    \"dpu\": True\n",
    "}"
   ]
  },
  {
   "cell_type": "code",
   "execution_count": 3,
   "id": "27f31bde",
   "metadata": {},
   "outputs": [
    {
     "name": "stdout",
     "output_type": "stream",
     "text": [
      "cpu\n"
     ]
    }
   ],
   "source": [
    "device = torch.device(\"cuda\" if torch.cuda.is_available() else \"cpu\")\n",
    "print(device)"
   ]
  },
  {
   "cell_type": "code",
   "execution_count": 4,
   "id": "954f3429",
   "metadata": {},
   "outputs": [
    {
     "name": "stdout",
     "output_type": "stream",
     "text": [
      "torch.Size([356334, 513, 1])\n",
      "torch.Size([356334])\n"
     ]
    }
   ],
   "source": [
    "dataset_path = os.path.join(os.getcwd().replace(\"model_inference\", \"\"), \"datasets\")\n",
    "\n",
    "# load label_dict\n",
    "json_file = os.path.join(dataset_path, \"label_index.json\")\n",
    "with open(json_file, 'r') as file:\n",
    "    label_dict = json.load(file)\n",
    "\n",
    "# load train, val and test datasets\n",
    "train_dataset_file = os.path.join(dataset_path, \"train_dataset.pt\")\n",
    "X_train, y_train = torch.load(train_dataset_file)\n",
    "\n",
    "val_dataset_file = os.path.join(dataset_path, \"val_dataset.pt\")\n",
    "X_val, y_val = torch.load(val_dataset_file)\n",
    "\n",
    "test_dataset_file = os.path.join(dataset_path, \"test_dataset.pt\")\n",
    "X_test, y_test = torch.load(test_dataset_file)\n",
    "\n",
    "X_train, X_val, X_test = X_train.unsqueeze(-1), X_val.unsqueeze(-1), X_test.unsqueeze(-1)\n",
    "print(X_train.shape)\n",
    "print(y_train.shape)\n",
    "\n",
    "# create train, val and test datasets\n",
    "train_dataset = NetworkDataset(X_train, y_train)\n",
    "train_loader = DataLoader(train_dataset, batch_size=conf[\"batch_size\"], shuffle=True)\n",
    "\n",
    "val_dataset = NetworkDataset(X_val, y_val)\n",
    "val_loader = DataLoader(val_dataset, batch_size=conf[\"batch_size\"], shuffle=True)\n",
    "\n",
    "test_dataset = NetworkDataset(X_test, y_test)\n",
    "test_loader = DataLoader(test_dataset, batch_size=conf[\"batch_size\"])"
   ]
  },
  {
   "cell_type": "code",
   "execution_count": 5,
   "id": "8cc3b480",
   "metadata": {},
   "outputs": [],
   "source": [
    "class BenchmarkDPU:\n",
    "    def __init__(self, dpu_model, dpu_model_path):\n",
    "        self.dpu_model = dpu_model\n",
    "        self.dpu_model.load(dpu_model_path)\n",
    "    \n",
    "    def run(self, loader):\n",
    "        \"\"\"Run benchmark measuring model accuracy, cpu time, memory usage and total runtime\"\"\"\n",
    "        self.dpu_model.model.eval()\n",
    "\n",
    "        # warm-up before profiling:\n",
    "        for i in range(5):\n",
    "            with torch.no_grad():\n",
    "                data, labels = next(iter(loader))\n",
    "                pred, _ = self.dpu_model.model(data)\n",
    "\n",
    "        with torch.profiler.profile(\n",
    "            activities=[profiler.ProfilerActivity.CPU],\n",
    "            record_shapes=True,\n",
    "            profile_memory=True,\n",
    "            with_stack=True\n",
    "        ) as prof:\n",
    "            data, labels = next(iter(loader))\n",
    "            bin_labels = binary_dataset(labels, label_dict)\n",
    "            start = time.perf_counter()\n",
    "            # warm-up before profiling:\n",
    "            with torch.no_grad():\n",
    "                pred, logits = self.dpu_model.model(data)\n",
    "                logits = logits.detach()  # break the graph here\n",
    "                logits = logits.unsqueeze(1)\n",
    "            end = time.perf_counter()\n",
    "        \n",
    "        accuracy = (pred.round() == bin_labels).float().mean()\n",
    "        \n",
    "        # Wall-clock time\n",
    "        wall_clock_time = end - start\n",
    "\n",
    "        # CPU compute time (µs → s)\n",
    "        cpu_time_total_s = sum([e.self_cpu_time_total for e in prof.key_averages()]) / 1e6  # microseconds\n",
    "        cpu_utilization = cpu_time_total_s / wall_clock_time\n",
    "\n",
    "        # peak memory during profiling\n",
    "        peak_mem = max([e.cpu_memory_usage for e in prof.key_averages()])\n",
    "        peak_mem = peak_mem / 1024**2 #MB\n",
    "\n",
    "        return 100*accuracy, cpu_utilization, peak_mem, wall_clock_time, logits, labels"
   ]
  },
  {
   "cell_type": "code",
   "execution_count": 6,
   "id": "7b515c32",
   "metadata": {},
   "outputs": [
    {
     "name": "stdout",
     "output_type": "stream",
     "text": [
      "Checkpoint loaded from /home/jorgetf/testmodel/Network-Packet-ML-Model/checkpoint/light_dpu_split_model.pth!\n"
     ]
    }
   ],
   "source": [
    "light_dpu_path = os.path.join(os.getcwd().replace(\"model_inference\", \"\"), \"checkpoint\", \"light_dpu_split_model.pth\")\n",
    "light_dpu_model = models[\"light_dpu\"]\n",
    "benchmark = BenchmarkDPU(light_dpu_model, light_dpu_path)"
   ]
  },
  {
   "cell_type": "code",
   "execution_count": 7,
   "id": "84a43e87",
   "metadata": {},
   "outputs": [
    {
     "name": "stderr",
     "output_type": "stream",
     "text": [
      "[W1024 11:20:10.737563141 CPUAllocator.cpp:245] Memory block of unknown size was allocated before the profiling started, profiler results will not include the deallocation event\n",
      "ERROR:2025-10-24 11:20:10 2859687:2859687 DeviceProperties.cpp:47] gpuGetDeviceCount failed with code 35\n"
     ]
    }
   ],
   "source": [
    "acc, cpu, mem, runtime, logits, targets = benchmark.run(test_loader)"
   ]
  },
  {
   "cell_type": "code",
   "execution_count": 8,
   "id": "7fd690a4",
   "metadata": {},
   "outputs": [
    {
     "name": "stdout",
     "output_type": "stream",
     "text": [
      "Benchmark (dpu): Accuracy: 69.53%, CPU Usage: 1.00 cores, Memory Usage: 24.05MB, Runtime: 0.12s\n"
     ]
    }
   ],
   "source": [
    "print(f\"Benchmark (dpu): Accuracy: {acc:.2f}%, CPU Usage: {cpu:.2f} cores, Memory Usage: {mem:.2f}MB, Runtime: {runtime:.2f}s\")"
   ]
  },
  {
   "cell_type": "code",
   "execution_count": 9,
   "id": "97c7bbc8",
   "metadata": {},
   "outputs": [
    {
     "name": "stdout",
     "output_type": "stream",
     "text": [
      "torch.Size([16, 1, 128]) torch.Size([16])\n"
     ]
    }
   ],
   "source": [
    "print(logits.shape, targets.shape)"
   ]
  }
 ],
 "metadata": {
  "kernelspec": {
   "display_name": ".venv",
   "language": "python",
   "name": "python3"
  },
  "language_info": {
   "codemirror_mode": {
    "name": "ipython",
    "version": 3
   },
   "file_extension": ".py",
   "mimetype": "text/x-python",
   "name": "python",
   "nbconvert_exporter": "python",
   "pygments_lexer": "ipython3",
   "version": "3.10.12"
  }
 },
 "nbformat": 4,
 "nbformat_minor": 5
}
