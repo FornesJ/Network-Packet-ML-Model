{
 "cells": [
  {
   "cell_type": "code",
   "execution_count": 1,
   "id": "80886432",
   "metadata": {},
   "outputs": [],
   "source": [
    "import os\n",
    "import sys\n",
    "import json\n",
    "sys.path.append(os.path.join(os.getcwd().replace(\"model_inference\", \"\")))\n",
    "\n",
    "import torch\n",
    "import torch.nn as nn\n",
    "import torch.nn.functional as F\n",
    "from torch.utils.data import DataLoader\n",
    "from torch.profiler import profiler\n",
    "import matplotlib.pyplot as plt\n",
    "import time\n",
    "from parse_dataset import binary_dataset, NetworkDataset\n",
    "from split_model import SplitModelDPU, SplitModelHost\n",
    "from load_models import models\n",
    "from transfer_tensors import DPUSocket"
   ]
  },
  {
   "cell_type": "code",
   "execution_count": 2,
   "id": "4b48693d",
   "metadata": {},
   "outputs": [],
   "source": [
    "conf = {\n",
    "    \"batch_size\": 128,\n",
    "    \"epochs\": 10,\n",
    "    \"learning_rate\": 0.0001,\n",
    "    \"dpu\": True\n",
    "}"
   ]
  },
  {
   "cell_type": "code",
   "execution_count": 3,
   "id": "27f31bde",
   "metadata": {},
   "outputs": [
    {
     "name": "stdout",
     "output_type": "stream",
     "text": [
      "cpu\n"
     ]
    }
   ],
   "source": [
    "device = torch.device(\"cuda\" if torch.cuda.is_available() else \"cpu\")\n",
    "print(device)"
   ]
  },
  {
   "cell_type": "code",
   "execution_count": 4,
   "id": "954f3429",
   "metadata": {},
   "outputs": [
    {
     "name": "stdout",
     "output_type": "stream",
     "text": [
      "torch.Size([356334, 513, 1])\n",
      "torch.Size([356334])\n"
     ]
    }
   ],
   "source": [
    "dataset_path = os.path.join(os.getcwd().replace(\"model_inference\", \"\"), \"datasets\")\n",
    "\n",
    "# load label_dict\n",
    "json_file = os.path.join(dataset_path, \"label_index.json\")\n",
    "with open(json_file, 'r') as file:\n",
    "    label_dict = json.load(file)\n",
    "\n",
    "# load train, val and test datasets\n",
    "train_dataset_file = os.path.join(dataset_path, \"train_dataset.pt\")\n",
    "X_train, y_train = torch.load(train_dataset_file)\n",
    "\n",
    "val_dataset_file = os.path.join(dataset_path, \"val_dataset.pt\")\n",
    "X_val, y_val = torch.load(val_dataset_file)\n",
    "\n",
    "test_dataset_file = os.path.join(dataset_path, \"test_dataset.pt\")\n",
    "X_test, y_test = torch.load(test_dataset_file)\n",
    "\n",
    "X_train, X_val, X_test = X_train.unsqueeze(-1), X_val.unsqueeze(-1), X_test.unsqueeze(-1)\n",
    "print(X_train.shape)\n",
    "print(y_train.shape)\n",
    "\n",
    "# create train, val and test datasets\n",
    "train_dataset = NetworkDataset(X_train, y_train)\n",
    "train_loader = DataLoader(train_dataset, batch_size=conf[\"batch_size\"], shuffle=True)\n",
    "\n",
    "val_dataset = NetworkDataset(X_val, y_val)\n",
    "val_loader = DataLoader(val_dataset, batch_size=conf[\"batch_size\"], shuffle=True)\n",
    "\n",
    "test_dataset = NetworkDataset(X_test, y_test)\n",
    "test_loader = DataLoader(test_dataset, batch_size=conf[\"batch_size\"])"
   ]
  },
  {
   "cell_type": "code",
   "execution_count": 5,
   "id": "8cc3b480",
   "metadata": {},
   "outputs": [],
   "source": [
    "class BenchmarkDPU:\n",
    "    def __init__(self, dpu_model, dpu_model_path):\n",
    "        self.dpu_model = dpu_model\n",
    "        self.dpu_model.load(dpu_model_path)\n",
    "    \n",
    "    def run(self, loader):\n",
    "        \"\"\"Run benchmark measuring model accuracy, cpu time, memory usage and total runtime\"\"\"\n",
    "        self.dpu_model.model.eval()\n",
    "\n",
    "        # warm-up before profiling:\n",
    "        for i in range(5):\n",
    "            with torch.no_grad():\n",
    "                data, labels = next(iter(loader))\n",
    "                pred, _ = self.dpu_model.model(data)\n",
    "\n",
    "        with torch.profiler.profile(\n",
    "            activities=[profiler.ProfilerActivity.CPU],\n",
    "            record_shapes=True,\n",
    "            profile_memory=True,\n",
    "            with_stack=True\n",
    "        ) as prof:\n",
    "            data, labels = next(iter(loader))\n",
    "            bin_labels = binary_dataset(labels, label_dict)\n",
    "            start = time.perf_counter()\n",
    "            # warm-up before profiling:\n",
    "            with torch.no_grad():\n",
    "                pred, logits = self.dpu_model.model(data)\n",
    "                logits = logits.detach()  # break the graph here\n",
    "                logits = logits.unsqueeze(1)\n",
    "            end = time.perf_counter()\n",
    "        \n",
    "        accuracy = (pred.round() == bin_labels).float().mean()\n",
    "        \n",
    "        # Wall-clock time\n",
    "        wall_clock_time = end - start\n",
    "\n",
    "        # CPU compute time (µs → s)\n",
    "        cpu_time_total_s = sum([e.self_cpu_time_total for e in prof.key_averages()]) / 1e6  # microseconds\n",
    "        cpu_utilization = cpu_time_total_s / wall_clock_time\n",
    "\n",
    "        # peak memory during profiling\n",
    "        peak_mem = max([e.cpu_memory_usage for e in prof.key_averages()])\n",
    "        peak_mem = peak_mem / 1024**2 #MB\n",
    "\n",
    "        return 100*accuracy, cpu_utilization, peak_mem, wall_clock_time, logits, labels"
   ]
  },
  {
   "cell_type": "code",
   "execution_count": 6,
   "id": "7b515c32",
   "metadata": {},
   "outputs": [
    {
     "name": "stdout",
     "output_type": "stream",
     "text": [
      "Checkpoint loaded from /home/ubuntu/Network-Packet-ML-Model/checkpoint/light_dpu_split_model.pth!\n"
     ]
    }
   ],
   "source": [
    "light_dpu_path = os.path.join(os.getcwd().replace(\"model_inference\", \"\"), \"checkpoint\", \"light_dpu_split_model.pth\")\n",
    "light_dpu_model = models[\"light_dpu\"]\n",
    "benchmark = BenchmarkDPU(light_dpu_model, light_dpu_path)"
   ]
  },
  {
   "cell_type": "code",
   "execution_count": 7,
   "id": "2e3f6f86",
   "metadata": {},
   "outputs": [],
   "source": [
    "so_file = os.path.join(os.getcwd().replace(\"model_inference\", \"\"), \"socket_transfer\", \"socket_transfer.so\")\n",
    "address = \"10.128.14.17\"\n",
    "socket = DPUSocket(so_file, address)"
   ]
  },
  {
   "cell_type": "code",
   "execution_count": 8,
   "id": "84a43e87",
   "metadata": {},
   "outputs": [
    {
     "name": "stderr",
     "output_type": "stream",
     "text": [
      "[W1024 10:08:29.593027846 CPUAllocator.cpp:245] Memory block of unknown size was allocated before the profiling started, profiler results will not include the deallocation event\n"
     ]
    }
   ],
   "source": [
    "acc, cpu, mem, runtime, logits, targets = benchmark.run(test_loader)"
   ]
  },
  {
   "cell_type": "code",
   "execution_count": 9,
   "id": "7fd690a4",
   "metadata": {},
   "outputs": [
    {
     "name": "stdout",
     "output_type": "stream",
     "text": [
      "Benchmark (dpu): Accuracy: 66.71%, CPU Usage: 1.01 cores, Memory Usage: 192.39MB, Runtime: 1.64s\n"
     ]
    }
   ],
   "source": [
    "print(f\"Benchmark (dpu): Accuracy: {acc:.2f}%, CPU Usage: {cpu:.2f} cores, Memory Usage: {mem:.2f}MB, Runtime: {runtime:.2f}s\")"
   ]
  },
  {
   "cell_type": "code",
   "execution_count": 10,
   "id": "97c7bbc8",
   "metadata": {},
   "outputs": [
    {
     "name": "stdout",
     "output_type": "stream",
     "text": [
      "torch.Size([128, 1, 128]) torch.Size([128])\n"
     ]
    }
   ],
   "source": [
    "print(logits.shape, targets.shape)"
   ]
  },
  {
   "cell_type": "code",
   "execution_count": 11,
   "id": "a92b850e",
   "metadata": {},
   "outputs": [
    {
     "name": "stdout",
     "output_type": "stream",
     "text": [
      "Buffer of size 65536 bytes sent to host! \n"
     ]
    }
   ],
   "source": [
    "# send logits\n",
    "socket.send(logits)"
   ]
  },
  {
   "cell_type": "code",
   "execution_count": 12,
   "id": "3ccd26ef",
   "metadata": {},
   "outputs": [
    {
     "name": "stdout",
     "output_type": "stream",
     "text": [
      "Buffer of size 512 bytes sent to host! \n"
     ]
    }
   ],
   "source": [
    "targets = targets.to(dtype=torch.float)\n",
    "#send targets\n",
    "socket.send(targets)"
   ]
  },
  {
   "cell_type": "code",
   "execution_count": 13,
   "id": "1226b019",
   "metadata": {},
   "outputs": [
    {
     "name": "stdout",
     "output_type": "stream",
     "text": [
      "tensor([[ 0.7519, -0.7116,  0.7584, -0.7286, -0.8710, -0.7440, -0.7528, -0.6558,\n",
      "         -0.7405,  0.7365,  0.0868,  0.6960,  0.5404,  0.4739, -1.0177, -0.7227,\n",
      "          0.2148, -0.8008,  0.4949,  0.7224,  0.3411, -0.8695,  0.9343,  0.7056,\n",
      "          0.5952, -0.6922, -0.4433,  0.2624,  0.7037,  0.1183,  0.7128, -0.7314,\n",
      "          0.8568,  0.8124, -0.8194,  0.8370,  0.8752,  0.0959,  0.8442, -0.8577,\n",
      "         -0.2609,  0.8041,  0.8916,  0.4259,  0.4938, -0.2489,  0.7129,  0.8262,\n",
      "         -0.7765,  0.5222, -0.5039, -0.6198, -0.7860,  0.8677,  0.0428,  0.7230,\n",
      "         -0.7287,  0.1237,  0.6157, -0.4312,  0.8740,  0.7747,  0.2759, -0.9036,\n",
      "          0.8885, -0.7883, -0.9757,  0.7501,  0.3384, -0.9236, -1.0406, -0.8356,\n",
      "         -0.8641, -1.2406,  0.8834, -0.8488,  0.9031,  1.1479,  0.8998, -0.9417,\n",
      "         -0.0137, -1.3901, -0.9367,  1.2979,  1.2158, -1.1115,  0.7707,  0.5537,\n",
      "          0.9766,  1.9593,  0.8900, -0.9053,  0.1653, -0.8392,  1.2220,  0.8334,\n",
      "          1.0840,  0.0981,  0.8343,  0.1077, -0.8891, -0.5320,  0.5329, -1.4291,\n",
      "          0.3373, -2.0206,  0.1379,  0.8278, -0.8201,  0.8703, -1.2541,  0.8358,\n",
      "         -0.8121, -1.0652,  1.2332,  1.2611, -1.0786,  1.5120, -0.7951, -0.8868,\n",
      "          1.7852,  0.1558,  1.4190, -0.8674,  0.9662,  1.1153,  0.4626, -0.8515]])\n",
      "tensor([ 0.,  0., 14.,  0., 12., 10.,  5., 15., 10.,  5.])\n",
      "torch.Size([128, 1, 128]) torch.Size([128])\n"
     ]
    }
   ],
   "source": [
    "print(logits[15])\n",
    "print(targets[:10])\n",
    "print(logits.shape, targets.shape)"
   ]
  }
 ],
 "metadata": {
  "kernelspec": {
   "display_name": ".venv",
   "language": "python",
   "name": "python3"
  },
  "language_info": {
   "codemirror_mode": {
    "name": "ipython",
    "version": 3
   },
   "file_extension": ".py",
   "mimetype": "text/x-python",
   "name": "python",
   "nbconvert_exporter": "python",
   "pygments_lexer": "ipython3",
   "version": "3.10.12"
  }
 },
 "nbformat": 4,
 "nbformat_minor": 5
}
