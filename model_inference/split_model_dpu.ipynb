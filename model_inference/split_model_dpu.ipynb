{
 "cells": [
  {
   "cell_type": "code",
   "execution_count": 1,
   "id": "8c1c3918",
   "metadata": {},
   "outputs": [],
   "source": [
    "import os\n",
    "import sys\n",
    "sys.path.append(os.path.join(os.getcwd().replace(\"model_inference\", \"\")))\n",
    "\n",
    "import torch\n",
    "import torch.nn as nn\n",
    "import torch.nn.functional as F\n",
    "from torch.utils.data import DataLoader\n",
    "from torch.profiler import profiler\n",
    "import matplotlib.pyplot as plt\n",
    "import time\n",
    "from parse_dataset import NetworkDataset, parse_dataset, split_datasets, binary_dataset\n",
    "from split_model import SplitModelDPU, SplitModelHost\n",
    "from load_models import models\n",
    "from transfer_tensors import DPUSocket"
   ]
  },
  {
   "cell_type": "code",
   "execution_count": 2,
   "id": "dd07d5ce",
   "metadata": {},
   "outputs": [],
   "source": [
    "conf = {\n",
    "    \"batch_size\": 512,\n",
    "    \"epochs\": 10,\n",
    "    \"learning_rate\": 0.0001,\n",
    "    \"dpu\": True\n",
    "}"
   ]
  },
  {
   "cell_type": "code",
   "execution_count": 3,
   "id": "4ff33c8c",
   "metadata": {},
   "outputs": [
    {
     "name": "stdout",
     "output_type": "stream",
     "text": [
      "cpu\n"
     ]
    }
   ],
   "source": [
    "device = torch.device(\"cuda\" if torch.cuda.is_available() else \"cpu\")\n",
    "print(device)"
   ]
  },
  {
   "cell_type": "code",
   "execution_count": 4,
   "id": "34e1455b",
   "metadata": {},
   "outputs": [
    {
     "name": "stdout",
     "output_type": "stream",
     "text": [
      "packet_dat,attack_cat\n",
      "\n",
      "torch.Size([356334, 513, 1])\n",
      "torch.Size([356334])\n"
     ]
    }
   ],
   "source": [
    "# extract dataset from csv file\n",
    "network_data_file = os.path.join(os.getcwd().replace(\"model_inference\", \"\"), \"datasets\", \"network_packet_data_test.csv\")\n",
    "\n",
    "data, labels, label_dict = parse_dataset(network_data_file)\n",
    "\n",
    "X_train, y_train, X_val, y_val, X_test, y_test = split_datasets(data, labels)\n",
    "\n",
    "X_train, X_val, X_test = X_train.unsqueeze(-1), X_val.unsqueeze(-1), X_test.unsqueeze(-1)\n",
    "print(X_train.shape)\n",
    "print(y_train.shape)\n",
    "\n",
    "# create train, val and test datasets\n",
    "train_dataset = NetworkDataset(X_train, y_train)\n",
    "train_loader = DataLoader(train_dataset, batch_size=conf[\"batch_size\"], shuffle=True)\n",
    "\n",
    "val_dataset = NetworkDataset(X_val, y_val)\n",
    "val_loader = DataLoader(val_dataset, batch_size=conf[\"batch_size\"], shuffle=True)\n",
    "\n",
    "test_dataset = NetworkDataset(X_test, y_test)\n",
    "test_loader = DataLoader(test_dataset, batch_size=conf[\"batch_size\"])"
   ]
  },
  {
   "cell_type": "code",
   "execution_count": 5,
   "id": "2e8f5690",
   "metadata": {},
   "outputs": [
    {
     "name": "stdout",
     "output_type": "stream",
     "text": [
      "Checkpoint loaded from /home/jorgetf/testmodel/Network-Packet-ML-Model/checkpoint/dpu_split_model.pth!\n"
     ]
    }
   ],
   "source": [
    "dpu_path = os.path.join(os.getcwd().replace(\"model_inference\", \"\"), \"checkpoint\", \"dpu_split_model.pth\")\n",
    "dpu_model = models[\"dpu\"]\n",
    "dpu_model.load(dpu_path)"
   ]
  },
  {
   "cell_type": "code",
   "execution_count": 8,
   "id": "cdbf78c0",
   "metadata": {},
   "outputs": [],
   "source": [
    "so_file = os.path.join(os.getcwd().replace(\"model_inference\", \"\"), \"socket_transfer\", \"socket_transfer.so\")\n",
    "address = \"127.0.0.1\"\n",
    "socket = DPUSocket(so_file, address)"
   ]
  },
  {
   "cell_type": "code",
   "execution_count": 6,
   "id": "221f4ea7",
   "metadata": {},
   "outputs": [],
   "source": [
    "# test inference:\n",
    "data, labels = next(iter(test_loader))\n",
    "if not data.is_cuda or not labels.is_cuda:\n",
    "    data, labels = data.to(device), labels.to(device)"
   ]
  },
  {
   "cell_type": "code",
   "execution_count": 7,
   "id": "5f30a11f",
   "metadata": {},
   "outputs": [
    {
     "name": "stdout",
     "output_type": "stream",
     "text": [
      "torch.Size([512]) torch.Size([430, 1, 128]) torch.Size([430])\n",
      "tensor([ 0,  0, 14,  0, 12, 10, 15, 10, 19, 14])\n",
      "tensor([1., 1., 1., 1., 1., 1., 0., 1., 1., 0.])\n"
     ]
    }
   ],
   "source": [
    "dpu_model.model.eval()\n",
    "pred, logits, targets = dpu_model.inference(data, labels)\n",
    "print(pred.shape, logits.shape, targets.shape)\n",
    "print(targets[:10])\n",
    "print(pred[:10])"
   ]
  },
  {
   "cell_type": "code",
   "execution_count": 10,
   "id": "f92a422c",
   "metadata": {},
   "outputs": [
    {
     "name": "stdout",
     "output_type": "stream",
     "text": [
      "tensor([ 0.,  0., 14.,  0., 12., 10., 15., 10., 19., 14.])\n"
     ]
    }
   ],
   "source": [
    "targets = targets.to(dtype=torch.float)\n",
    "print(targets[:10])"
   ]
  },
  {
   "cell_type": "code",
   "execution_count": 11,
   "id": "b4f3ef24",
   "metadata": {},
   "outputs": [
    {
     "name": "stdout",
     "output_type": "stream",
     "text": [
      "Buffer of size 220160 bytes sent to host! \n"
     ]
    }
   ],
   "source": [
    "# send logits\n",
    "socket.send(logits)"
   ]
  },
  {
   "cell_type": "code",
   "execution_count": 12,
   "id": "34e8e398",
   "metadata": {},
   "outputs": [
    {
     "name": "stdout",
     "output_type": "stream",
     "text": [
      "Buffer of size 1720 bytes sent to host! \n"
     ]
    }
   ],
   "source": [
    "#send targets\n",
    "socket.send(targets)"
   ]
  }
 ],
 "metadata": {
  "kernelspec": {
   "display_name": ".venv",
   "language": "python",
   "name": "python3"
  },
  "language_info": {
   "codemirror_mode": {
    "name": "ipython",
    "version": 3
   },
   "file_extension": ".py",
   "mimetype": "text/x-python",
   "name": "python",
   "nbconvert_exporter": "python",
   "pygments_lexer": "ipython3",
   "version": "3.10.12"
  }
 },
 "nbformat": 4,
 "nbformat_minor": 5
}
