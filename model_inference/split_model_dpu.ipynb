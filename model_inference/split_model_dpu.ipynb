{
 "cells": [
  {
   "cell_type": "code",
   "execution_count": 1,
   "id": "8c1c3918",
   "metadata": {},
   "outputs": [],
   "source": [
    "import os\n",
    "import sys\n",
    "import json\n",
    "sys.path.append(os.path.join(os.getcwd().replace(\"model_inference\", \"\")))\n",
    "\n",
    "import torch\n",
    "import torch.nn as nn\n",
    "import torch.nn.functional as F\n",
    "from torch.utils.data import DataLoader\n",
    "from torch.profiler import profiler\n",
    "import matplotlib.pyplot as plt\n",
    "import time\n",
    "from parse_dataset import NetworkDataset, parse_dataset, split_datasets, binary_dataset\n",
    "from split_model import SplitModelDPU, SplitModelHost\n",
    "from load_models import models\n",
    "from transfer_tensors import DPUSocket"
   ]
  },
  {
   "cell_type": "code",
   "execution_count": 2,
   "id": "dd07d5ce",
   "metadata": {},
   "outputs": [],
   "source": [
    "conf = {\n",
    "    \"batch_size\": 128,\n",
    "    \"epochs\": 10,\n",
    "    \"learning_rate\": 0.0001,\n",
    "    \"dpu\": True\n",
    "}"
   ]
  },
  {
   "cell_type": "code",
   "execution_count": 3,
   "id": "4ff33c8c",
   "metadata": {},
   "outputs": [
    {
     "name": "stdout",
     "output_type": "stream",
     "text": [
      "cpu\n"
     ]
    }
   ],
   "source": [
    "device = torch.device(\"cuda\" if torch.cuda.is_available() else \"cpu\")\n",
    "print(device)"
   ]
  },
  {
   "cell_type": "code",
   "execution_count": 4,
   "id": "34e1455b",
   "metadata": {},
   "outputs": [
    {
     "name": "stdout",
     "output_type": "stream",
     "text": [
      "torch.Size([356334, 513, 1])\n",
      "torch.Size([356334])\n"
     ]
    }
   ],
   "source": [
    "dataset_path = os.path.join(os.getcwd().replace(\"model_inference\", \"\"), \"datasets\")\n",
    "\n",
    "# load label_dict\n",
    "json_file = os.path.join(dataset_path, \"label_index.json\")\n",
    "with open(json_file, 'r') as file:\n",
    "    label_dict = json.load(file)\n",
    "\n",
    "# load train, val and test datasets\n",
    "train_dataset_file = os.path.join(dataset_path, \"train_dataset.pt\")\n",
    "X_train, y_train = torch.load(train_dataset_file)\n",
    "\n",
    "val_dataset_file = os.path.join(dataset_path, \"val_dataset.pt\")\n",
    "X_val, y_val = torch.load(val_dataset_file)\n",
    "\n",
    "test_dataset_file = os.path.join(dataset_path, \"test_dataset.pt\")\n",
    "X_test, y_test = torch.load(test_dataset_file)\n",
    "\n",
    "X_train, X_val, X_test = X_train.unsqueeze(-1), X_val.unsqueeze(-1), X_test.unsqueeze(-1)\n",
    "print(X_train.shape)\n",
    "print(y_train.shape)\n",
    "\n",
    "# create train, val and test datasets\n",
    "train_dataset = NetworkDataset(X_train, y_train)\n",
    "train_loader = DataLoader(train_dataset, batch_size=conf[\"batch_size\"], shuffle=True)\n",
    "\n",
    "val_dataset = NetworkDataset(X_val, y_val)\n",
    "val_loader = DataLoader(val_dataset, batch_size=conf[\"batch_size\"], shuffle=True)\n",
    "\n",
    "test_dataset = NetworkDataset(X_test, y_test)\n",
    "test_loader = DataLoader(test_dataset, batch_size=conf[\"batch_size\"])"
   ]
  },
  {
   "cell_type": "code",
   "execution_count": 5,
   "id": "cbe0390b",
   "metadata": {},
   "outputs": [],
   "source": [
    "class BenchmarkDPU:\n",
    "    def __init__(self, dpu_model, dpu_model_path):\n",
    "        self.dpu_model = dpu_model\n",
    "        self.dpu_model.load(dpu_model_path)\n",
    "    \n",
    "    def run(self, loader):\n",
    "        \"\"\"Run benchmark measuring model accuracy, cpu time, memory usage and total runtime\"\"\"\n",
    "        self.dpu_model.model.eval()\n",
    "\n",
    "        # warm-up before profiling:\n",
    "        for i in range(5):\n",
    "            with torch.no_grad():\n",
    "                data, labels = next(iter(loader))\n",
    "                pred, _ = self.dpu_model.model(data)\n",
    "\n",
    "        with torch.profiler.profile(\n",
    "            activities=[profiler.ProfilerActivity.CPU],\n",
    "            record_shapes=True,\n",
    "            profile_memory=True,\n",
    "            with_stack=True\n",
    "        ) as prof:\n",
    "            data, labels = next(iter(loader))\n",
    "            bin_labels = binary_dataset(labels, label_dict)\n",
    "            start = time.perf_counter()\n",
    "            # warm-up before profiling:\n",
    "            with torch.no_grad():\n",
    "                pred, logits = self.dpu_model.model(data)\n",
    "                logits = logits.detach()  # break the graph here\n",
    "                logits = logits.unsqueeze(1)\n",
    "            end = time.perf_counter()\n",
    "        \n",
    "        accuracy = (pred.round() == bin_labels).float().mean()\n",
    "        \n",
    "        # Wall-clock time\n",
    "        wall_clock_time = end - start\n",
    "\n",
    "        # CPU compute time (µs → s)\n",
    "        cpu_time_total_s = sum([e.self_cpu_time_total for e in prof.key_averages()]) / 1e6  # microseconds\n",
    "        cpu_utilization = cpu_time_total_s / wall_clock_time\n",
    "\n",
    "        # peak memory during profiling\n",
    "        peak_mem = max([e.cpu_memory_usage for e in prof.key_averages()])\n",
    "        peak_mem = peak_mem / 1024**2 #MB\n",
    "\n",
    "        return 100*accuracy, cpu_utilization, peak_mem, wall_clock_time, logits, labels"
   ]
  },
  {
   "cell_type": "code",
   "execution_count": 6,
   "id": "2e8f5690",
   "metadata": {},
   "outputs": [],
   "source": [
    "dpu_path = os.path.join(os.getcwd().replace(\"model_inference\", \"\"), \"checkpoint\", \"dpu_split_model.pth\")\n",
    "dpu_model = models[\"dpu\"]\n",
    "# dpu_model.load(dpu_path)"
   ]
  },
  {
   "cell_type": "code",
   "execution_count": 7,
   "id": "ff296685",
   "metadata": {},
   "outputs": [
    {
     "name": "stdout",
     "output_type": "stream",
     "text": [
      "Checkpoint loaded from /home/ubuntu/Network-Packet-ML-Model/checkpoint/dpu_split_model.pth!\n"
     ]
    }
   ],
   "source": [
    "benchmark = BenchmarkDPU(dpu_model, dpu_path)"
   ]
  },
  {
   "cell_type": "code",
   "execution_count": 8,
   "id": "cdbf78c0",
   "metadata": {},
   "outputs": [],
   "source": [
    "so_file = os.path.join(os.getcwd().replace(\"model_inference\", \"\"), \"socket_transfer\", \"socket_transfer.so\")\n",
    "address = \"10.128.14.17\"\n",
    "socket = DPUSocket(so_file, address)"
   ]
  },
  {
   "cell_type": "code",
   "execution_count": 9,
   "id": "221f4ea7",
   "metadata": {},
   "outputs": [
    {
     "name": "stderr",
     "output_type": "stream",
     "text": [
      "[W1024 10:02:48.149626067 CPUAllocator.cpp:245] Memory block of unknown size was allocated before the profiling started, profiler results will not include the deallocation event\n"
     ]
    }
   ],
   "source": [
    "acc, cpu, mem, runtime, logits, targets = benchmark.run(test_loader)"
   ]
  },
  {
   "cell_type": "code",
   "execution_count": 10,
   "id": "c0e0f67a",
   "metadata": {},
   "outputs": [
    {
     "name": "stdout",
     "output_type": "stream",
     "text": [
      "Benchmark (dpu): Accuracy: 66.71%, CPU Usage: 1.00 cores, Memory Usage: 384.81MB, Runtime: 4.32s\n"
     ]
    }
   ],
   "source": [
    "print(f\"Benchmark (dpu): Accuracy: {acc:.2f}%, CPU Usage: {cpu:.2f} cores, Memory Usage: {mem:.2f}MB, Runtime: {runtime:.2f}s\")"
   ]
  },
  {
   "cell_type": "code",
   "execution_count": 11,
   "id": "b4f3ef24",
   "metadata": {},
   "outputs": [
    {
     "name": "stdout",
     "output_type": "stream",
     "text": [
      "Buffer of size 65536 bytes sent to host! \n"
     ]
    }
   ],
   "source": [
    "# send logits\n",
    "socket.send(logits)"
   ]
  },
  {
   "cell_type": "code",
   "execution_count": 12,
   "id": "34e8e398",
   "metadata": {},
   "outputs": [
    {
     "name": "stdout",
     "output_type": "stream",
     "text": [
      "Buffer of size 512 bytes sent to host! \n"
     ]
    }
   ],
   "source": [
    "#send targets\n",
    "targets = targets.to(dtype=torch.float)\n",
    "socket.send(targets)"
   ]
  },
  {
   "cell_type": "code",
   "execution_count": 13,
   "id": "67794a0a",
   "metadata": {},
   "outputs": [
    {
     "name": "stdout",
     "output_type": "stream",
     "text": [
      "tensor([[ 0.7089, -0.7476, -0.0036,  1.4039, -0.9515,  0.7841,  1.7679, -0.7348,\n",
      "          0.9583, -0.7040, -1.2197, -0.9904, -0.7988,  0.2641, -0.5364, -0.3622,\n",
      "          0.7251, -0.8590,  0.7065,  0.7263, -0.7797, -0.3498, -0.6212,  0.8428,\n",
      "          0.8782,  0.7267, -0.9448, -0.7076,  0.8949, -0.8892,  0.7929,  0.2626,\n",
      "         -0.6879,  0.7814,  0.7038,  0.4580,  1.3909,  0.7223, -0.7195,  0.6840,\n",
      "         -0.7028, -0.7435, -0.8354,  0.8158,  0.7670, -1.2488, -0.8105,  0.8674,\n",
      "         -0.5246,  0.7223, -1.3902,  1.2885,  0.6975, -0.4087, -0.6764, -1.6874,\n",
      "          0.8298, -0.6905,  0.7101, -0.7583, -0.8911, -0.6338,  0.9207,  0.8254,\n",
      "         -0.0968,  0.8207,  0.7985,  0.7873, -0.3857, -0.3739, -0.3412,  1.2092,\n",
      "         -0.5098, -0.3415,  1.1584, -0.3423,  1.3440,  0.5424,  1.2486,  0.7654,\n",
      "          0.4450, -0.4075,  0.0813,  0.8742,  1.1671,  0.4403, -0.2603,  0.5596,\n",
      "         -1.2576,  0.6712,  0.3430,  0.5415, -0.0528, -1.0890,  0.3648, -1.1970,\n",
      "         -1.2779,  0.3953,  1.1460,  0.6892, -0.6658,  1.2848, -0.2096,  0.5368,\n",
      "          0.3667,  0.0543, -0.0400,  1.2073,  0.3113,  0.2137, -0.0278, -0.4452,\n",
      "          0.3122,  0.4239,  0.9002,  0.2236,  0.5508,  0.3031,  0.2130, -0.3163,\n",
      "         -0.9040, -0.7868, -1.0959, -1.2327,  0.9331, -1.1988, -0.0031,  0.0625]])\n",
      "tensor([ 0.,  0., 14.,  0., 12., 10.,  5., 15., 10.,  5.])\n",
      "torch.Size([128, 1, 128]) torch.Size([128])\n"
     ]
    }
   ],
   "source": [
    "print(logits[0])\n",
    "print(targets[:10])\n",
    "print(logits.shape, targets.shape)"
   ]
  }
 ],
 "metadata": {
  "kernelspec": {
   "display_name": ".venv",
   "language": "python",
   "name": "python3"
  },
  "language_info": {
   "codemirror_mode": {
    "name": "ipython",
    "version": 3
   },
   "file_extension": ".py",
   "mimetype": "text/x-python",
   "name": "python",
   "nbconvert_exporter": "python",
   "pygments_lexer": "ipython3",
   "version": "3.10.12"
  }
 },
 "nbformat": 4,
 "nbformat_minor": 5
}
