{
 "cells": [
  {
   "cell_type": "code",
   "execution_count": 1,
   "id": "72f53fab",
   "metadata": {},
   "outputs": [],
   "source": [
    "import os\n",
    "import sys\n",
    "sys.path.append(os.path.join(os.getcwd().replace(\"distilled_models\", \"\")))\n",
    "\n",
    "import torch\n",
    "import torch.nn as nn\n",
    "import torch.nn.functional as F\n",
    "from torch.utils.data import DataLoader\n",
    "import matplotlib.pyplot as plt\n",
    "from parse_dataset import NetworkDataset, parse_dataset, split_datasets\n",
    "from model import Model\n",
    "from knowledge_distillation import KnowledgeDistillation"
   ]
  },
  {
   "cell_type": "code",
   "execution_count": 2,
   "id": "a0926171",
   "metadata": {},
   "outputs": [],
   "source": [
    "conf = {\n",
    "    \"batch_size\": 512,\n",
    "    \"epochs\": 10,\n",
    "    \"learning_rate\": 0.0001\n",
    "}"
   ]
  },
  {
   "cell_type": "code",
   "execution_count": 3,
   "id": "412ec72a",
   "metadata": {},
   "outputs": [
    {
     "name": "stdout",
     "output_type": "stream",
     "text": [
      "cuda\n"
     ]
    }
   ],
   "source": [
    "device = torch.device(\"cuda\" if torch.cuda.is_available() else \"cpu\")\n",
    "print(device)"
   ]
  },
  {
   "cell_type": "code",
   "execution_count": 6,
   "id": "8769be20",
   "metadata": {},
   "outputs": [
    {
     "name": "stdout",
     "output_type": "stream",
     "text": [
      "packet_dat,attack_cat\n",
      "\n",
      "torch.Size([356334, 513, 1])\n",
      "torch.Size([356334])\n"
     ]
    }
   ],
   "source": [
    "# extract dataset from csv file\n",
    "network_data_file = os.path.join(os.getcwd().replace(\"distilled_models\", \"\"), \"datasets\", \"network_packet_data_test.csv\")\n",
    "\n",
    "data, labels, label_dict = parse_dataset(network_data_file)\n",
    "\n",
    "X_train, y_train, X_val, y_val, X_test, y_test = split_datasets(data, labels)\n",
    "X_train, X_val, X_test = X_train.unsqueeze(-1), X_val.unsqueeze(-1), X_test.unsqueeze(-1)\n",
    "print(X_train.shape)\n",
    "print(y_train.shape)\n",
    "\n",
    "# create train, val and test datasets\n",
    "train_dataset = NetworkDataset(X_train, y_train)\n",
    "train_loader = DataLoader(train_dataset, batch_size=conf[\"batch_size\"], shuffle=True)\n",
    "\n",
    "val_dataset = NetworkDataset(X_val, y_val)\n",
    "val_loader = DataLoader(val_dataset, batch_size=conf[\"batch_size\"], shuffle=True)\n",
    "\n",
    "test_dataset = NetworkDataset(X_test, y_test)\n",
    "test_loader = DataLoader(test_dataset, batch_size=conf[\"batch_size\"])"
   ]
  },
  {
   "cell_type": "code",
   "execution_count": 7,
   "id": "07913a8c",
   "metadata": {},
   "outputs": [],
   "source": [
    "# create LSTM model:\n",
    "class INML(nn.Module):\n",
    "    def __init__(self, i_size, h_size):\n",
    "        super(INML, self).__init__()\n",
    "        self.i_size = i_size\n",
    "        self.h_size = h_size\n",
    "        self.lstm1 = nn.LSTM(input_size=i_size, hidden_size=h_size, num_layers=4, batch_first=True, dropout=0.15, bidirectional=True, device=device)\n",
    "        self.bn1 = nn.BatchNorm1d(2 * h_size)\n",
    "\n",
    "        self.fc = nn.Sequential(\n",
    "            nn.Linear(2*h_size, 128),\n",
    "            nn.BatchNorm1d(128),\n",
    "            nn.ReLU(),\n",
    "            nn.Dropout(p=0.15),\n",
    "            nn.Linear(128, 24)\n",
    "        )\n",
    "        \n",
    "    def forward(self, x, h0=None, c0=None):\n",
    "        if h0 is None or c0 is None:\n",
    "            h0 = torch.zeros(8, x.shape[0], self.h_size).to(device)\n",
    "            c0 = torch.zeros(8, x.shape[0], self.h_size).to(device)\n",
    "\n",
    "        output, (h0, c0) = self.lstm1(x, (h0, c0))  # output: [B, T, 2*h_size]\n",
    "\n",
    "        # take last layer's hidden state (both directions)\n",
    "        # h0 shape: [num_layers*2, B, size]\n",
    "        h_last = h0.view(4, 2, x.shape[0], self.h_size)[-1]  # [2, B, h_size]\n",
    "        h_last = torch.cat((h_last[0], h_last[1]), dim=1)  # [B, 2*h_size]\n",
    "\n",
    "        # apply BN + FC\n",
    "        h_last = self.bn1(h_last)         # [B, 2*h_size] → batch norm\n",
    "\n",
    "\n",
    "        out = self.fc(h_last)            # [B, 24]\n",
    "        return out"
   ]
  },
  {
   "cell_type": "code",
   "execution_count": 12,
   "id": "be4dc518",
   "metadata": {},
   "outputs": [],
   "source": [
    "class LightLSTM(nn.Module):\n",
    "    def __init__(self, i_size, h_size):\n",
    "        super(LightLSTM, self).__init__()\n",
    "        self.i_size = i_size\n",
    "        self.h_size = h_size\n",
    "        self.lstm1 = nn.LSTM(input_size=i_size, hidden_size=h_size, num_layers=1, batch_first=True, bidirectional=True, device=device)\n",
    "        self.bn1 = nn.BatchNorm1d(2 * h_size)\n",
    "\n",
    "        self.fc = nn.Sequential(\n",
    "            nn.Linear(2*h_size, 32),\n",
    "            nn.BatchNorm1d(32),\n",
    "            nn.ReLU(),\n",
    "            nn.Dropout(p=0.15),\n",
    "            nn.Linear(32, 24)\n",
    "        )\n",
    "\n",
    "    def forward(self, x, h0=None, c0=None):\n",
    "        if h0 is None or c0 is None:\n",
    "            h0 = torch.zeros(2, x.shape[0], self.h_size).to(device)\n",
    "            c0 = torch.zeros(2, x.shape[0], self.h_size).to(device)\n",
    "\n",
    "        output, (h0, c0) = self.lstm1(x, (h0, c0))  # output: [B, T, 2*h_size]\n",
    "\n",
    "        # take last layer's hidden state (both directions)\n",
    "        # h0 shape: [num_layers*2, B, size]\n",
    "        h_last = h0.view(1, 2, x.shape[0], self.h_size)[-1]  # [2, B, h_size]\n",
    "        h_last = torch.cat((h_last[0], h_last[1]), dim=1)  # [B, 2*h_size]\n",
    "\n",
    "        # apply BN + FC\n",
    "        h_last = self.bn1(h_last)         # [B, 2*h_size] → batch norm\n",
    "\n",
    "\n",
    "        out = self.fc(h_last)            # [B, 24]\n",
    "        return out"
   ]
  },
  {
   "cell_type": "code",
   "execution_count": 9,
   "id": "64e5ff84",
   "metadata": {},
   "outputs": [],
   "source": [
    "class FocalLoss(nn.Module):\n",
    "    def __init__(self, gamma=2.1, alpha=0.9, reduction='mean'):\n",
    "        super(FocalLoss, self).__init__()\n",
    "        self.gamma = gamma\n",
    "        self.alpha = alpha\n",
    "        self.reduction = reduction\n",
    "\n",
    "    def forward(self, inputs, targets):\n",
    "        ce_loss = F.cross_entropy(inputs, targets, reduction='none')\n",
    "        pt = torch.exp(-ce_loss)\n",
    "        focal_loss = self.alpha * (1 - pt) ** self.gamma * ce_loss\n",
    "\n",
    "        if self.reduction == 'mean':\n",
    "            return focal_loss.mean()\n",
    "        elif self.reduction == 'sum':\n",
    "            return focal_loss.sum()\n",
    "        else:\n",
    "            return focal_loss"
   ]
  },
  {
   "cell_type": "code",
   "execution_count": 10,
   "id": "d8080bf9",
   "metadata": {},
   "outputs": [
    {
     "name": "stdout",
     "output_type": "stream",
     "text": [
      "Checkpoint loaded from /home/jorgetf/testmodel/Network-Packet-ML-Model/checkpoint/lstm_model.pth!\n"
     ]
    }
   ],
   "source": [
    "teacher_model = INML(X_train.shape[2], 64).to(device)\n",
    "teacher_criterion = FocalLoss()\n",
    "teacher_optimizer = torch.optim.AdamW(teacher_model.parameters(), lr=conf[\"learning_rate\"], weight_decay=0.01)\n",
    "teacher_scheduler = torch.optim.lr_scheduler.ExponentialLR(teacher_optimizer, 0.9)\n",
    "\n",
    "teacher = Model(teacher_model, teacher_criterion, teacher_optimizer, teacher_scheduler, device)\n",
    "\n",
    "checkpoint_path = os.path.join(os.getcwd().replace(\"distilled_models\", \"\"), \"checkpoint\", \"lstm_model.pth\")\n",
    "teacher.load(checkpoint_path)"
   ]
  },
  {
   "cell_type": "code",
   "execution_count": 13,
   "id": "f628a0fe",
   "metadata": {},
   "outputs": [],
   "source": [
    "# create light model\n",
    "torch.manual_seed(42)\n",
    "student_model = LightLSTM(X_train.shape[2], 32).to(device)\n",
    "student_criterion = FocalLoss()\n",
    "student_optimizer = torch.optim.AdamW(student_model.parameters(), lr=conf[\"learning_rate\"], weight_decay=0.01)\n",
    "student_scheduler = torch.optim.lr_scheduler.ExponentialLR(student_optimizer, 0.9)\n",
    "\n",
    "student = Model(student_model, student_criterion, student_optimizer, student_scheduler, device)"
   ]
  },
  {
   "cell_type": "code",
   "execution_count": 14,
   "id": "1f4f0ff7",
   "metadata": {},
   "outputs": [],
   "source": [
    "def plot_data(data, type, title, n_epochs=conf[\"epochs\"]):\n",
    "    epochs = [epoch for epoch in range(1, n_epochs + 1)]\n",
    "    data = [d.to('cpu') for d in data]\n",
    "    plt.plot(epochs, data, marker=\"+\", linestyle=\"dotted\")\n",
    "    plt.title(title)\n",
    "    plt.xlabel(\"Epochs\")\n",
    "    plt.ylabel(type)\n",
    "    plt.show()"
   ]
  },
  {
   "cell_type": "code",
   "execution_count": 15,
   "id": "00d1f0fb",
   "metadata": {},
   "outputs": [
    {
     "name": "stdout",
     "output_type": "stream",
     "text": [
      "Epoch: 1/10, Accuracy: 72.98%, Train loss: 1.4734, Val loss: 0.8433\n",
      "Epoch: 2/10, Accuracy: 80.08%, Train loss: 0.6660, Val loss: 0.4781\n",
      "Epoch: 3/10, Accuracy: 82.28%, Train loss: 0.4474, Val loss: 0.3456\n",
      "Epoch: 4/10, Accuracy: 84.38%, Train loss: 0.3528, Val loss: 0.2800\n",
      "Epoch: 5/10, Accuracy: 85.93%, Train loss: 0.2976, Val loss: 0.2369\n",
      "Epoch: 6/10, Accuracy: 87.04%, Train loss: 0.2614, Val loss: 0.2087\n",
      "Epoch: 7/10, Accuracy: 87.54%, Train loss: 0.2354, Val loss: 0.1909\n",
      "Epoch: 8/10, Accuracy: 88.25%, Train loss: 0.2161, Val loss: 0.1737\n",
      "Epoch: 9/10, Accuracy: 88.77%, Train loss: 0.2010, Val loss: 0.1626\n",
      "Epoch: 10/10, Accuracy: 89.39%, Train loss: 0.1889, Val loss: 0.1521\n"
     ]
    },
    {
     "data": {
      "image/png": "[encoded data removed]",
      "text/plain": [
       "<Figure size 640x480 with 1 Axes>"
      ]
     },
     "metadata": {},
     "output_type": "display_data"
    }
   ],
   "source": [
    "accuracy, train_loss, val_loss = student.train(train_loader=train_loader, val_loader=val_loader, epochs=conf[\"epochs\"])\n",
    "plot_data(accuracy, type=\"Accuracy\", title=\"Model Accuracy\")"
   ]
  },
  {
   "cell_type": "code",
   "execution_count": 16,
   "id": "1d5e755b",
   "metadata": {},
   "outputs": [
    {
     "name": "stdout",
     "output_type": "stream",
     "text": [
      "Accuracy: 89.32%, Test loss: 0.1537\n"
     ]
    }
   ],
   "source": [
    "test_loss, test_acc = student.evaluate(test_loader)\n",
    "print(f\"Accuracy: {100*test_acc:.2f}%, Test loss: {test_loss:.4f}\")"
   ]
  },
  {
   "cell_type": "code",
   "execution_count": 17,
   "id": "089f2fc6",
   "metadata": {},
   "outputs": [],
   "source": [
    "# create new light model\n",
    "torch.manual_seed(42)\n",
    "new_student_model = LightLSTM(X_train.shape[2], 32).to(device)\n",
    "new_student_criterion = FocalLoss()\n",
    "new_student_optimizer = torch.optim.AdamW(new_student_model.parameters(), lr=conf[\"learning_rate\"], weight_decay=0.01)\n",
    "new_student_scheduler = torch.optim.lr_scheduler.ExponentialLR(new_student_optimizer, 0.9)\n",
    "\n",
    "new_student = Model(new_student_model, new_student_criterion, new_student_optimizer, new_student_scheduler, device)"
   ]
  },
  {
   "cell_type": "code",
   "execution_count": 18,
   "id": "8fe9daea",
   "metadata": {},
   "outputs": [],
   "source": [
    "kd = KnowledgeDistillation(teacher=teacher, student=new_student, device=device)"
   ]
  },
  {
   "cell_type": "code",
   "execution_count": null,
   "id": "2de095e0",
   "metadata": {},
   "outputs": [
    {
     "name": "stdout",
     "output_type": "stream",
     "text": [
      "Epoch: 1/10, Accuracy: 72.02%, Train loss: 0.0024, Val loss: 0.8390\n",
      "Epoch: 2/10, Accuracy: 79.80%, Train loss: 0.0011, Val loss: 0.4809\n",
      "Epoch: 3/10, Accuracy: 82.55%, Train loss: 0.0008, Val loss: 0.3513\n",
      "Epoch: 4/10, Accuracy: 84.17%, Train loss: 0.0006, Val loss: 0.2835\n",
      "Epoch: 5/10, Accuracy: 86.54%, Train loss: 0.0005, Val loss: 0.2392\n",
      "Epoch: 6/10, Accuracy: 87.86%, Train loss: 0.0005, Val loss: 0.2044\n",
      "Epoch: 7/10, Accuracy: 89.12%, Train loss: 0.0004, Val loss: 0.1837\n",
      "Epoch: 8/10, Accuracy: 89.72%, Train loss: 0.0004, Val loss: 0.1687\n",
      "Epoch: 9/10, Accuracy: 90.51%, Train loss: 0.0004, Val loss: 0.1531\n",
      "Epoch: 10/10, Accuracy: 91.12%, Train loss: 0.0003, Val loss: 0.1446\n"
     ]
    },
    {
     "data": {
      "image/png": "[encoded data removed]",
      "text/plain": [
       "<Figure size 640x480 with 1 Axes>"
      ]
     },
     "metadata": {},
     "output_type": "display_data"
    }
   ],
   "source": [
    "new_accuracy, new_train_loss, new_val_loss = kd.train_kd(train_loader, val_loader, conf[\"epochs\"])\n",
    "plot_data(new_accuracy, type=\"Accuracy\", title=\"Model Accuracy\")"
   ]
  },
  {
   "cell_type": "code",
   "execution_count": 20,
   "id": "2d421a30",
   "metadata": {},
   "outputs": [
    {
     "name": "stdout",
     "output_type": "stream",
     "text": [
      "Accuracy: 91.05%, Test loss: 0.1460\n"
     ]
    }
   ],
   "source": [
    "new_test_loss, new_test_acc = new_student.evaluate(test_loader)\n",
    "print(f\"Accuracy: {100*new_test_acc:.2f}%, Test loss: {new_test_loss:.4f}\")"
   ]
  },
  {
   "cell_type": "code",
   "execution_count": 21,
   "id": "b754e8ed",
   "metadata": {},
   "outputs": [
    {
     "name": "stdout",
     "output_type": "stream",
     "text": [
      "Checkpoint saved at /home/jorgetf/testmodel/Network-Packet-ML-Model/checkpoint/light_lstm_model.pth\n"
     ]
    }
   ],
   "source": [
    "new_checkpoint_path = os.path.join(os.getcwd().replace(\"distilled_models\", \"\"), \"checkpoint\", \"light_lstm_model.pth\")\n",
    "new_student.save(new_checkpoint_path)"
   ]
  }
 ],
 "metadata": {
  "kernelspec": {
   "display_name": ".venv",
   "language": "python",
   "name": "python3"
  },
  "language_info": {
   "codemirror_mode": {
    "name": "ipython",
    "version": 3
   },
   "file_extension": ".py",
   "mimetype": "text/x-python",
   "name": "python",
   "nbconvert_exporter": "python",
   "pygments_lexer": "ipython3",
   "version": "3.10.12"
  }
 },
 "nbformat": 4,
 "nbformat_minor": 5
}
