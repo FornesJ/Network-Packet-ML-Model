{
 "cells": [
  {
   "cell_type": "code",
   "execution_count": 1,
   "id": "523480b1",
   "metadata": {},
   "outputs": [],
   "source": [
    "import os\n",
    "import sys\n",
    "sys.path.append(os.path.join(os.getcwd().replace(\"distilled_models\", \"\")))\n",
    "\n",
    "import torch\n",
    "import torch.nn as nn\n",
    "import torch.nn.functional as F\n",
    "from torch.utils.data import DataLoader\n",
    "import matplotlib.pyplot as plt\n",
    "from parse_dataset import NetworkDataset, parse_dataset, split_datasets\n",
    "from model import Model\n",
    "from knowledge_distillation import KnowledgeDistillation"
   ]
  },
  {
   "cell_type": "code",
   "execution_count": 2,
   "id": "c4dedafd",
   "metadata": {},
   "outputs": [],
   "source": [
    "conf = {\n",
    "    \"batch_size\": 516,\n",
    "    \"epochs\": 10,\n",
    "    \"learning_rate\": 0.0001\n",
    "}"
   ]
  },
  {
   "cell_type": "code",
   "execution_count": 3,
   "id": "1de82c34",
   "metadata": {},
   "outputs": [
    {
     "name": "stdout",
     "output_type": "stream",
     "text": [
      "cuda\n"
     ]
    }
   ],
   "source": [
    "device = torch.device(\"cuda\" if torch.cuda.is_available() else \"cpu\")\n",
    "print(device)"
   ]
  },
  {
   "cell_type": "code",
   "execution_count": 4,
   "id": "d03dc203",
   "metadata": {},
   "outputs": [
    {
     "name": "stdout",
     "output_type": "stream",
     "text": [
      "packet_dat,attack_cat\n",
      "\n",
      "torch.Size([356334, 513, 1])\n",
      "torch.Size([356334])\n"
     ]
    }
   ],
   "source": [
    "# extract dataset from csv file\n",
    "network_data_file = os.path.join(os.getcwd().replace(\"distilled_models\", \"\"), \"datasets\", \"network_packet_data_test.csv\")\n",
    "\n",
    "data, labels, label_dict = parse_dataset(network_data_file)\n",
    "\n",
    "X_train, y_train, X_val, y_val, X_test, y_test = split_datasets(data, labels)\n",
    "X_train, X_val, X_test = X_train.unsqueeze(-1), X_val.unsqueeze(-1), X_test.unsqueeze(-1)\n",
    "print(X_train.shape)\n",
    "print(y_train.shape)\n",
    "\n",
    "# create train, val and test datasets\n",
    "train_dataset = NetworkDataset(X_train, y_train)\n",
    "train_loader = DataLoader(train_dataset, batch_size=conf[\"batch_size\"], shuffle=True)\n",
    "\n",
    "val_dataset = NetworkDataset(X_val, y_val)\n",
    "val_loader = DataLoader(val_dataset, batch_size=conf[\"batch_size\"], shuffle=True)\n",
    "\n",
    "test_dataset = NetworkDataset(X_test, y_test)\n",
    "test_loader = DataLoader(test_dataset, batch_size=conf[\"batch_size\"])"
   ]
  },
  {
   "cell_type": "code",
   "execution_count": 5,
   "id": "b25ad15a",
   "metadata": {},
   "outputs": [],
   "source": [
    "# create GRU model:\n",
    "class INMLGRU(nn.Module):\n",
    "    def __init__(self, i_size, h_size):\n",
    "        super(INMLGRU, self).__init__()\n",
    "        self.i_size = i_size\n",
    "        self.h_size = h_size\n",
    "        self.gru1 = nn.GRU(input_size=i_size, hidden_size=h_size, num_layers=4, batch_first=True, dropout=0.15, bidirectional=True, device=device)\n",
    "        self.bn1 = nn.BatchNorm1d(2 * h_size)\n",
    "\n",
    "        self.fc = nn.Sequential(\n",
    "            nn.Linear(2*h_size, 128),\n",
    "            nn.BatchNorm1d(128),\n",
    "            nn.ReLU(),\n",
    "            nn.Dropout(p=0.15),\n",
    "            nn.Linear(128, 24)\n",
    "        )\n",
    "        \n",
    "    def forward(self, x, h0=None):\n",
    "        if h0 is None:\n",
    "            h0 = torch.zeros(8, x.shape[0], self.h_size).to(device)\n",
    "\n",
    "        output, h0 = self.gru1(x, h0)  # output: [B, T, 2*h_size]\n",
    "\n",
    "        # take last layer's hidden state (both directions)\n",
    "        # h0 shape: [num_layers*2, B, size]\n",
    "        h_last = h0.view(4, 2, x.shape[0], self.h_size)[-1]  # [2, B, h_size]\n",
    "        h_last = torch.cat((h_last[0], h_last[1]), dim=1)  # [B, 2*h_size]\n",
    "\n",
    "        # apply BN + FC\n",
    "        h_last = self.bn1(h_last)         # [B, 2*h_size] → batch norm\n",
    "\n",
    "\n",
    "        out = self.fc(h_last)            # [B, 24]\n",
    "        return out"
   ]
  },
  {
   "cell_type": "code",
   "execution_count": 6,
   "id": "63ae468c",
   "metadata": {},
   "outputs": [],
   "source": [
    "class LightGRU(nn.Module):\n",
    "    def __init__(self, i_size, h_size):\n",
    "        super(LightGRU, self).__init__()\n",
    "        self.i_size = i_size\n",
    "        self.h_size = h_size\n",
    "        self.gru1 = nn.GRU(input_size=i_size, hidden_size=h_size, num_layers=1, batch_first=True, bidirectional=True, device=device)\n",
    "        self.bn1 = nn.BatchNorm1d(2 * h_size)\n",
    "\n",
    "        self.fc = nn.Sequential(\n",
    "            nn.Linear(2*h_size, 32),\n",
    "            nn.BatchNorm1d(32),\n",
    "            nn.ReLU(),\n",
    "            nn.Dropout(p=0.15),\n",
    "            nn.Linear(32, 24)\n",
    "        )\n",
    "\n",
    "    def forward(self, x, h0=None, c0=None):\n",
    "        if h0 is None:\n",
    "            h0 = torch.zeros(2, x.shape[0], self.h_size).to(device)\n",
    "\n",
    "        output, h0 = self.gru1(x, h0)  # output: [B, T, 2*h_size]\n",
    "\n",
    "        # take last layer's hidden state (both directions)\n",
    "        # h0 shape: [num_layers*2, B, size]\n",
    "        h_last = h0.view(1, 2, x.shape[0], self.h_size)[-1]  # [2, B, h_size]\n",
    "        h_last = torch.cat((h_last[0], h_last[1]), dim=1)  # [B, 2*h_size]\n",
    "\n",
    "        # apply BN + FC\n",
    "        h_last = self.bn1(h_last)         # [B, 2*h_size] → batch norm\n",
    "\n",
    "\n",
    "        out = self.fc(h_last)            # [B, 24]\n",
    "        return out\n"
   ]
  },
  {
   "cell_type": "code",
   "execution_count": 7,
   "id": "2bcee8d6",
   "metadata": {},
   "outputs": [],
   "source": [
    "class FocalLoss(nn.Module):\n",
    "    def __init__(self, gamma=2.1, alpha=0.9, reduction='mean'):\n",
    "        super(FocalLoss, self).__init__()\n",
    "        self.gamma = gamma\n",
    "        self.alpha = alpha\n",
    "        self.reduction = reduction\n",
    "\n",
    "    def forward(self, inputs, targets):\n",
    "        ce_loss = F.cross_entropy(inputs, targets, reduction='none')\n",
    "        pt = torch.exp(-ce_loss)\n",
    "        focal_loss = self.alpha * (1 - pt) ** self.gamma * ce_loss\n",
    "\n",
    "        if self.reduction == 'mean':\n",
    "            return focal_loss.mean()\n",
    "        elif self.reduction == 'sum':\n",
    "            return focal_loss.sum()\n",
    "        else:\n",
    "            return focal_loss"
   ]
  },
  {
   "cell_type": "code",
   "execution_count": 8,
   "id": "5619e88a",
   "metadata": {},
   "outputs": [
    {
     "name": "stdout",
     "output_type": "stream",
     "text": [
      "Checkpoint loaded from /home/jorgetf/testmodel/Network-Packet-ML-Model/checkpoint/gru_model.pth!\n"
     ]
    }
   ],
   "source": [
    "teacher_model = INMLGRU(X_train.shape[2], 64).to(device)\n",
    "teacher_criterion = FocalLoss()\n",
    "teacher_optimizer = torch.optim.AdamW(teacher_model.parameters(), lr=conf[\"learning_rate\"], weight_decay=0.01)\n",
    "teacher_scheduler = torch.optim.lr_scheduler.ExponentialLR(teacher_optimizer, 0.9)\n",
    "\n",
    "teacher = Model(teacher_model, teacher_criterion, teacher_optimizer, teacher_scheduler, device)\n",
    "\n",
    "checkpoint_path = os.path.join(os.getcwd().replace(\"distilled_models\", \"\"), \"checkpoint\", \"gru_model.pth\")\n",
    "teacher.load(checkpoint_path)"
   ]
  },
  {
   "cell_type": "code",
   "execution_count": 9,
   "id": "bbdf4f78",
   "metadata": {},
   "outputs": [],
   "source": [
    "# create light model\n",
    "torch.manual_seed(42)\n",
    "student_model = LightGRU(X_train.shape[2], 32).to(device)\n",
    "student_criterion = FocalLoss()\n",
    "student_optimizer = torch.optim.AdamW(student_model.parameters(), lr=conf[\"learning_rate\"], weight_decay=0.01)\n",
    "student_scheduler = torch.optim.lr_scheduler.ExponentialLR(student_optimizer, 0.9)\n",
    "\n",
    "student = Model(student_model, student_criterion, student_optimizer, student_scheduler, device)"
   ]
  },
  {
   "cell_type": "code",
   "execution_count": 10,
   "id": "378d6192",
   "metadata": {},
   "outputs": [],
   "source": [
    "def plot_data(data, type, title, n_epochs=conf[\"epochs\"]):\n",
    "    epochs = [epoch for epoch in range(1, n_epochs + 1)]\n",
    "    data = [d.to('cpu') for d in data]\n",
    "    plt.plot(epochs, data, marker=\"+\", linestyle=\"dotted\")\n",
    "    plt.title(title)\n",
    "    plt.xlabel(\"Epochs\")\n",
    "    plt.ylabel(type)\n",
    "    plt.show()"
   ]
  },
  {
   "cell_type": "code",
   "execution_count": 11,
   "id": "49d0cdd2",
   "metadata": {},
   "outputs": [
    {
     "name": "stdout",
     "output_type": "stream",
     "text": [
      "Epoch: 1/10, Accuracy: 74.51%, Train loss: 1.5098, Val loss: 0.8092\n",
      "Epoch: 2/10, Accuracy: 82.74%, Train loss: 0.6162, Val loss: 0.4167\n",
      "Epoch: 3/10, Accuracy: 88.87%, Train loss: 0.3847, Val loss: 0.2819\n",
      "Epoch: 4/10, Accuracy: 90.81%, Train loss: 0.2881, Val loss: 0.2168\n",
      "Epoch: 5/10, Accuracy: 91.64%, Train loss: 0.2374, Val loss: 0.1820\n",
      "Epoch: 6/10, Accuracy: 92.14%, Train loss: 0.2060, Val loss: 0.1581\n",
      "Epoch: 7/10, Accuracy: 92.43%, Train loss: 0.1834, Val loss: 0.1422\n",
      "Epoch: 8/10, Accuracy: 92.75%, Train loss: 0.1671, Val loss: 0.1288\n",
      "Epoch: 9/10, Accuracy: 93.15%, Train loss: 0.1545, Val loss: 0.1190\n",
      "Epoch: 10/10, Accuracy: 93.39%, Train loss: 0.1448, Val loss: 0.1123\n"
     ]
    },
    {
     "data": {
      "image/png": "[encoded data removed]",
      "text/plain": [
       "<Figure size 640x480 with 1 Axes>"
      ]
     },
     "metadata": {},
     "output_type": "display_data"
    }
   ],
   "source": [
    "accuracy, train_loss, val_loss = student.train(train_loader=train_loader, val_loader=val_loader, epochs=conf[\"epochs\"])\n",
    "plot_data(accuracy, type=\"Accuracy\", title=\"Model Accuracy\")"
   ]
  },
  {
   "cell_type": "code",
   "execution_count": 12,
   "id": "a0abaf66",
   "metadata": {},
   "outputs": [
    {
     "name": "stdout",
     "output_type": "stream",
     "text": [
      "Accuracy: 93.20%, Test loss: 0.1145\n"
     ]
    }
   ],
   "source": [
    "test_loss, test_acc = student.evaluate(test_loader)\n",
    "print(f\"Accuracy: {100*test_acc:.2f}%, Test loss: {test_loss:.4f}\")"
   ]
  },
  {
   "cell_type": "code",
   "execution_count": 13,
   "id": "85ae4051",
   "metadata": {},
   "outputs": [],
   "source": [
    "# create new light model\n",
    "torch.manual_seed(42)\n",
    "new_student_model = LightGRU(X_train.shape[2], 32).to(device)\n",
    "new_student_criterion = FocalLoss()\n",
    "new_student_optimizer = torch.optim.AdamW(new_student_model.parameters(), lr=conf[\"learning_rate\"], weight_decay=0.01)\n",
    "new_student_scheduler = torch.optim.lr_scheduler.ExponentialLR(new_student_optimizer, 0.9)\n",
    "\n",
    "new_student = Model(new_student_model, new_student_criterion, new_student_optimizer, new_student_scheduler, device)"
   ]
  },
  {
   "cell_type": "code",
   "execution_count": 14,
   "id": "57456d48",
   "metadata": {},
   "outputs": [],
   "source": [
    "kd = KnowledgeDistillation(teacher=teacher, student=new_student, device=device)"
   ]
  },
  {
   "cell_type": "code",
   "execution_count": 15,
   "id": "f9aa9422",
   "metadata": {},
   "outputs": [
    {
     "name": "stdout",
     "output_type": "stream",
     "text": [
      "Epoch: 1/10, Accuracy: 74.10%, Train loss: 0.0024, Val loss: 0.8048\n",
      "Epoch: 2/10, Accuracy: 82.42%, Train loss: 0.0011, Val loss: 0.4204\n",
      "Epoch: 3/10, Accuracy: 88.28%, Train loss: 0.0007, Val loss: 0.2885\n",
      "Epoch: 4/10, Accuracy: 90.20%, Train loss: 0.0005, Val loss: 0.2208\n",
      "Epoch: 5/10, Accuracy: 91.07%, Train loss: 0.0004, Val loss: 0.1846\n",
      "Epoch: 6/10, Accuracy: 91.99%, Train loss: 0.0004, Val loss: 0.1598\n",
      "Epoch: 7/10, Accuracy: 92.42%, Train loss: 0.0003, Val loss: 0.1438\n",
      "Epoch: 8/10, Accuracy: 92.70%, Train loss: 0.0003, Val loss: 0.1303\n",
      "Epoch: 9/10, Accuracy: 93.02%, Train loss: 0.0003, Val loss: 0.1206\n",
      "Epoch: 10/10, Accuracy: 93.19%, Train loss: 0.0003, Val loss: 0.1138\n"
     ]
    },
    {
     "data": {
      "image/png": "[encoded data removed]",
      "text/plain": [
       "<Figure size 640x480 with 1 Axes>"
      ]
     },
     "metadata": {},
     "output_type": "display_data"
    }
   ],
   "source": [
    "new_accuracy, new_train_loss, new_val_loss = kd.train_kd(train_loader, val_loader, conf[\"epochs\"])\n",
    "plot_data(new_accuracy, type=\"Accuracy\", title=\"Model Accuracy\")"
   ]
  },
  {
   "cell_type": "code",
   "execution_count": 16,
   "id": "31fb7dba",
   "metadata": {},
   "outputs": [
    {
     "name": "stdout",
     "output_type": "stream",
     "text": [
      "Accuracy: 93.03%, Test loss: 0.1158\n"
     ]
    }
   ],
   "source": [
    "new_test_loss, new_test_acc = new_student.evaluate(test_loader)\n",
    "print(f\"Accuracy: {100*new_test_acc:.2f}%, Test loss: {new_test_loss:.4f}\")"
   ]
  },
  {
   "cell_type": "code",
   "execution_count": 17,
   "id": "5ef0375e",
   "metadata": {},
   "outputs": [
    {
     "name": "stdout",
     "output_type": "stream",
     "text": [
      "Checkpoint saved at /home/jorgetf/testmodel/Network-Packet-ML-Model/checkpoint/light_gru_model.pth\n"
     ]
    }
   ],
   "source": [
    "new_checkpoint_path = os.path.join(os.getcwd().replace(\"distilled_models\", \"\"), \"checkpoint\", \"light_gru_model.pth\")\n",
    "new_student.save(new_checkpoint_path)"
   ]
  }
 ],
 "metadata": {
  "kernelspec": {
   "display_name": ".venv",
   "language": "python",
   "name": "python3"
  },
  "language_info": {
   "codemirror_mode": {
    "name": "ipython",
    "version": 3
   },
   "file_extension": ".py",
   "mimetype": "text/x-python",
   "name": "python",
   "nbconvert_exporter": "python",
   "pygments_lexer": "ipython3",
   "version": "3.10.12"
  }
 },
 "nbformat": 4,
 "nbformat_minor": 5
}
