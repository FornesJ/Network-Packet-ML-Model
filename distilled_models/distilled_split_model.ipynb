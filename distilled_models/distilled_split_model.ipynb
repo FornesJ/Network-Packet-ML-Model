{
 "cells": [
  {
   "cell_type": "code",
   "execution_count": 1,
   "id": "30d19458",
   "metadata": {},
   "outputs": [],
   "source": [
    "import os\n",
    "import sys\n",
    "sys.path.append(os.path.join(os.getcwd().replace(\"distilled_models\", \"\")))\n",
    "\n",
    "import torch\n",
    "import torch.nn as nn\n",
    "import torch.nn.functional as F\n",
    "from torch.utils.data import DataLoader\n",
    "from torch.profiler import profiler\n",
    "import matplotlib.pyplot as plt\n",
    "import time\n",
    "from parse_dataset import NetworkDataset, parse_dataset, split_datasets\n",
    "from split_model import SplitModelDPU\n",
    "from load_models import models\n",
    "from knowledge_distillation import SplitModelKD"
   ]
  },
  {
   "cell_type": "code",
   "execution_count": 2,
   "id": "4d7eab31",
   "metadata": {},
   "outputs": [],
   "source": [
    "conf = {\n",
    "    \"batch_size\": 516,\n",
    "    \"epochs\": 10,\n",
    "    \"learning_rate\": 0.0001,\n",
    "    \"load_model\": True\n",
    "}"
   ]
  },
  {
   "cell_type": "code",
   "execution_count": 3,
   "id": "9f25c303",
   "metadata": {},
   "outputs": [],
   "source": [
    "device = torch.device(\"cuda\" if torch.cuda.is_available() else \"cpu\")"
   ]
  },
  {
   "cell_type": "code",
   "execution_count": 4,
   "id": "ec97d43b",
   "metadata": {},
   "outputs": [
    {
     "name": "stdout",
     "output_type": "stream",
     "text": [
      "packet_dat,attack_cat\n",
      "\n",
      "torch.Size([356334, 513, 1])\n",
      "torch.Size([356334])\n"
     ]
    }
   ],
   "source": [
    "# extract dataset from csv file\n",
    "network_data_file = os.path.join(os.getcwd().replace(\"distilled_models\", \"\"), \"datasets\", \"network_packet_data_test.csv\")\n",
    "\n",
    "data, labels, label_dict = parse_dataset(network_data_file)\n",
    "\n",
    "X_train, y_train, X_val, y_val, X_test, y_test = split_datasets(data, labels)\n",
    "\n",
    "X_train, X_val, X_test = X_train.unsqueeze(-1), X_val.unsqueeze(-1), X_test.unsqueeze(-1)\n",
    "print(X_train.shape)\n",
    "print(y_train.shape)\n",
    "\n",
    "# create train, val and test datasets\n",
    "train_dataset = NetworkDataset(X_train, y_train)\n",
    "train_loader = DataLoader(train_dataset, batch_size=conf[\"batch_size\"], shuffle=True)\n",
    "\n",
    "val_dataset = NetworkDataset(X_val, y_val)\n",
    "val_loader = DataLoader(val_dataset, batch_size=conf[\"batch_size\"], shuffle=True)\n",
    "\n",
    "test_dataset = NetworkDataset(X_test, y_test)\n",
    "test_loader = DataLoader(test_dataset, batch_size=conf[\"batch_size\"])"
   ]
  },
  {
   "cell_type": "code",
   "execution_count": 5,
   "id": "2131ca05",
   "metadata": {},
   "outputs": [
    {
     "name": "stdout",
     "output_type": "stream",
     "text": [
      "Checkpoint loaded from /home/jorgetf/testmodel/Network-Packet-ML-Model/checkpoint/dpu_split_model.pth!\n"
     ]
    }
   ],
   "source": [
    "dpu_path = os.path.join(os.getcwd().replace(\"distilled_models\", \"\"), \"checkpoint\", \"dpu_split_model.pth\")\n",
    "full_model_dpu = models[\"dpu\"]\n",
    "full_model_dpu.load(dpu_path)"
   ]
  },
  {
   "cell_type": "code",
   "execution_count": 6,
   "id": "4184508b",
   "metadata": {},
   "outputs": [],
   "source": [
    "class LightSplitDPU(nn.Module):\n",
    "    def __init__(self, i_size, h_size):\n",
    "        super(LightSplitDPU, self).__init__()\n",
    "        self.i_size = i_size\n",
    "        self.h_size = h_size\n",
    "        self.gru1 = nn.GRU(input_size=i_size, hidden_size=h_size, num_layers=1, batch_first=True, bidirectional=True, device=device)\n",
    "        self.bn1 = nn.BatchNorm1d(2 * h_size)\n",
    "\n",
    "        self.fc = nn.Sequential(\n",
    "            nn.Linear(2*h_size, 32),\n",
    "            nn.BatchNorm1d(32),\n",
    "            nn.ReLU(),\n",
    "            nn.Dropout(p=0.15),\n",
    "            nn.Linear(32, 1),\n",
    "            nn.Sigmoid()\n",
    "        )\n",
    "\n",
    "    def forward(self, x, h0=None, c0=None):\n",
    "        if h0 is None:\n",
    "            h0 = torch.zeros(2, x.shape[0], self.h_size).to(device)\n",
    "\n",
    "        output, h0 = self.gru1(x, h0)  # output: [B, T, 2*h_size]\n",
    "\n",
    "        # take last layer's hidden state (both directions)\n",
    "        # h0 shape: [num_layers*2, B, size]\n",
    "        h_last = h0.view(1, 2, x.shape[0], self.h_size)[-1]  # [2, B, h_size]\n",
    "        h_last = torch.cat((h_last[0], h_last[1]), dim=1)  # [B, 2*h_size]\n",
    "\n",
    "        # apply BN + FC\n",
    "        logits = self.bn1(h_last)         # [B, 2*h_size] → batch norm\n",
    "\n",
    "        out = self.fc(logits)            # [B, 1]\n",
    "        return out, logits"
   ]
  },
  {
   "cell_type": "code",
   "execution_count": 7,
   "id": "067660b9",
   "metadata": {},
   "outputs": [],
   "source": [
    "torch.manual_seed(42)\n",
    "dpu_model = LightSplitDPU(X_train.shape[2], 64).to(device)\n",
    "dpu_criterion = nn.BCELoss()\n",
    "dpu_optimizer = torch.optim.AdamW(dpu_model.parameters(), lr=conf[\"learning_rate\"], weight_decay=0.01)\n",
    "dpu_scheduler = torch.optim.lr_scheduler.ExponentialLR(dpu_optimizer, 0.9)\n",
    "light_dpu_model = SplitModelDPU(dpu_model, dpu_criterion, dpu_optimizer, dpu_scheduler, device)"
   ]
  },
  {
   "cell_type": "code",
   "execution_count": 8,
   "id": "a1b6b50f",
   "metadata": {},
   "outputs": [],
   "source": [
    "kd = SplitModelKD(teacher=full_model_dpu, student=light_dpu_model, device=device, label_dict=label_dict)"
   ]
  },
  {
   "cell_type": "code",
   "execution_count": 9,
   "id": "df4c373b",
   "metadata": {},
   "outputs": [
    {
     "name": "stdout",
     "output_type": "stream",
     "text": [
      "Epoch: 1/10, Accuracy: 98.57%, Train loss: 0.0007, Val loss: 1.4282\n",
      "Epoch: 2/10, Accuracy: 99.13%, Train loss: 0.0004, Val loss: 0.8722\n",
      "Epoch: 3/10, Accuracy: 99.42%, Train loss: 0.0002, Val loss: 0.5834\n",
      "Epoch: 4/10, Accuracy: 99.39%, Train loss: 0.0001, Val loss: 0.6149\n",
      "Epoch: 5/10, Accuracy: 99.52%, Train loss: 0.0001, Val loss: 0.4754\n",
      "Epoch: 6/10, Accuracy: 99.53%, Train loss: 0.0001, Val loss: 0.4656\n",
      "Epoch: 7/10, Accuracy: 99.59%, Train loss: 0.0001, Val loss: 0.4066\n",
      "Epoch: 8/10, Accuracy: 99.61%, Train loss: 0.0001, Val loss: 0.3850\n",
      "Epoch: 9/10, Accuracy: 99.46%, Train loss: 0.0001, Val loss: 0.5422\n",
      "Epoch: 10/10, Accuracy: 99.63%, Train loss: 0.0000, Val loss: 0.3674\n"
     ]
    }
   ],
   "source": [
    "accuracy, train_loss, val_loss = kd.train_kd(train_loader, val_loader, conf[\"epochs\"])"
   ]
  },
  {
   "cell_type": "code",
   "execution_count": 10,
   "id": "bfe73a94",
   "metadata": {},
   "outputs": [
    {
     "name": "stdout",
     "output_type": "stream",
     "text": [
      "Checkpoint saved at /home/jorgetf/testmodel/Network-Packet-ML-Model/checkpoint/light_dpu_split_model.pth\n"
     ]
    }
   ],
   "source": [
    "new_dpu_path = dpu_path = os.path.join(os.getcwd().replace(\"distilled_models\", \"\"), \"checkpoint\", \"light_dpu_split_model.pth\")\n",
    "light_dpu_model.save(new_dpu_path)"
   ]
  }
 ],
 "metadata": {
  "kernelspec": {
   "display_name": ".venv",
   "language": "python",
   "name": "python3"
  },
  "language_info": {
   "codemirror_mode": {
    "name": "ipython",
    "version": 3
   },
   "file_extension": ".py",
   "mimetype": "text/x-python",
   "name": "python",
   "nbconvert_exporter": "python",
   "pygments_lexer": "ipython3",
   "version": "3.10.12"
  }
 },
 "nbformat": 4,
 "nbformat_minor": 5
}
