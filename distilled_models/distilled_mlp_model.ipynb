{
 "cells": [
  {
   "cell_type": "code",
   "execution_count": 1,
   "id": "42fc7ba3",
   "metadata": {},
   "outputs": [],
   "source": [
    "import os\n",
    "import sys\n",
    "sys.path.append(os.path.join(os.getcwd().replace(\"distilled_models\", \"\")))\n",
    "\n",
    "import torch\n",
    "import torch.nn as nn\n",
    "import torch.nn.functional as F\n",
    "from torch.utils.data import DataLoader\n",
    "import matplotlib.pyplot as plt\n",
    "from parse_dataset import NetworkDataset, parse_dataset, split_datasets\n",
    "from model import Model\n",
    "from knowledge_distillation import KnowledgeDistillation"
   ]
  },
  {
   "cell_type": "code",
   "execution_count": 2,
   "id": "97a22f6d",
   "metadata": {},
   "outputs": [],
   "source": [
    "conf = {\n",
    "    \"batch_size\": 516,\n",
    "    \"epochs\": 15,\n",
    "    \"learning_rate\": 0.0001\n",
    "}"
   ]
  },
  {
   "cell_type": "code",
   "execution_count": 3,
   "id": "e4cb7829",
   "metadata": {},
   "outputs": [
    {
     "name": "stdout",
     "output_type": "stream",
     "text": [
      "cuda\n"
     ]
    }
   ],
   "source": [
    "device = torch.device(\"cuda\" if torch.cuda.is_available() else \"cpu\")\n",
    "print(device)"
   ]
  },
  {
   "cell_type": "code",
   "execution_count": 4,
   "id": "1c35223c",
   "metadata": {},
   "outputs": [
    {
     "name": "stdout",
     "output_type": "stream",
     "text": [
      "packet_dat,attack_cat\n",
      "\n",
      "torch.Size([356334, 513])\n",
      "torch.Size([356334])\n"
     ]
    }
   ],
   "source": [
    "# extract dataset from csv file\n",
    "network_data_file = os.path.join(os.getcwd().replace(\"distilled_models\", \"\"), \"datasets\", \"network_packet_data_test.csv\")\n",
    "data, labels, label_dict = parse_dataset(network_data_file)\n",
    "\n",
    "# split dataset into train, val and test datasets\n",
    "X_train, y_train, X_val, y_val, X_test, y_test = split_datasets(data, labels)\n",
    "print(X_train.shape)\n",
    "print(y_train.shape)\n",
    "\n",
    "# create train, val and test dataloaders\n",
    "train_dataset = NetworkDataset(X_train, y_train)\n",
    "train_loader = DataLoader(train_dataset, batch_size=conf[\"batch_size\"], shuffle=True)\n",
    "\n",
    "val_dataset = NetworkDataset(X_val, y_val)\n",
    "val_loader = DataLoader(val_dataset, batch_size=conf[\"batch_size\"], shuffle=True)\n",
    "\n",
    "test_dataset = NetworkDataset(X_test, y_test)\n",
    "test_loader = DataLoader(test_dataset, batch_size=conf[\"batch_size\"])"
   ]
  },
  {
   "cell_type": "code",
   "execution_count": 5,
   "id": "7990e58a",
   "metadata": {},
   "outputs": [],
   "source": [
    "# create MLP model:\n",
    "class MLP(nn.Module):\n",
    "    def __init__(self, size):\n",
    "        super(MLP, self).__init__()\n",
    "        self.mlp = nn.Sequential(\n",
    "            nn.Linear(size, 320),\n",
    "            nn.BatchNorm1d(320),\n",
    "            nn.ReLU(),\n",
    "            nn.Dropout(p=0.10),\n",
    "\n",
    "            nn.Linear(320, 24)\n",
    "        )\n",
    "    \n",
    "    def forward(self, x):\n",
    "        out = self.mlp(x)\n",
    "        return out"
   ]
  },
  {
   "cell_type": "code",
   "execution_count": 6,
   "id": "df95321a",
   "metadata": {},
   "outputs": [],
   "source": [
    "# create light MLP model\n",
    "class LightMLP(nn.Module):\n",
    "    def __init__(self, size):\n",
    "        super(LightMLP, self).__init__()\n",
    "        self.mlp = nn.Sequential(\n",
    "            nn.Linear(size, 32),\n",
    "            nn.BatchNorm1d(32),\n",
    "            nn.ReLU(),\n",
    "            nn.Dropout(p=0.10),\n",
    "\n",
    "            nn.Linear(32, 24)\n",
    "        )\n",
    "    \n",
    "    def forward(self, x):\n",
    "        out = self.mlp(x)\n",
    "        return out"
   ]
  },
  {
   "cell_type": "code",
   "execution_count": 7,
   "id": "4b1281ab",
   "metadata": {},
   "outputs": [],
   "source": [
    "class FocalLoss(nn.Module):\n",
    "    def __init__(self, gamma=2.1, alpha=0.9, reduction='mean'):\n",
    "        super(FocalLoss, self).__init__()\n",
    "        self.gamma = gamma\n",
    "        self.alpha = alpha\n",
    "        self.reduction = reduction\n",
    "\n",
    "    def forward(self, inputs, targets):\n",
    "        ce_loss = F.cross_entropy(inputs, targets, reduction='none')\n",
    "        pt = torch.exp(-ce_loss)\n",
    "        focal_loss = self.alpha * (1 - pt) ** self.gamma * ce_loss\n",
    "\n",
    "        if self.reduction == 'mean':\n",
    "            return focal_loss.mean()\n",
    "        elif self.reduction == 'sum':\n",
    "            return focal_loss.sum()\n",
    "        else:\n",
    "            return focal_loss"
   ]
  },
  {
   "cell_type": "code",
   "execution_count": 8,
   "id": "1f2eba77",
   "metadata": {},
   "outputs": [
    {
     "name": "stdout",
     "output_type": "stream",
     "text": [
      "Checkpoint loaded from /home/jorgetf/testmodel/Network-Packet-ML-Model/checkpoint/mlp_model.pth!\n"
     ]
    }
   ],
   "source": [
    "# Load teacher model\n",
    "teacher_model = MLP(X_train.shape[1]).to(device)\n",
    "teacher_criterion = FocalLoss()\n",
    "teacher_optimizer = torch.optim.AdamW(teacher_model.parameters(), lr=conf[\"learning_rate\"], weight_decay=0.01)\n",
    "teacher_scheduler = torch.optim.lr_scheduler.ExponentialLR(teacher_optimizer, 0.9)\n",
    "\n",
    "teacher = Model(teacher_model, teacher_criterion, teacher_optimizer, teacher_scheduler, device)\n",
    "\n",
    "checkpoint_path = os.path.join(os.getcwd().replace(\"distilled_models\", \"\"), \"checkpoint\", \"mlp_model.pth\")\n",
    "teacher.load(checkpoint_path)"
   ]
  },
  {
   "cell_type": "code",
   "execution_count": 9,
   "id": "3697c5b8",
   "metadata": {},
   "outputs": [],
   "source": [
    "# create light model\n",
    "torch.manual_seed(42)\n",
    "student_model = LightMLP(X_train.shape[1]).to(device)\n",
    "student_criterion = FocalLoss()\n",
    "student_optimizer = torch.optim.AdamW(student_model.parameters(), lr=conf[\"learning_rate\"], weight_decay=0.01)\n",
    "student_scheduler = torch.optim.lr_scheduler.ExponentialLR(student_optimizer, 0.9)\n",
    "\n",
    "student = Model(student_model, student_criterion, student_optimizer, student_scheduler, device)"
   ]
  },
  {
   "cell_type": "code",
   "execution_count": 10,
   "id": "cf31f248",
   "metadata": {},
   "outputs": [],
   "source": [
    "def plot_data(data, type, title, n_epochs=conf[\"epochs\"]):\n",
    "    epochs = [epoch for epoch in range(1, n_epochs + 1)]\n",
    "    data = [d.to('cpu') for d in data]\n",
    "    plt.plot(epochs, data, marker=\"+\", linestyle=\"dotted\")\n",
    "    plt.title(title)\n",
    "    plt.xlabel(\"Epochs\")\n",
    "    plt.ylabel(type)\n",
    "    plt.show()"
   ]
  },
  {
   "cell_type": "code",
   "execution_count": 11,
   "id": "0f89a9d1",
   "metadata": {},
   "outputs": [
    {
     "name": "stdout",
     "output_type": "stream",
     "text": [
      "Epoch: 1/15, Accuracy: 41.70%, Train loss: 2.1362, Val loss: 1.9111\n",
      "Epoch: 2/15, Accuracy: 55.12%, Train loss: 1.3432, Val loss: 1.5454\n",
      "Epoch: 3/15, Accuracy: 54.41%, Train loss: 1.0327, Val loss: 1.4336\n",
      "Epoch: 4/15, Accuracy: 67.35%, Train loss: 0.8839, Val loss: 0.9271\n",
      "Epoch: 5/15, Accuracy: 67.52%, Train loss: 0.7832, Val loss: 0.9014\n",
      "Epoch: 6/15, Accuracy: 69.37%, Train loss: 0.7164, Val loss: 0.7707\n",
      "Epoch: 7/15, Accuracy: 70.90%, Train loss: 0.6605, Val loss: 0.7396\n",
      "Epoch: 8/15, Accuracy: 68.98%, Train loss: 0.6290, Val loss: 0.6995\n",
      "Epoch: 9/15, Accuracy: 73.60%, Train loss: 0.5874, Val loss: 0.5494\n",
      "Epoch: 10/15, Accuracy: 71.58%, Train loss: 0.5581, Val loss: 0.6813\n",
      "Epoch: 11/15, Accuracy: 70.40%, Train loss: 0.5335, Val loss: 0.6848\n",
      "Epoch: 12/15, Accuracy: 74.49%, Train loss: 0.5231, Val loss: 0.5505\n",
      "Epoch: 13/15, Accuracy: 76.26%, Train loss: 0.5008, Val loss: 0.4486\n",
      "Epoch: 14/15, Accuracy: 76.72%, Train loss: 0.4787, Val loss: 0.4339\n",
      "Epoch: 15/15, Accuracy: 75.27%, Train loss: 0.4704, Val loss: 0.4571\n"
     ]
    },
    {
     "data": {
      "image/png": "[encoded data removed]",
      "text/plain": [
       "<Figure size 640x480 with 1 Axes>"
      ]
     },
     "metadata": {},
     "output_type": "display_data"
    }
   ],
   "source": [
    "accuracy, train_loss, val_loss = student.train(train_loader=train_loader, val_loader=val_loader, epochs=conf[\"epochs\"])\n",
    "plot_data(accuracy, type=\"Accuracy\", title=\"Model Accuracy\")"
   ]
  },
  {
   "cell_type": "code",
   "execution_count": 12,
   "id": "2b25014b",
   "metadata": {},
   "outputs": [
    {
     "name": "stdout",
     "output_type": "stream",
     "text": [
      "Accuracy: 75.25%, Test loss: 0.4619\n"
     ]
    }
   ],
   "source": [
    "test_loss, test_acc = student.evaluate(test_loader)\n",
    "print(f\"Accuracy: {100*test_acc:.2f}%, Test loss: {test_loss:.4f}\")"
   ]
  },
  {
   "cell_type": "code",
   "execution_count": 13,
   "id": "d1ad463f",
   "metadata": {},
   "outputs": [],
   "source": [
    "# create new light model\n",
    "torch.manual_seed(42)\n",
    "new_student_model = LightMLP(X_train.shape[1]).to(device)\n",
    "new_student_criterion = FocalLoss()\n",
    "new_student_optimizer = torch.optim.AdamW(new_student_model.parameters(), lr=conf[\"learning_rate\"], weight_decay=0.01)\n",
    "new_student_scheduler = torch.optim.lr_scheduler.ExponentialLR(new_student_optimizer, 0.9)\n",
    "\n",
    "new_student = Model(new_student_model, new_student_criterion, new_student_optimizer, new_student_scheduler, device)"
   ]
  },
  {
   "cell_type": "code",
   "execution_count": 14,
   "id": "ba3bbd1d",
   "metadata": {},
   "outputs": [],
   "source": [
    "kd = KnowledgeDistillation(teacher=teacher, student=new_student, device=device)"
   ]
  },
  {
   "cell_type": "code",
   "execution_count": 15,
   "id": "0321b2c9",
   "metadata": {},
   "outputs": [
    {
     "name": "stdout",
     "output_type": "stream",
     "text": [
      "Epoch: 1/15, Accuracy: 48.55%, Train loss: 0.0032, Val loss: 1.8438\n",
      "Epoch: 2/15, Accuracy: 63.85%, Train loss: 0.0018, Val loss: 1.2034\n",
      "Epoch: 3/15, Accuracy: 64.25%, Train loss: 0.0014, Val loss: 1.1920\n",
      "Epoch: 4/15, Accuracy: 70.26%, Train loss: 0.0012, Val loss: 0.7225\n",
      "Epoch: 5/15, Accuracy: 71.97%, Train loss: 0.0010, Val loss: 0.6686\n",
      "Epoch: 6/15, Accuracy: 71.69%, Train loss: 0.0009, Val loss: 0.6078\n",
      "Epoch: 7/15, Accuracy: 71.21%, Train loss: 0.0009, Val loss: 0.6506\n",
      "Epoch: 8/15, Accuracy: 71.89%, Train loss: 0.0008, Val loss: 0.6044\n",
      "Epoch: 9/15, Accuracy: 77.01%, Train loss: 0.0008, Val loss: 0.4525\n",
      "Epoch: 10/15, Accuracy: 73.85%, Train loss: 0.0007, Val loss: 0.5558\n",
      "Epoch: 11/15, Accuracy: 76.32%, Train loss: 0.0007, Val loss: 0.4555\n",
      "Epoch: 12/15, Accuracy: 78.14%, Train loss: 0.0007, Val loss: 0.4038\n",
      "Epoch: 13/15, Accuracy: 79.36%, Train loss: 0.0007, Val loss: 0.3640\n",
      "Epoch: 14/15, Accuracy: 78.72%, Train loss: 0.0006, Val loss: 0.3847\n",
      "Epoch: 15/15, Accuracy: 77.80%, Train loss: 0.0006, Val loss: 0.4082\n"
     ]
    },
    {
     "data": {
      "image/png": "[encoded data removed]",
      "text/plain": [
       "<Figure size 640x480 with 1 Axes>"
      ]
     },
     "metadata": {},
     "output_type": "display_data"
    }
   ],
   "source": [
    "new_accuracy, new_train_loss, new_val_loss = kd.train_kd(train_loader, val_loader, conf[\"epochs\"])\n",
    "plot_data(accuracy, type=\"Accuracy\", title=\"Model Accuracy\")\n"
   ]
  },
  {
   "cell_type": "code",
   "execution_count": 17,
   "id": "784cd7df",
   "metadata": {},
   "outputs": [
    {
     "name": "stdout",
     "output_type": "stream",
     "text": [
      "Accuracy: 77.63%, Test loss: 0.4139\n"
     ]
    }
   ],
   "source": [
    "new_test_loss, new_test_acc = new_student.evaluate(test_loader)\n",
    "print(f\"Accuracy: {100*new_test_acc:.2f}%, Test loss: {new_test_loss:.4f}\")"
   ]
  },
  {
   "cell_type": "code",
   "execution_count": 16,
   "id": "f2e91f66",
   "metadata": {},
   "outputs": [
    {
     "name": "stdout",
     "output_type": "stream",
     "text": [
      "Checkpoint saved at /home/jorgetf/testmodel/Network-Packet-ML-Model/checkpoint/light_mlp_model.pth\n"
     ]
    }
   ],
   "source": [
    "new_checkpoint_path = os.path.join(os.getcwd().replace(\"distilled_models\", \"\"), \"checkpoint\", \"light_mlp_model.pth\")\n",
    "new_student.save(new_checkpoint_path)"
   ]
  }
 ],
 "metadata": {
  "kernelspec": {
   "display_name": ".venv",
   "language": "python",
   "name": "python3"
  },
  "language_info": {
   "codemirror_mode": {
    "name": "ipython",
    "version": 3
   },
   "file_extension": ".py",
   "mimetype": "text/x-python",
   "name": "python",
   "nbconvert_exporter": "python",
   "pygments_lexer": "ipython3",
   "version": "3.10.12"
  }
 },
 "nbformat": 4,
 "nbformat_minor": 5
}
