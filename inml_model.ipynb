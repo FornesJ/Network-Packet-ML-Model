{
 "cells": [
  {
   "cell_type": "code",
   "execution_count": null,
   "id": "704de5ad",
   "metadata": {},
   "outputs": [],
   "source": [
    "import torch\n",
    "import torch.nn as nn\n",
    "from torch.utils.data import DataLoader\n",
    "import polars as pl"
   ]
  },
  {
   "cell_type": "code",
   "execution_count": 2,
   "id": "016983ef",
   "metadata": {},
   "outputs": [
    {
     "name": "stdout",
     "output_type": "stream",
     "text": [
      "shape: (1_187_781, 2)\n",
      "┌─────────────────────────────────┬─────────────┐\n",
      "│ packet_dat                      ┆ attack_cat  │\n",
      "│ ---                             ┆ ---         │\n",
      "│ str                             ┆ str         │\n",
      "╞═════════════════════════════════╪═════════════╡\n",
      "│ 0 0 141 -1 80 63713 2960 2920 … ┆ DDoS        │\n",
      "│ 1190 1582 3526815 -1 80 50095 … ┆ Normal      │\n",
      "│ 0 0 4 -1 80 41471 4420 4380 64… ┆ DDoS        │\n",
      "│ 0 0 176 -1 80 45284 2948 2896 … ┆ DoS Hulk    │\n",
      "│ 0 0 128 -1 80 46654 1500 1448 … ┆ DoS Hulk    │\n",
      "│ …                               ┆ …           │\n",
      "│ 14492 14492 0 -1 51328 22 164 … ┆ SSH Patator │\n",
      "│ 14 98 131788 -1 80 52067 1500 … ┆ DoS         │\n",
      "│ 1 2 397 -1 47188 22 692 640 62… ┆ SSH Patator │\n",
      "│ 2063 0 0 -1 80 32768 1500 1448… ┆ DoS Hulk    │\n",
      "│ 1 1 34 -1 56628 21 78 26 62 0 … ┆ FTP Patator │\n",
      "└─────────────────────────────────┴─────────────┘\n"
     ]
    }
   ],
   "source": [
    "# load network dataset\n",
    "splits = {'train': 'train.csv', 'test': 'test.csv'}\n",
    "ds_test = pl.read_csv('hf://datasets/rdpahalavan/network-packet-flow-header-payload/' + splits['train'])\n",
    "print(ds_test)"
   ]
  },
  {
   "cell_type": "code",
   "execution_count": 3,
   "id": "4896ba41",
   "metadata": {},
   "outputs": [
    {
     "name": "stdout",
     "output_type": "stream",
     "text": [
      "shape: (1, 2)\n",
      "┌─────────────────────────────────┬────────────┐\n",
      "│ packet_dat                      ┆ attack_cat │\n",
      "│ ---                             ┆ ---        │\n",
      "│ str                             ┆ str        │\n",
      "╞═════════════════════════════════╪════════════╡\n",
      "│ 0 0 141 -1 80 63713 2960 2920 … ┆ DDoS       │\n",
      "└─────────────────────────────────┴────────────┘\n",
      "shape: (1,)\n",
      "Series: 'packet_dat' [str]\n",
      "[\n",
      "\t\"0 0 141 -1 80 63713 2960 2920 …\n",
      "]\n",
      "shape: (1,)\n",
      "Series: 'attack_cat' [str]\n",
      "[\n",
      "\t\"DDoS\"\n",
      "]\n"
     ]
    }
   ],
   "source": [
    "sample = ds_test[0]   # first row\n",
    "print(sample)\n",
    "print(sample[\"packet_dat\"])  # torch.Tensor\n",
    "print(sample[\"attack_cat\"])  # torch.Tensor"
   ]
  },
  {
   "cell_type": "code",
   "execution_count": 4,
   "id": "7cb43920",
   "metadata": {},
   "outputs": [],
   "source": [
    "def get_label_categories(labels):\n",
    "    counter = 0\n",
    "    categories = {}\n",
    "    for label in labels:\n",
    "        if label not in categories:\n",
    "            categories[label] = counter\n",
    "            counter += 1\n",
    "    return categories"
   ]
  },
  {
   "cell_type": "code",
   "execution_count": 5,
   "id": "f79f9ca0",
   "metadata": {},
   "outputs": [
    {
     "name": "stdout",
     "output_type": "stream",
     "text": [
      "{'DDoS': 0, 'Normal': 1, 'DoS Hulk': 2, 'DoS': 3, 'Bot': 4, 'Exploits': 5, 'Fuzzers': 6, 'Reconnaissance': 7, 'Web Attack - XSS': 8, 'Heartbleed': 9, 'SSH Patator': 10, 'DoS SlowHTTPTest': 11, 'FTP Patator': 12, 'Generic': 13, 'Web Attack - Brute Force': 14, 'DoS GoldenEye': 15, 'Analysis': 16, 'Worms': 17, 'Infiltration': 18, 'DoS Slowloris': 19, 'Shellcode': 20, 'Backdoor': 21, 'Port Scan': 22, 'Web Attack - SQL Injection': 23}\n"
     ]
    }
   ],
   "source": [
    "categories = get_label_categories(ds_test[\"attack_cat\"])\n",
    "print(categories)"
   ]
  },
  {
   "cell_type": "code",
   "execution_count": 8,
   "id": "79902d98",
   "metadata": {},
   "outputs": [],
   "source": [
    "ds_test_tesnors = []\n",
    "\n",
    "\n",
    "for sid in range(len(ds_test)):\n",
    "    sample = ds_test[sid]\n",
    "    # get strings from sample\n",
    "    example = sample[\"packet_dat\"][0].split()\n",
    "    name = sample[\"attack_cat\"][0]\n",
    "\n",
    "    # parse string to floats or attack cat id\n",
    "    floats = [float(string) for string in example]\n",
    "    id = categories[name]\n",
    "\n",
    "    sample_dict = {\n",
    "        \"packet_tensor\": torch.tensor(floats, dtype=torch.float), \n",
    "        \"attack_tensor\": torch.tensor(id, dtype=torch.int64)\n",
    "    }\n",
    "\n",
    "    ds_test_tesnors.append(sample_dict)\n"
   ]
  },
  {
   "cell_type": "code",
   "execution_count": 9,
   "id": "7a63d82a",
   "metadata": {},
   "outputs": [],
   "source": [
    "# student model\n",
    "class LightMLP(nn.Module):\n",
    "    def __init__(self):\n",
    "        super().__init__()\n",
    "        self.fc1 = nn.Linear(513, 32)\n",
    "        self.output = nn.Linear(32, 24)\n",
    "\n",
    "    def forward(self, x):\n",
    "        x = torch.relu(self.fc1(x))\n",
    "        out = self.output(x)\n",
    "\n",
    "        return out"
   ]
  },
  {
   "cell_type": "code",
   "execution_count": 10,
   "id": "ba774437",
   "metadata": {},
   "outputs": [],
   "source": [
    "test_loader = DataLoader(ds_test_tesnors, batch_size=32)"
   ]
  },
  {
   "cell_type": "code",
   "execution_count": 11,
   "id": "14cee887",
   "metadata": {},
   "outputs": [],
   "source": [
    "def test(model, test_loader, criterion):\n",
    "    model.eval()\n",
    "    test_loss = 0.0\n",
    "    correct = 0\n",
    "    total = 0\n",
    "\n",
    "    with torch.no_grad():\n",
    "        for batch in test_loader:\n",
    "            inputs = batch[\"packet_tensor\"]   # tensor of shape [B, L]\n",
    "            labels = batch[\"attack_tensor\"]   # true attack category labels\n",
    "            \n",
    "            # Forward pass\n",
    "            predicted = model(inputs)\n",
    "            loss = criterion(predicted, labels)\n",
    "            test_loss += loss.item() * inputs.size(0)\n",
    "\n",
    "            # calculate accuracy\n",
    "            total += labels.size(0)\n",
    "            correct += (predicted.argmax(dim=1) == labels).sum().item()\n",
    "\n",
    "    accuracy = 100 * correct / total\n",
    "    print(f\"Test Loss: {test_loss:.2f}, Test Accuracy: {accuracy:.2f}\")\n",
    "    return accuracy"
   ]
  },
  {
   "cell_type": "code",
   "execution_count": 12,
   "id": "82535ff3",
   "metadata": {},
   "outputs": [],
   "source": [
    "torch.manual_seed(42)\n",
    "model = LightMLP()\n",
    "criterion = nn.CrossEntropyLoss()\n",
    "optimizer = torch.optim.SGD(model.parameters(), lr=0.0001)"
   ]
  },
  {
   "cell_type": "code",
   "execution_count": 13,
   "id": "a26984f1",
   "metadata": {},
   "outputs": [
    {
     "name": "stdout",
     "output_type": "stream",
     "text": [
      "Checkpoint loaded from /home/ubuntu/Network-Packet-ML-Model/checkpoint/checkpoint.pth, starting from epoch 3\n"
     ]
    }
   ],
   "source": [
    "# load model\n",
    "checkpoint_path = \"/home/ubuntu/Network-Packet-ML-Model/checkpoint/checkpoint.pth\"\n",
    "\n",
    "checkpoint = torch.load(checkpoint_path, map_location=torch.device('cpu'))\n",
    "\n",
    "model.load_state_dict(checkpoint['model_state_dict'])\n",
    "optimizer.load_state_dict(checkpoint['optimizer_state_dict'])\n",
    "epoch = checkpoint['epoch']\n",
    "\n",
    "print(f\"Checkpoint loaded from {checkpoint_path}, starting from epoch {epoch}\")"
   ]
  },
  {
   "cell_type": "code",
   "execution_count": 14,
   "id": "5bcd3cb0",
   "metadata": {},
   "outputs": [
    {
     "name": "stdout",
     "output_type": "stream",
     "text": [
      "Test Loss: 79990365.19, Test Accuracy: 70.57\n"
     ]
    }
   ],
   "source": [
    "test_accuracy = test(model, test_loader, criterion=criterion)"
   ]
  }
 ],
 "metadata": {
  "kernelspec": {
   "display_name": "Python 3",
   "language": "python",
   "name": "python3"
  },
  "language_info": {
   "codemirror_mode": {
    "name": "ipython",
    "version": 3
   },
   "file_extension": ".py",
   "mimetype": "text/x-python",
   "name": "python",
   "nbconvert_exporter": "python",
   "pygments_lexer": "ipython3",
   "version": "3.10.12"
  }
 },
 "nbformat": 4,
 "nbformat_minor": 5
}
